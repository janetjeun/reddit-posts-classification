{
 "cells": [
  {
   "cell_type": "markdown",
   "id": "856ec6a7-0a82-4dd1-a061-8e5aa0759660",
   "metadata": {},
   "source": [
    "<img src=\"http://imgur.com/1ZcRyrc.png\" style=\"float: left; margin: 20px; height: 55px\">\n",
    "\n",
    "# Project 3: Classification Model Analysis <br>\n",
    "**Notebook 4: Sentiment Analysis, Conclusion & Recommendation**"
   ]
  },
  {
   "cell_type": "markdown",
   "id": "d94c5c0b-9f0c-4268-bf2e-7d71808e365e",
   "metadata": {
    "tags": []
   },
   "source": [
    "## TABLE OF CONTENTS"
   ]
  },
  {
   "cell_type": "markdown",
   "id": "c3dae6da-938d-420d-b7e4-2a1da5d8bad8",
   "metadata": {
    "tags": []
   },
   "source": [
    "**1. Web Scrapping** <br>\n",
    "**2. Data Cleaning & EDA** <br>\n",
    "**3. Modelling, Hyper-parameter tuning, Model Selection** <br>\n",
    "**4. Sentiment Analysis, Conclusion & Recommendation (This Notebook)** <br>\n",
    "\n",
    "- [01. Library & Datasets](#01.-LIBRARY-&-DATASETS) <br>\n",
    "- [02. Function](#02.-FUNCTION) <br>\n",
    "- [03. Webscraping](#03.-WEBSCRAPING) <br>\n",
    "- [04. Export Scrapped Data](#04.-EXPORT-SCRAPPED-DATA) <br>"
   ]
  },
  {
   "cell_type": "markdown",
   "id": "9c003501-e1f5-453b-bc5f-0e4d2e692878",
   "metadata": {
    "tags": []
   },
   "source": [
    "# 01. LIBRARY & DATA IMPORT"
   ]
  },
  {
   "cell_type": "code",
   "execution_count": 3,
   "id": "61827ee2-f18f-40f7-ab64-cdaa16214bd2",
   "metadata": {},
   "outputs": [],
   "source": [
    "import pandas as pd\n",
    "import matplotlib.pyplot as plt\n",
    "import seaborn as sns\n",
    "import numpy as np\n",
    "import re\n",
    "from tqdm import tqdm \n",
    "#from transformers import pipeline\n",
    "\n",
    "from nltk.sentiment.vader import SentimentIntensityAnalyzer\n",
    "\n",
    "from sklearn.model_selection import train_test_split, GridSearchCV\n",
    "from sklearn.pipeline import Pipeline\n",
    "\n",
    "from sklearn.metrics import plot_roc_curve, roc_auc_score, accuracy_score, f1_score\n",
    "\n",
    "pd.set_option('display.max_columns', None)\n",
    "tqdm.pandas()"
   ]
  },
  {
   "cell_type": "code",
   "execution_count": 4,
   "id": "b6c86388-1d80-416d-b1f1-d2bb296eadac",
   "metadata": {},
   "outputs": [],
   "source": [
    "sci = pd.read_csv('../datasets/science_cleaned_df.csv')\n",
    "phi = pd.read_csv('../datasets/philosophy_cleaned_df.csv')"
   ]
  },
  {
   "cell_type": "markdown",
   "id": "4327a2d7-2e57-47bb-aec6-06de6da74315",
   "metadata": {
    "tags": []
   },
   "source": [
    "# 02. SENTIMENT ANALYSIS"
   ]
  },
  {
   "cell_type": "markdown",
   "id": "7e02adab-d458-40ac-96d2-60e5bb5cc061",
   "metadata": {},
   "source": [
    "Analyze the sentiment analysis from each of the subreddits - Science and Philosopy, as well as the major topic from each subreddit - Covid 19 (Science) and Meaning of Life (Philosophy). The initial hypothesis is that the overall Science & Philosophy sentiment will be neutral as most of the datas are stating facts, however, we might see a positive or negative sentiments in Covid19 & Meaning of Life."
   ]
  },
  {
   "cell_type": "markdown",
   "id": "a1c58dc7-3d7b-4dcc-aef8-6f625fdf29e9",
   "metadata": {},
   "source": [
    "## a. Overall Sentiment (Vader)"
   ]
  },
  {
   "cell_type": "code",
   "execution_count": 5,
   "id": "2ed76f80-74ef-45dc-9d0d-848281ffbffb",
   "metadata": {},
   "outputs": [],
   "source": [
    "sci.drop(sci.loc[sci['message'].isnull(), ].index, inplace = True)\n",
    "phi.drop(phi.loc[phi['message'].isnull(), ].index, inplace = True)"
   ]
  },
  {
   "cell_type": "code",
   "execution_count": 6,
   "id": "f05eb6b9-f53c-42f6-9733-46db42129d07",
   "metadata": {},
   "outputs": [],
   "source": [
    "sent = SentimentIntensityAnalyzer()"
   ]
  },
  {
   "cell_type": "code",
   "execution_count": 7,
   "id": "36d223ea-397c-4ef2-bd7c-91223fccfd2a",
   "metadata": {},
   "outputs": [],
   "source": [
    "def vader_sentiment_pred(review):\n",
    "    vader_output = sent.polarity_scores(review)\n",
    "    \n",
    "    if vader_output['compound'] >= 0.05: #positive\n",
    "        return 1 \n",
    "    elif vader_output['compound'] <= -0.05: #negative\n",
    "        return -1\n",
    "    else: #neutral\n",
    "        return 0"
   ]
  },
  {
   "cell_type": "code",
   "execution_count": 8,
   "id": "6c7faff4-9ffe-492d-8e65-741304ee3c03",
   "metadata": {},
   "outputs": [
    {
     "name": "stderr",
     "output_type": "stream",
     "text": [
      "100%|██████████| 23698/23698 [00:26<00:00, 894.45it/s] \n"
     ]
    },
    {
     "data": {
      "text/html": [
       "<div>\n",
       "<style scoped>\n",
       "    .dataframe tbody tr th:only-of-type {\n",
       "        vertical-align: middle;\n",
       "    }\n",
       "\n",
       "    .dataframe tbody tr th {\n",
       "        vertical-align: top;\n",
       "    }\n",
       "\n",
       "    .dataframe thead th {\n",
       "        text-align: right;\n",
       "    }\n",
       "</style>\n",
       "<table border=\"1\" class=\"dataframe\">\n",
       "  <thead>\n",
       "    <tr style=\"text-align: right;\">\n",
       "      <th></th>\n",
       "      <th>subreddit</th>\n",
       "      <th>ori_message</th>\n",
       "      <th>message</th>\n",
       "      <th>sentiment</th>\n",
       "    </tr>\n",
       "  </thead>\n",
       "  <tbody>\n",
       "    <tr>\n",
       "      <th>0</th>\n",
       "      <td>science</td>\n",
       "      <td>2022 Nobel Prize in Physiology or Medicine to Svante Pääbo for his discoveries concerning the genomes of extinct hominins and human evolution</td>\n",
       "      <td>2022 nobel prize physiolog medicin svant pääbo discoveri concern genom extinct hominin human evolut</td>\n",
       "      <td>1</td>\n",
       "    </tr>\n",
       "    <tr>\n",
       "      <th>1</th>\n",
       "      <td>science</td>\n",
       "      <td>India vs South Africa 2nd T20</td>\n",
       "      <td>india vs south africa 2nd t20</td>\n",
       "      <td>0</td>\n",
       "    </tr>\n",
       "    <tr>\n",
       "      <th>2</th>\n",
       "      <td>science</td>\n",
       "      <td>Want a better relationship with your dog? These 7 factors are key</td>\n",
       "      <td>want better relationship dog 7 factor key</td>\n",
       "      <td>1</td>\n",
       "    </tr>\n",
       "    <tr>\n",
       "      <th>3</th>\n",
       "      <td>science</td>\n",
       "      <td>Record avian flu outbreak sees 48m birds culled in UK and EU</td>\n",
       "      <td>record avian flu outbreak see 48m bird cull uk eu</td>\n",
       "      <td>-1</td>\n",
       "    </tr>\n",
       "    <tr>\n",
       "      <th>4</th>\n",
       "      <td>science</td>\n",
       "      <td>In this review article, we focus on the effect of oxidized fatty acids deriving from linoleic acid(a common fatty acid in vegetable seed oils) and arachidonic acid on the pathogenesis and progression of NAFLD in youth.</td>\n",
       "      <td>review articl focu effect oxid fatti acid deriv linol acid common fatti acid veget seed oil arachidon acid pathogenesi progress nafld youth</td>\n",
       "      <td>0</td>\n",
       "    </tr>\n",
       "  </tbody>\n",
       "</table>\n",
       "</div>"
      ],
      "text/plain": [
       "  subreddit  \\\n",
       "0   science   \n",
       "1   science   \n",
       "2   science   \n",
       "3   science   \n",
       "4   science   \n",
       "\n",
       "                                                                                                                                                                                                                  ori_message  \\\n",
       "0                                                                               2022 Nobel Prize in Physiology or Medicine to Svante Pääbo for his discoveries concerning the genomes of extinct hominins and human evolution   \n",
       "1                                                                                                                                                                                               India vs South Africa 2nd T20   \n",
       "2                                                                                                                                                           Want a better relationship with your dog? These 7 factors are key   \n",
       "3                                                                                                                                                                Record avian flu outbreak sees 48m birds culled in UK and EU   \n",
       "4  In this review article, we focus on the effect of oxidized fatty acids deriving from linoleic acid(a common fatty acid in vegetable seed oils) and arachidonic acid on the pathogenesis and progression of NAFLD in youth.   \n",
       "\n",
       "                                                                                                                                       message  \\\n",
       "0                                          2022 nobel prize physiolog medicin svant pääbo discoveri concern genom extinct hominin human evolut   \n",
       "1                                                                                                                india vs south africa 2nd t20   \n",
       "2                                                                                                    want better relationship dog 7 factor key   \n",
       "3                                                                                            record avian flu outbreak see 48m bird cull uk eu   \n",
       "4  review articl focu effect oxid fatti acid deriv linol acid common fatti acid veget seed oil arachidon acid pathogenesi progress nafld youth   \n",
       "\n",
       "   sentiment  \n",
       "0          1  \n",
       "1          0  \n",
       "2          1  \n",
       "3         -1  \n",
       "4          0  "
      ]
     },
     "execution_count": 8,
     "metadata": {},
     "output_type": "execute_result"
    }
   ],
   "source": [
    "pd.set_option('display.max_colwidth', None)\n",
    "sci['sentiment'] = sci['ori_message'].progress_apply(vader_sentiment_pred)\n",
    "sci.head()"
   ]
  },
  {
   "cell_type": "code",
   "execution_count": 9,
   "id": "7290bd8f-1c7a-4a6f-877d-ed5e8699cb8e",
   "metadata": {},
   "outputs": [
    {
     "name": "stderr",
     "output_type": "stream",
     "text": [
      "100%|██████████| 18113/18113 [00:11<00:00, 1540.95it/s]\n"
     ]
    },
    {
     "data": {
      "text/html": [
       "<div>\n",
       "<style scoped>\n",
       "    .dataframe tbody tr th:only-of-type {\n",
       "        vertical-align: middle;\n",
       "    }\n",
       "\n",
       "    .dataframe tbody tr th {\n",
       "        vertical-align: top;\n",
       "    }\n",
       "\n",
       "    .dataframe thead th {\n",
       "        text-align: right;\n",
       "    }\n",
       "</style>\n",
       "<table border=\"1\" class=\"dataframe\">\n",
       "  <thead>\n",
       "    <tr style=\"text-align: right;\">\n",
       "      <th></th>\n",
       "      <th>subreddit</th>\n",
       "      <th>ori_message</th>\n",
       "      <th>message</th>\n",
       "      <th>sentiment</th>\n",
       "    </tr>\n",
       "  </thead>\n",
       "  <tbody>\n",
       "    <tr>\n",
       "      <th>0</th>\n",
       "      <td>philosophy</td>\n",
       "      <td>New Razor</td>\n",
       "      <td>new razor</td>\n",
       "      <td>0</td>\n",
       "    </tr>\n",
       "    <tr>\n",
       "      <th>1</th>\n",
       "      <td>philosophy</td>\n",
       "      <td>A new tradition is detected in academic philosophy. In addition to \"analytic\" and \"continental\" traditions, a science-oriented tradition emerged (e.g., philosophy of science and experimental philosophy)—and its graduates seem to have better odds of getting a permanent position in academia!</td>\n",
       "      <td>new tradit detect academ philosophi addit analyt continent tradit scienc orient tradit emerg e g philosophi scienc experiment philosophi graduat seem better odd get perman posit academia</td>\n",
       "      <td>1</td>\n",
       "    </tr>\n",
       "    <tr>\n",
       "      <th>2</th>\n",
       "      <td>philosophy</td>\n",
       "      <td>Eilish McColgan breaks her own European 10K record in Great North Run</td>\n",
       "      <td>eilish mccolgan break european 10k record great north run</td>\n",
       "      <td>1</td>\n",
       "    </tr>\n",
       "    <tr>\n",
       "      <th>3</th>\n",
       "      <td>philosophy</td>\n",
       "      <td>The Agents of Justice</td>\n",
       "      <td>agent justic</td>\n",
       "      <td>1</td>\n",
       "    </tr>\n",
       "    <tr>\n",
       "      <th>4</th>\n",
       "      <td>philosophy</td>\n",
       "      <td>Philosophy about best friends. It explains whether our best friends are really special or it is just an illusion.</td>\n",
       "      <td>philosophi best friend explain whether best friend realli special just illus</td>\n",
       "      <td>1</td>\n",
       "    </tr>\n",
       "  </tbody>\n",
       "</table>\n",
       "</div>"
      ],
      "text/plain": [
       "    subreddit  \\\n",
       "0  philosophy   \n",
       "1  philosophy   \n",
       "2  philosophy   \n",
       "3  philosophy   \n",
       "4  philosophy   \n",
       "\n",
       "                                                                                                                                                                                                                                                                                          ori_message  \\\n",
       "0                                                                                                                                                                                                                                                                                           New Razor   \n",
       "1  A new tradition is detected in academic philosophy. In addition to \"analytic\" and \"continental\" traditions, a science-oriented tradition emerged (e.g., philosophy of science and experimental philosophy)—and its graduates seem to have better odds of getting a permanent position in academia!   \n",
       "2                                                                                                                                                                                                                               Eilish McColgan breaks her own European 10K record in Great North Run   \n",
       "3                                                                                                                                                                                                                                                                               The Agents of Justice   \n",
       "4                                                                                                                                                                                   Philosophy about best friends. It explains whether our best friends are really special or it is just an illusion.   \n",
       "\n",
       "                                                                                                                                                                                      message  \\\n",
       "0                                                                                                                                                                                   new razor   \n",
       "1  new tradit detect academ philosophi addit analyt continent tradit scienc orient tradit emerg e g philosophi scienc experiment philosophi graduat seem better odd get perman posit academia   \n",
       "2                                                                                                                                   eilish mccolgan break european 10k record great north run   \n",
       "3                                                                                                                                                                                agent justic   \n",
       "4                                                                                                                philosophi best friend explain whether best friend realli special just illus   \n",
       "\n",
       "   sentiment  \n",
       "0          0  \n",
       "1          1  \n",
       "2          1  \n",
       "3          1  \n",
       "4          1  "
      ]
     },
     "execution_count": 9,
     "metadata": {},
     "output_type": "execute_result"
    }
   ],
   "source": [
    "phi['sentiment'] = phi['ori_message'].progress_apply(vader_sentiment_pred)\n",
    "phi.head()"
   ]
  },
  {
   "cell_type": "code",
   "execution_count": 10,
   "id": "51cb865e-3eda-4ddd-9d8d-6c041402f480",
   "metadata": {},
   "outputs": [
    {
     "data": {
      "image/png": "[encoded data removed]",
      "text/plain": [
       "<Figure size 1500x600 with 2 Axes>"
      ]
     },
     "metadata": {},
     "output_type": "display_data"
    }
   ],
   "source": [
    "fig, ax = plt.subplots(1, 2, figsize=(15,6))\n",
    "\n",
    "ax1 = sns.countplot(x = sci['sentiment'], ax = ax[0])\n",
    "ax1.set_title('Science Reddit Sentiment Analysis')\n",
    "ax1.set_xticklabels(['Negative','Neutral','Positive'])\n",
    "\n",
    "ax2 = sns.countplot(x = phi['sentiment'], ax = ax[1])\n",
    "ax2.set_title('Philosophy Reddit Sentiment Analysis')\n",
    "ax2.set_xticklabels(['Negative','Neutral','Positive'])\n",
    "\n",
    "plt.show();"
   ]
  },
  {
   "cell_type": "markdown",
   "id": "171ce1e6-c298-49d7-843a-003814dd1737",
   "metadata": {},
   "source": [
    "## b. Science - Covid19 (HuggingFace)"
   ]
  },
  {
   "cell_type": "code",
   "execution_count": null,
   "id": "be52690f-6176-478c-a1b8-747a5a97ad03",
   "metadata": {},
   "outputs": [],
   "source": [
    "covid19 = sci[sci['message'].str.contains('covid')].copy()\n",
    "covid19.drop(columns = ['sentiment'], inplace = True)"
   ]
  },
  {
   "cell_type": "code",
   "execution_count": null,
   "id": "d71bf3f9-618f-447c-94c0-56eda2b5d725",
   "metadata": {},
   "outputs": [],
   "source": [
    "covid19.info()"
   ]
  },
  {
   "cell_type": "code",
   "execution_count": null,
   "id": "0b630a44-fd9f-4e7b-ad81-30dd1beb517b",
   "metadata": {},
   "outputs": [],
   "source": [
    "covid19.head()"
   ]
  },
  {
   "cell_type": "markdown",
   "id": "b03f9afe-649d-47e5-8444-8cde35427d11",
   "metadata": {},
   "source": [
    "https://huggingface.co/cardiffnlp/twitter-roberta-base-sentiment-latest"
   ]
  },
  {
   "cell_type": "code",
   "execution_count": null,
   "id": "741ccf3a-2306-4ae0-b57f-c7c58f714986",
   "metadata": {},
   "outputs": [],
   "source": [
    "senti = pipeline(\"sentiment-analysis\", model=\"cardiffnlp/twitter-roberta-base-sentiment-latest\")"
   ]
  },
  {
   "cell_type": "code",
   "execution_count": null,
   "id": "9e6b7bbb-9d94-41d7-ad33-ae83276a3e62",
   "metadata": {},
   "outputs": [],
   "source": [
    "covid19['sentiment'] = covid19['ori_message'].progress_apply(senti)"
   ]
  },
  {
   "cell_type": "code",
   "execution_count": null,
   "id": "91b1d837-2984-4dbe-90e8-475a7112e1dd",
   "metadata": {},
   "outputs": [],
   "source": [
    "covid19['label'] = [senti[0]['label'] for senti in covid19['sentiment']]"
   ]
  },
  {
   "cell_type": "code",
   "execution_count": null,
   "id": "bf858dd0-36d4-4204-9ea5-33ec2843669c",
   "metadata": {},
   "outputs": [],
   "source": [
    "# Overview of negative covid19 posts\n",
    "covid19[covid19['label'] == 'Negative'][['ori_message', 'label']].head(3)"
   ]
  },
  {
   "cell_type": "code",
   "execution_count": null,
   "id": "2761cc82-1854-45f4-8037-9d06d1534bce",
   "metadata": {},
   "outputs": [],
   "source": [
    "# Overview of neutral covid19 posts\n",
    "covid19[covid19['label'] == 'Neutral'][['ori_message', 'label']].head(3)"
   ]
  },
  {
   "cell_type": "code",
   "execution_count": null,
   "id": "b590e136-c52e-4ef9-9d13-5c8db12b1aaf",
   "metadata": {},
   "outputs": [],
   "source": [
    "# Overview of neutral covid19 posts\n",
    "covid19[covid19['label'] == 'Positive'][['ori_message', 'label']].head(3)"
   ]
  },
  {
   "cell_type": "code",
   "execution_count": null,
   "id": "0a8b20ec-bddf-46df-8af3-9b5f9dfc6fba",
   "metadata": {},
   "outputs": [],
   "source": [
    "covid19['label'].value_counts(normalize=True)"
   ]
  },
  {
   "cell_type": "code",
   "execution_count": null,
   "id": "48a0e9bd-bfdc-43a8-a0c0-6762a04ef3f1",
   "metadata": {},
   "outputs": [],
   "source": [
    "sns.countplot(x = covid19['label'])\n",
    "\n",
    "plt.show();"
   ]
  },
  {
   "cell_type": "markdown",
   "id": "653ff95f-fd0b-4abc-a669-f82d92c11456",
   "metadata": {},
   "source": [
    "## c. Philosophy - Meaning of Life (HuggingFace)"
   ]
  },
  {
   "cell_type": "code",
   "execution_count": null,
   "id": "42718135-0856-4370-9385-3a772f8499e5",
   "metadata": {},
   "outputs": [],
   "source": [
    "life = phi[phi['message'].str.contains('life')].copy()\n",
    "life.drop(columns = ['sentiment'], inplace = True)"
   ]
  },
  {
   "cell_type": "code",
   "execution_count": null,
   "id": "f0de426b-46d8-44ae-9048-60aaa788a8ae",
   "metadata": {},
   "outputs": [],
   "source": [
    "life.info()"
   ]
  },
  {
   "cell_type": "code",
   "execution_count": null,
   "id": "d08e5b0b-41bc-4630-b826-f74cbd7535ba",
   "metadata": {},
   "outputs": [],
   "source": [
    "life.head()"
   ]
  },
  {
   "cell_type": "code",
   "execution_count": null,
   "id": "d3d1454d-fc9a-4a6b-b1eb-92c20f5254ed",
   "metadata": {},
   "outputs": [],
   "source": [
    "life['sentiment'] = life['ori_message'].progress_apply(senti)"
   ]
  },
  {
   "cell_type": "code",
   "execution_count": null,
   "id": "9a6de80c-6a19-4cd0-adcd-d785ac7d5c48",
   "metadata": {},
   "outputs": [],
   "source": [
    "life['label'] = [senti[0]['label'] for senti in life['sentiment']]"
   ]
  },
  {
   "cell_type": "code",
   "execution_count": null,
   "id": "7d8120d6-8d63-49fd-a180-ab4c45900d96",
   "metadata": {},
   "outputs": [],
   "source": [
    "# Overview of negative life posts\n",
    "life[life['label'] == 'Negative'][['ori_message', 'label']].head(3)"
   ]
  },
  {
   "cell_type": "code",
   "execution_count": null,
   "id": "79aca22d-1a41-4675-9c79-837cfe4afdcf",
   "metadata": {},
   "outputs": [],
   "source": [
    "# Overview of neutral life posts\n",
    "life[life['label'] == 'Neutral'][['ori_message', 'label']].head(3)"
   ]
  },
  {
   "cell_type": "code",
   "execution_count": null,
   "id": "c81bf8f0-39e1-42f8-9a94-3d0e9dc9dae1",
   "metadata": {},
   "outputs": [],
   "source": [
    "# Overview of positive life posts\n",
    "life[life['label'] == 'Positive'][['ori_message', 'label']].head(3)"
   ]
  },
  {
   "cell_type": "code",
   "execution_count": null,
   "id": "f53097f3-1c88-4b42-a500-475e82e99601",
   "metadata": {},
   "outputs": [],
   "source": [
    "life['label'].value_counts(normalize=True)"
   ]
  },
  {
   "cell_type": "code",
   "execution_count": null,
   "id": "93f750e5-e045-4a47-a47c-c505445bae4f",
   "metadata": {},
   "outputs": [],
   "source": [
    "sns.countplot(x = life['label'])\n",
    "\n",
    "plt.show();"
   ]
  },
  {
   "cell_type": "code",
   "execution_count": null,
   "id": "ff3f55e2-348d-416c-8301-071b3f708bc5",
   "metadata": {},
   "outputs": [],
   "source": []
  }
 ],
 "metadata": {
  "kernelspec": {
   "display_name": "Python [conda env:dsi-sg]",
   "language": "python",
   "name": "conda-env-dsi-sg-py"
  },
  "language_info": {
   "codemirror_mode": {
    "name": "ipython",
    "version": 3
   },
   "file_extension": ".py",
   "mimetype": "text/x-python",
   "name": "python",
   "nbconvert_exporter": "python",
   "pygments_lexer": "ipython3",
   "version": "3.8.13"
  }
 },
 "nbformat": 4,
 "nbformat_minor": 5
}
