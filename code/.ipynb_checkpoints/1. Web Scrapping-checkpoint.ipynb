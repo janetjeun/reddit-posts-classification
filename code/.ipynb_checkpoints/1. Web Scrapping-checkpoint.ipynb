{
 "cells": [
  {
   "cell_type": "markdown",
   "id": "1ac2821d-23a3-4418-8830-616dec57505b",
   "metadata": {},
   "source": [
    "<img src=\"http://imgur.com/1ZcRyrc.png\" style=\"float: left; margin: 20px; height: 55px\">\n",
    "\n",
    "# Project 3: Classification Model Analysis <br>\n",
    "**Notebook 1: Web Scrapping**"
   ]
  },
  {
   "cell_type": "markdown",
   "id": "38287da5-47d7-4c3f-a702-3586c4379b98",
   "metadata": {},
   "source": [
    "# EXECUTIVE SUMMARY"
   ]
  },
  {
   "cell_type": "markdown",
   "id": "50a003df-440e-4f77-a2c4-a66bea6f9356",
   "metadata": {},
   "source": []
  },
  {
   "cell_type": "markdown",
   "id": "2b224c4b-d561-4363-843b-91ac12e3da17",
   "metadata": {
    "tags": []
   },
   "source": [
    "# 00. INTRODUCTION"
   ]
  },
  {
   "cell_type": "markdown",
   "id": "0ccb40e7-b76c-42fc-9cd4-46edc3adc3d1",
   "metadata": {
    "tags": []
   },
   "source": [
    "## BACKGROUND"
   ]
  },
  {
   "cell_type": "markdown",
   "id": "32f496e4-9a77-4a32-8140-751058d68167",
   "metadata": {},
   "source": [
    "Is science a part of philosophy or are they two totally different subjects? Although in current days many people assume that science and philosophy are concepts contradictory to each other, but both subjects share a more positive relationship rather than an animosity. In fact, for roughly 98% of the last 2,500 years of Western intellectual history, science was a part of philosophy. It was then called natural philosophy, but science deviated from philosophy in the 17th century and emerged as a separate study or domain ([*source*](https://archive.nytimes.com/opinionator.blogs.nytimes.com/2012/04/05/philosophy-is-not-a-science/)).\n",
    "\n",
    "The definition of science and philosophy are as follows ([*source*](https://1000wordphilosophy.com/2018/02/13/philosophy-and-its-contrast-with-science/#:~:text=Science%20is%20about%20descriptive%20facts,objects%20(if%20they%20exist))):\n",
    "- Science is about empirical knowledge; philosophy is often about that but is also about a priori knowledge (if it exists).\n",
    "- Science is about contingent facts or truths; philosophy is often about that but is also about necessary truths (if they exist).[5]\n",
    "- Science is about descriptive facts; philosophy is often about that but is also about normative and evaluative truths (if such truths exist).\n",
    "- Science is about physical objects; philosophy is often about that but is also about abstract objects (if they exist)."
   ]
  },
  {
   "cell_type": "markdown",
   "id": "f2d5bb92-568c-45e9-8d39-aa11d8cca661",
   "metadata": {
    "tags": []
   },
   "source": [
    "## PROBLEM STATEMENT"
   ]
  },
  {
   "cell_type": "markdown",
   "id": "4ece5753-c20f-4737-a843-c7a3dc21c1ec",
   "metadata": {},
   "source": [
    "As moderators of Science & Philosophy subreddits with substantial number of members, 28.4 million & 16.9 million respectively, our mission are to:\n",
    "\n",
    "1. Develop a classification model that predicts which category a post belongs to. This will be a great help for us in making sure that topics are posted in the correct subreddit, as well as improving users experience when reading the posts.\n",
    "2. Conduct sentiment analysis to evaluate user's posts. As Science & Philosophy are both factual based subreddits, a neutral and unopinionated posts are to be expected.\n",
    "3. Identify trending topics for each subreddits so that we can pin it on top of our landing page.\n",
    "\n",
    "The baseline of the classification model will be done using Logistic Regression with CountVectorizer and TFIDF Vectorizer, and based on the baseline model performance, Multinomial Naive Bayes, Logistic Regression, Random Forest, and SVM models will be developed with hyperparameter tuning. Model with the highest score will be selected as the final model.\n",
    "\n",
    "Sentiment analysis of the overall Science & Philosophy will be done using Vader, and the further sentiment analysis will be done for the trending topics from each Science & Philosophy subreddits using HuggingFace."
   ]
  },
  {
   "cell_type": "markdown",
   "id": "49d73256-2037-4765-9a11-d557c7890ce7",
   "metadata": {
    "tags": []
   },
   "source": [
    "## DATA COLLECTION"
   ]
  },
  {
   "cell_type": "markdown",
   "id": "16f0a28c-949e-4d28-bc3b-1be9172c7fe5",
   "metadata": {},
   "source": [
    "The data is taken from the following subreddits:\n",
    "1. Science ([*source*](https://www.reddit.com/r/science/))\n",
    "2. Philosophy ([*source*](https://www.reddit.com/r/philosophy/))\n",
    "\n",
    "[*Pushshift API*](https://github.com/pushshift/api) are used to scrape 25000 posts of each subreddits, starting from 4th October 4 2022 0:00:00 SGT backwards."
   ]
  },
  {
   "cell_type": "markdown",
   "id": "f5f9b7e7-3c2a-4dc2-9b47-655b585364ba",
   "metadata": {
    "tags": []
   },
   "source": [
    "## TABLE OF CONTENTS"
   ]
  },
  {
   "cell_type": "markdown",
   "id": "3efe5c36-b277-473e-af5a-459aff964b89",
   "metadata": {
    "tags": []
   },
   "source": [
    "**1. Web Scrapping (This Notebook)** <br>\n",
    "- [01. Library](#01.-LIBRARY) <br>\n",
    "- [02. Function](#02.-FUNCTION) <br>\n",
    "- [03. Webscraping](#03.-WEBSCRAPING) <br>\n",
    "- [04. Export Scrapped Data](#04.-EXPORT-SCRAPPED-DATA) <br>\n",
    "\n",
    "**2. Data Cleaning & EDA** <br>\n",
    "**3. Modelling, Hyper-parameter tuning, Model Selection** <br>\n",
    "**4. Sentiment Analysis, Conclusion & Recommendation** <br>"
   ]
  },
  {
   "cell_type": "markdown",
   "id": "bad32eff-7388-411d-b5f0-186644e7971e",
   "metadata": {
    "tags": []
   },
   "source": [
    "# 01. LIBRARY"
   ]
  },
  {
   "cell_type": "code",
   "execution_count": 11,
   "id": "ec81b68a-fa7a-4b14-9480-85378dda7c7b",
   "metadata": {},
   "outputs": [],
   "source": [
    "import requests\n",
    "import pandas as pd\n",
    "import time\n",
    "import random"
   ]
  },
  {
   "cell_type": "markdown",
   "id": "94ef148a-8923-4ee5-83a6-a00196c00b63",
   "metadata": {
    "tags": []
   },
   "source": [
    "# 02. FUNCTION"
   ]
  },
  {
   "cell_type": "code",
   "execution_count": 2,
   "id": "f14776fc-92f8-4e95-91e6-3ddd05a713e1",
   "metadata": {},
   "outputs": [],
   "source": [
    "# Defining function to scrape informations from subreddit\n",
    "\n",
    "def get_post(subreddit, batch):\n",
    "    url = 'https://api.pushshift.io/reddit/search/submission/'\n",
    "    \n",
    "    params = {\n",
    "            'subreddit': subreddit,\n",
    "            'size': 201,\n",
    "            'before': 1664812800, #October 4,2022 0:00:00 SGT\n",
    "            'sort_type': 'created_utc',\n",
    "            'sort': 'desc'\n",
    "        }\n",
    "    \n",
    "    reddit_subs = []\n",
    "    \n",
    "    for i in range(batch):\n",
    "        res = requests.get(url, params)\n",
    "        if res.status_code!= 200:\n",
    "            print(\"Error\")\n",
    "        else:\n",
    "            data = res.json()['data']\n",
    "            reddit_subs += data\n",
    "            \n",
    "            print(f\"Batch {i+1}/{batch} completed - {len(reddit_subs)} total posts\")\n",
    "            \n",
    "            params['before'] = reddit_subs[-1]['created_utc']\n",
    "            time.sleep((random.randint(5, 10)))\n",
    "            \n",
    "    return reddit_subs"
   ]
  },
  {
   "cell_type": "markdown",
   "id": "28ac4e1b-4e6f-46e1-ab91-24a62bb4eebd",
   "metadata": {},
   "source": [
    "# 03. WEBSCRAPING"
   ]
  },
  {
   "cell_type": "markdown",
   "id": "5f4eab5f-fc6e-4874-ac40-52cda96a38c7",
   "metadata": {},
   "source": [
    "## (i) Subreddit: r/science "
   ]
  },
  {
   "cell_type": "code",
   "execution_count": 3,
   "id": "e6ee568f-86d8-4935-bb22-021c3275e845",
   "metadata": {
    "scrolled": true,
    "tags": []
   },
   "outputs": [
    {
     "name": "stdout",
     "output_type": "stream",
     "text": [
      "Batch 1/125 completed - 200 total posts\n",
      "Batch 2/125 completed - 401 total posts\n",
      "Batch 3/125 completed - 602 total posts\n",
      "Batch 4/125 completed - 803 total posts\n",
      "Batch 5/125 completed - 1004 total posts\n",
      "Batch 6/125 completed - 1205 total posts\n",
      "Batch 7/125 completed - 1406 total posts\n",
      "Batch 8/125 completed - 1607 total posts\n",
      "Batch 9/125 completed - 1807 total posts\n",
      "Batch 10/125 completed - 2008 total posts\n",
      "Batch 11/125 completed - 2209 total posts\n",
      "Batch 12/125 completed - 2410 total posts\n",
      "Batch 13/125 completed - 2611 total posts\n",
      "Batch 14/125 completed - 2812 total posts\n",
      "Batch 15/125 completed - 3013 total posts\n",
      "Batch 16/125 completed - 3213 total posts\n",
      "Batch 17/125 completed - 3414 total posts\n",
      "Batch 18/125 completed - 3615 total posts\n",
      "Batch 19/125 completed - 3816 total posts\n",
      "Batch 20/125 completed - 4016 total posts\n",
      "Batch 21/125 completed - 4217 total posts\n",
      "Batch 22/125 completed - 4418 total posts\n",
      "Batch 23/125 completed - 4619 total posts\n",
      "Batch 24/125 completed - 4820 total posts\n",
      "Batch 25/125 completed - 5021 total posts\n",
      "Batch 26/125 completed - 5221 total posts\n",
      "Batch 27/125 completed - 5422 total posts\n",
      "Batch 28/125 completed - 5623 total posts\n",
      "Batch 29/125 completed - 5824 total posts\n",
      "Batch 30/125 completed - 6025 total posts\n",
      "Batch 31/125 completed - 6226 total posts\n",
      "Batch 32/125 completed - 6427 total posts\n",
      "Batch 33/125 completed - 6628 total posts\n",
      "Batch 34/125 completed - 6829 total posts\n",
      "Batch 35/125 completed - 7030 total posts\n",
      "Batch 36/125 completed - 7230 total posts\n",
      "Batch 37/125 completed - 7431 total posts\n",
      "Batch 38/125 completed - 7632 total posts\n",
      "Batch 39/125 completed - 7833 total posts\n",
      "Batch 40/125 completed - 8034 total posts\n",
      "Batch 41/125 completed - 8235 total posts\n",
      "Batch 42/125 completed - 8436 total posts\n",
      "Batch 43/125 completed - 8637 total posts\n",
      "Batch 44/125 completed - 8838 total posts\n",
      "Batch 45/125 completed - 9039 total posts\n",
      "Batch 46/125 completed - 9240 total posts\n",
      "Batch 47/125 completed - 9439 total posts\n",
      "Batch 48/125 completed - 9640 total posts\n",
      "Batch 49/125 completed - 9841 total posts\n",
      "Batch 50/125 completed - 10041 total posts\n",
      "Batch 51/125 completed - 10242 total posts\n",
      "Batch 52/125 completed - 10443 total posts\n",
      "Batch 53/125 completed - 10644 total posts\n",
      "Batch 54/125 completed - 10845 total posts\n",
      "Batch 55/125 completed - 11046 total posts\n",
      "Batch 56/125 completed - 11247 total posts\n",
      "Batch 57/125 completed - 11448 total posts\n",
      "Batch 58/125 completed - 11649 total posts\n",
      "Batch 59/125 completed - 11850 total posts\n",
      "Batch 60/125 completed - 12051 total posts\n",
      "Batch 61/125 completed - 12251 total posts\n",
      "Batch 62/125 completed - 12452 total posts\n",
      "Batch 63/125 completed - 12653 total posts\n",
      "Batch 64/125 completed - 12853 total posts\n",
      "Batch 65/125 completed - 13054 total posts\n",
      "Batch 66/125 completed - 13255 total posts\n",
      "Batch 67/125 completed - 13456 total posts\n",
      "Batch 68/125 completed - 13657 total posts\n",
      "Batch 69/125 completed - 13858 total posts\n",
      "Batch 70/125 completed - 14058 total posts\n",
      "Batch 71/125 completed - 14259 total posts\n",
      "Batch 72/125 completed - 14460 total posts\n",
      "Batch 73/125 completed - 14661 total posts\n",
      "Batch 74/125 completed - 14862 total posts\n",
      "Batch 75/125 completed - 15063 total posts\n",
      "Batch 76/125 completed - 15264 total posts\n",
      "Batch 77/125 completed - 15465 total posts\n",
      "Batch 78/125 completed - 15666 total posts\n",
      "Batch 79/125 completed - 15867 total posts\n",
      "Batch 80/125 completed - 16068 total posts\n",
      "Batch 81/125 completed - 16268 total posts\n",
      "Batch 82/125 completed - 16469 total posts\n",
      "Batch 83/125 completed - 16670 total posts\n",
      "Batch 84/125 completed - 16871 total posts\n",
      "Batch 85/125 completed - 17072 total posts\n",
      "Batch 86/125 completed - 17270 total posts\n",
      "Batch 87/125 completed - 17471 total posts\n",
      "Batch 88/125 completed - 17672 total posts\n",
      "Batch 89/125 completed - 17873 total posts\n",
      "Batch 90/125 completed - 18074 total posts\n",
      "Batch 91/125 completed - 18275 total posts\n",
      "Batch 92/125 completed - 18476 total posts\n",
      "Batch 93/125 completed - 18677 total posts\n",
      "Batch 94/125 completed - 18875 total posts\n",
      "Batch 95/125 completed - 19075 total posts\n",
      "Batch 96/125 completed - 19276 total posts\n",
      "Batch 97/125 completed - 19477 total posts\n",
      "Batch 98/125 completed - 19678 total posts\n",
      "Batch 99/125 completed - 19879 total posts\n",
      "Batch 100/125 completed - 20080 total posts\n",
      "Batch 101/125 completed - 20281 total posts\n",
      "Batch 102/125 completed - 20482 total posts\n",
      "Batch 103/125 completed - 20683 total posts\n",
      "Batch 104/125 completed - 20884 total posts\n",
      "Batch 105/125 completed - 21084 total posts\n",
      "Batch 106/125 completed - 21285 total posts\n",
      "Batch 107/125 completed - 21486 total posts\n",
      "Batch 108/125 completed - 21686 total posts\n",
      "Batch 109/125 completed - 21886 total posts\n",
      "Batch 110/125 completed - 22086 total posts\n",
      "Batch 111/125 completed - 22286 total posts\n",
      "Batch 112/125 completed - 22487 total posts\n",
      "Batch 113/125 completed - 22688 total posts\n",
      "Batch 114/125 completed - 22889 total posts\n",
      "Batch 115/125 completed - 23090 total posts\n",
      "Batch 116/125 completed - 23291 total posts\n",
      "Batch 117/125 completed - 23490 total posts\n",
      "Batch 118/125 completed - 23691 total posts\n",
      "Batch 119/125 completed - 23889 total posts\n",
      "Batch 120/125 completed - 24087 total posts\n",
      "Batch 121/125 completed - 24287 total posts\n",
      "Batch 122/125 completed - 24486 total posts\n",
      "Batch 123/125 completed - 24686 total posts\n",
      "Batch 124/125 completed - 24886 total posts\n",
      "Batch 125/125 completed - 25086 total posts\n"
     ]
    }
   ],
   "source": [
    "# Get ~25000 posts from science subreddit\n",
    "science = get_post('science', 125)"
   ]
  },
  {
   "cell_type": "code",
   "execution_count": 4,
   "id": "d38175f6-3e54-436a-b258-2a3d770e647f",
   "metadata": {},
   "outputs": [],
   "source": [
    "# Convert to DataFrame\n",
    "science_df = pd.DataFrame(science)"
   ]
  },
  {
   "cell_type": "code",
   "execution_count": 5,
   "id": "270a4a56-ec1f-40ce-a324-10c981785f68",
   "metadata": {
    "scrolled": true,
    "tags": []
   },
   "outputs": [
    {
     "name": "stdout",
     "output_type": "stream",
     "text": [
      "<class 'pandas.core.frame.DataFrame'>\n",
      "RangeIndex: 25086 entries, 0 to 25085\n",
      "Data columns (total 83 columns):\n",
      " #   Column                         Non-Null Count  Dtype  \n",
      "---  ------                         --------------  -----  \n",
      " 0   all_awardings                  25086 non-null  object \n",
      " 1   allow_live_comments            25086 non-null  bool   \n",
      " 2   author                         25086 non-null  object \n",
      " 3   author_flair_css_class         1597 non-null   object \n",
      " 4   author_flair_richtext          24858 non-null  object \n",
      " 5   author_flair_text              511 non-null    object \n",
      " 6   author_flair_type              24858 non-null  object \n",
      " 7   author_fullname                24858 non-null  object \n",
      " 8   author_is_blocked              25086 non-null  bool   \n",
      " 9   author_patreon_flair           24858 non-null  object \n",
      " 10  author_premium                 24858 non-null  object \n",
      " 11  awarders                       25086 non-null  object \n",
      " 12  can_mod_post                   25086 non-null  bool   \n",
      " 13  contest_mode                   25086 non-null  bool   \n",
      " 14  created_utc                    25086 non-null  int64  \n",
      " 15  domain                         25083 non-null  object \n",
      " 16  full_link                      25086 non-null  object \n",
      " 17  gildings                       25086 non-null  object \n",
      " 18  id                             25086 non-null  object \n",
      " 19  is_created_from_ads_ui         25086 non-null  bool   \n",
      " 20  is_crosspostable               25086 non-null  bool   \n",
      " 21  is_meta                        25086 non-null  bool   \n",
      " 22  is_original_content            25086 non-null  bool   \n",
      " 23  is_reddit_media_domain         25086 non-null  bool   \n",
      " 24  is_robot_indexable             25086 non-null  bool   \n",
      " 25  is_self                        25086 non-null  bool   \n",
      " 26  is_video                       25086 non-null  bool   \n",
      " 27  link_flair_background_color    25086 non-null  object \n",
      " 28  link_flair_css_class           25078 non-null  object \n",
      " 29  link_flair_richtext            25086 non-null  object \n",
      " 30  link_flair_template_id         25080 non-null  object \n",
      " 31  link_flair_text                25080 non-null  object \n",
      " 32  link_flair_text_color          25086 non-null  object \n",
      " 33  link_flair_type                25086 non-null  object \n",
      " 34  locked                         25086 non-null  bool   \n",
      " 35  media_only                     25086 non-null  bool   \n",
      " 36  no_follow                      25086 non-null  bool   \n",
      " 37  num_comments                   25086 non-null  int64  \n",
      " 38  num_crossposts                 25086 non-null  int64  \n",
      " 39  over_18                        25086 non-null  bool   \n",
      " 40  parent_whitelist_status        25086 non-null  object \n",
      " 41  permalink                      25086 non-null  object \n",
      " 42  pinned                         25086 non-null  bool   \n",
      " 43  post_hint                      18871 non-null  object \n",
      " 44  preview                        18871 non-null  object \n",
      " 45  pwls                           25086 non-null  int64  \n",
      " 46  retrieved_on                   25086 non-null  int64  \n",
      " 47  score                          25086 non-null  int64  \n",
      " 48  selftext                       25086 non-null  object \n",
      " 49  send_replies                   25086 non-null  bool   \n",
      " 50  spoiler                        25086 non-null  bool   \n",
      " 51  stickied                       25086 non-null  bool   \n",
      " 52  subreddit                      25086 non-null  object \n",
      " 53  subreddit_id                   25086 non-null  object \n",
      " 54  subreddit_subscribers          25086 non-null  int64  \n",
      " 55  subreddit_type                 25086 non-null  object \n",
      " 56  suggested_sort                 25086 non-null  object \n",
      " 57  thumbnail                      25086 non-null  object \n",
      " 58  thumbnail_height               19092 non-null  float64\n",
      " 59  thumbnail_width                19092 non-null  float64\n",
      " 60  title                          25086 non-null  object \n",
      " 61  total_awards_received          25086 non-null  int64  \n",
      " 62  treatment_tags                 25086 non-null  object \n",
      " 63  upvote_ratio                   25086 non-null  float64\n",
      " 64  url                            25083 non-null  object \n",
      " 65  url_overridden_by_dest         25070 non-null  object \n",
      " 66  whitelist_status               25086 non-null  object \n",
      " 67  wls                            25086 non-null  int64  \n",
      " 68  removed_by_category            7666 non-null   object \n",
      " 69  author_flair_background_color  1851 non-null   object \n",
      " 70  author_flair_text_color        1856 non-null   object \n",
      " 71  collections                    1 non-null      object \n",
      " 72  distinguished                  5 non-null      object \n",
      " 73  author_flair_template_id       211 non-null    object \n",
      " 74  media                          87 non-null     object \n",
      " 75  media_embed                    87 non-null     object \n",
      " 76  secure_media                   87 non-null     object \n",
      " 77  secure_media_embed             87 non-null     object \n",
      " 78  author_cakeday                 65 non-null     object \n",
      " 79  call_to_action                 1 non-null      object \n",
      " 80  category                       1 non-null      object \n",
      " 81  media_metadata                 3 non-null      object \n",
      " 82  gilded                         2 non-null      float64\n",
      "dtypes: bool(20), float64(4), int64(9), object(50)\n",
      "memory usage: 12.5+ MB\n"
     ]
    }
   ],
   "source": [
    "science_df.info()"
   ]
  },
  {
   "cell_type": "code",
   "execution_count": 6,
   "id": "755e6b1c-ae3c-40d5-8c98-36c39fa6f08d",
   "metadata": {},
   "outputs": [
    {
     "data": {
      "text/plain": [
       "0        1664811669\n",
       "1        1664809032\n",
       "2        1664807875\n",
       "3        1664807763\n",
       "4        1664807340\n",
       "            ...    \n",
       "25081    1636822314\n",
       "25082    1636819215\n",
       "25083    1636818580\n",
       "25084    1636817924\n",
       "25085    1636817159\n",
       "Name: created_utc, Length: 25086, dtype: int64"
      ]
     },
     "execution_count": 6,
     "metadata": {},
     "output_type": "execute_result"
    }
   ],
   "source": [
    "science_df['created_utc']"
   ]
  },
  {
   "cell_type": "markdown",
   "id": "6b81a3f6-fe1c-4f68-8085-52333370a60d",
   "metadata": {},
   "source": [
    "From: 1664811669 - Monday, October 3, 2022 11:41:09 PM (SGT) <br>\n",
    "To: 1636817159 - Saturday, November 13, 2021 11:25:59 PM (SGT) <br>\n",
    "Total = 25085 posts"
   ]
  },
  {
   "cell_type": "markdown",
   "id": "8a14e5f4-8dad-41bc-a0b9-4fad5edb9da9",
   "metadata": {},
   "source": [
    "## (ii) Subreddit: r/philosophy"
   ]
  },
  {
   "cell_type": "code",
   "execution_count": 7,
   "id": "496b4d4f-3b36-47c3-94c5-2a7b6c1fdb6a",
   "metadata": {
    "scrolled": true,
    "tags": []
   },
   "outputs": [
    {
     "name": "stdout",
     "output_type": "stream",
     "text": [
      "Batch 1/125 completed - 201 total posts\n",
      "Batch 2/125 completed - 402 total posts\n",
      "Batch 3/125 completed - 603 total posts\n",
      "Batch 4/125 completed - 804 total posts\n",
      "Batch 5/125 completed - 1005 total posts\n",
      "Batch 6/125 completed - 1206 total posts\n",
      "Batch 7/125 completed - 1407 total posts\n",
      "Batch 8/125 completed - 1608 total posts\n",
      "Batch 9/125 completed - 1809 total posts\n",
      "Batch 10/125 completed - 2010 total posts\n",
      "Batch 11/125 completed - 2210 total posts\n",
      "Batch 12/125 completed - 2411 total posts\n",
      "Batch 13/125 completed - 2612 total posts\n",
      "Batch 14/125 completed - 2813 total posts\n",
      "Batch 15/125 completed - 3014 total posts\n",
      "Batch 16/125 completed - 3215 total posts\n",
      "Batch 17/125 completed - 3416 total posts\n",
      "Batch 18/125 completed - 3617 total posts\n",
      "Batch 19/125 completed - 3818 total posts\n",
      "Batch 20/125 completed - 4019 total posts\n",
      "Batch 21/125 completed - 4220 total posts\n",
      "Batch 22/125 completed - 4421 total posts\n",
      "Batch 23/125 completed - 4622 total posts\n",
      "Batch 24/125 completed - 4823 total posts\n",
      "Batch 25/125 completed - 5024 total posts\n",
      "Batch 26/125 completed - 5225 total posts\n",
      "Batch 27/125 completed - 5426 total posts\n",
      "Batch 28/125 completed - 5627 total posts\n",
      "Batch 29/125 completed - 5828 total posts\n",
      "Batch 30/125 completed - 6029 total posts\n",
      "Batch 31/125 completed - 6230 total posts\n",
      "Batch 32/125 completed - 6431 total posts\n",
      "Batch 33/125 completed - 6632 total posts\n",
      "Batch 34/125 completed - 6833 total posts\n",
      "Batch 35/125 completed - 7034 total posts\n",
      "Batch 36/125 completed - 7235 total posts\n",
      "Batch 37/125 completed - 7435 total posts\n",
      "Batch 38/125 completed - 7636 total posts\n",
      "Batch 39/125 completed - 7836 total posts\n",
      "Batch 40/125 completed - 8036 total posts\n",
      "Batch 41/125 completed - 8237 total posts\n",
      "Batch 42/125 completed - 8438 total posts\n",
      "Batch 43/125 completed - 8639 total posts\n",
      "Batch 44/125 completed - 8840 total posts\n",
      "Batch 45/125 completed - 9041 total posts\n",
      "Batch 46/125 completed - 9242 total posts\n",
      "Batch 47/125 completed - 9442 total posts\n",
      "Batch 48/125 completed - 9643 total posts\n",
      "Batch 49/125 completed - 9844 total posts\n",
      "Batch 50/125 completed - 10045 total posts\n",
      "Batch 51/125 completed - 10246 total posts\n",
      "Batch 52/125 completed - 10447 total posts\n",
      "Batch 53/125 completed - 10648 total posts\n",
      "Batch 54/125 completed - 10848 total posts\n",
      "Batch 55/125 completed - 11049 total posts\n",
      "Batch 56/125 completed - 11250 total posts\n",
      "Batch 57/125 completed - 11451 total posts\n",
      "Batch 58/125 completed - 11651 total posts\n",
      "Batch 59/125 completed - 11852 total posts\n",
      "Batch 60/125 completed - 12052 total posts\n",
      "Batch 61/125 completed - 12253 total posts\n",
      "Batch 62/125 completed - 12454 total posts\n",
      "Batch 63/125 completed - 12655 total posts\n",
      "Batch 64/125 completed - 12855 total posts\n",
      "Batch 65/125 completed - 13056 total posts\n",
      "Batch 66/125 completed - 13257 total posts\n",
      "Batch 67/125 completed - 13458 total posts\n",
      "Batch 68/125 completed - 13659 total posts\n",
      "Batch 69/125 completed - 13860 total posts\n",
      "Batch 70/125 completed - 14061 total posts\n",
      "Batch 71/125 completed - 14262 total posts\n",
      "Batch 72/125 completed - 14463 total posts\n",
      "Batch 73/125 completed - 14664 total posts\n",
      "Batch 74/125 completed - 14865 total posts\n",
      "Batch 75/125 completed - 15066 total posts\n",
      "Batch 76/125 completed - 15267 total posts\n",
      "Batch 77/125 completed - 15468 total posts\n",
      "Batch 78/125 completed - 15669 total posts\n",
      "Batch 79/125 completed - 15870 total posts\n",
      "Batch 80/125 completed - 16071 total posts\n",
      "Batch 81/125 completed - 16272 total posts\n",
      "Batch 82/125 completed - 16473 total posts\n",
      "Batch 83/125 completed - 16674 total posts\n",
      "Batch 84/125 completed - 16875 total posts\n",
      "Batch 85/125 completed - 17076 total posts\n",
      "Batch 86/125 completed - 17277 total posts\n",
      "Batch 87/125 completed - 17478 total posts\n",
      "Batch 88/125 completed - 17679 total posts\n",
      "Batch 89/125 completed - 17880 total posts\n",
      "Batch 90/125 completed - 18081 total posts\n",
      "Batch 91/125 completed - 18282 total posts\n",
      "Batch 92/125 completed - 18483 total posts\n",
      "Batch 93/125 completed - 18684 total posts\n",
      "Batch 94/125 completed - 18885 total posts\n",
      "Batch 95/125 completed - 19085 total posts\n",
      "Batch 96/125 completed - 19286 total posts\n",
      "Batch 97/125 completed - 19487 total posts\n",
      "Batch 98/125 completed - 19688 total posts\n",
      "Batch 99/125 completed - 19889 total posts\n",
      "Batch 100/125 completed - 20090 total posts\n",
      "Batch 101/125 completed - 20291 total posts\n",
      "Batch 102/125 completed - 20492 total posts\n",
      "Batch 103/125 completed - 20693 total posts\n",
      "Batch 104/125 completed - 20894 total posts\n",
      "Batch 105/125 completed - 21095 total posts\n",
      "Batch 106/125 completed - 21296 total posts\n",
      "Batch 107/125 completed - 21497 total posts\n",
      "Batch 108/125 completed - 21698 total posts\n",
      "Batch 109/125 completed - 21899 total posts\n",
      "Batch 110/125 completed - 22100 total posts\n",
      "Batch 111/125 completed - 22301 total posts\n",
      "Batch 112/125 completed - 22502 total posts\n",
      "Batch 113/125 completed - 22703 total posts\n",
      "Batch 114/125 completed - 22904 total posts\n",
      "Batch 115/125 completed - 23105 total posts\n",
      "Batch 116/125 completed - 23306 total posts\n",
      "Batch 117/125 completed - 23507 total posts\n",
      "Batch 118/125 completed - 23708 total posts\n",
      "Batch 119/125 completed - 23909 total posts\n",
      "Batch 120/125 completed - 24110 total posts\n",
      "Batch 121/125 completed - 24311 total posts\n",
      "Batch 122/125 completed - 24512 total posts\n",
      "Batch 123/125 completed - 24713 total posts\n",
      "Batch 124/125 completed - 24912 total posts\n",
      "Batch 125/125 completed - 25113 total posts\n"
     ]
    }
   ],
   "source": [
    "# Get ~25000 posts from philosophy subreddit\n",
    "philosophy = get_post('philosophy', 125)"
   ]
  },
  {
   "cell_type": "code",
   "execution_count": 8,
   "id": "030ccc8e-3724-4f94-9ccb-7fbf36cdf040",
   "metadata": {},
   "outputs": [],
   "source": [
    "# Convert to DataFrame\n",
    "philosophy_df = pd.DataFrame(philosophy)"
   ]
  },
  {
   "cell_type": "code",
   "execution_count": 9,
   "id": "4f45630c-5db6-476d-8fc6-8da1603b1706",
   "metadata": {
    "scrolled": true,
    "tags": []
   },
   "outputs": [
    {
     "name": "stdout",
     "output_type": "stream",
     "text": [
      "<class 'pandas.core.frame.DataFrame'>\n",
      "RangeIndex: 25113 entries, 0 to 25112\n",
      "Data columns (total 83 columns):\n",
      " #   Column                         Non-Null Count  Dtype  \n",
      "---  ------                         --------------  -----  \n",
      " 0   all_awardings                  25113 non-null  object \n",
      " 1   allow_live_comments            25113 non-null  bool   \n",
      " 2   author                         25113 non-null  object \n",
      " 3   author_flair_css_class         1 non-null      object \n",
      " 4   author_flair_richtext          24941 non-null  object \n",
      " 5   author_flair_text              496 non-null    object \n",
      " 6   author_flair_type              24941 non-null  object \n",
      " 7   author_fullname                24941 non-null  object \n",
      " 8   author_is_blocked              22307 non-null  object \n",
      " 9   author_patreon_flair           24941 non-null  object \n",
      " 10  author_premium                 24941 non-null  object \n",
      " 11  awarders                       25113 non-null  object \n",
      " 12  can_mod_post                   25113 non-null  bool   \n",
      " 13  contest_mode                   25113 non-null  bool   \n",
      " 14  created_utc                    25113 non-null  int64  \n",
      " 15  domain                         25113 non-null  object \n",
      " 16  full_link                      25113 non-null  object \n",
      " 17  gildings                       25113 non-null  object \n",
      " 18  id                             25113 non-null  object \n",
      " 19  is_created_from_ads_ui         24602 non-null  object \n",
      " 20  is_crosspostable               25113 non-null  bool   \n",
      " 21  is_meta                        25113 non-null  bool   \n",
      " 22  is_original_content            25113 non-null  bool   \n",
      " 23  is_reddit_media_domain         25113 non-null  bool   \n",
      " 24  is_robot_indexable             25113 non-null  bool   \n",
      " 25  is_self                        25113 non-null  bool   \n",
      " 26  is_video                       25113 non-null  bool   \n",
      " 27  link_flair_background_color    25113 non-null  object \n",
      " 28  link_flair_richtext            25113 non-null  object \n",
      " 29  link_flair_text_color          25112 non-null  object \n",
      " 30  link_flair_type                25113 non-null  object \n",
      " 31  locked                         25113 non-null  bool   \n",
      " 32  media_only                     25113 non-null  bool   \n",
      " 33  no_follow                      25113 non-null  bool   \n",
      " 34  num_comments                   25113 non-null  int64  \n",
      " 35  num_crossposts                 25113 non-null  int64  \n",
      " 36  over_18                        25113 non-null  bool   \n",
      " 37  parent_whitelist_status        25113 non-null  object \n",
      " 38  permalink                      25113 non-null  object \n",
      " 39  pinned                         25113 non-null  bool   \n",
      " 40  pwls                           25113 non-null  int64  \n",
      " 41  removed_by_category            20161 non-null  object \n",
      " 42  retrieved_on                   25113 non-null  int64  \n",
      " 43  score                          25113 non-null  int64  \n",
      " 44  selftext                       24997 non-null  object \n",
      " 45  send_replies                   25113 non-null  bool   \n",
      " 46  spoiler                        25113 non-null  bool   \n",
      " 47  stickied                       25113 non-null  bool   \n",
      " 48  subreddit                      25113 non-null  object \n",
      " 49  subreddit_id                   25113 non-null  object \n",
      " 50  subreddit_subscribers          25113 non-null  int64  \n",
      " 51  subreddit_type                 25113 non-null  object \n",
      " 52  suggested_sort                 25113 non-null  object \n",
      " 53  thumbnail                      25113 non-null  object \n",
      " 54  title                          25113 non-null  object \n",
      " 55  total_awards_received          25113 non-null  int64  \n",
      " 56  treatment_tags                 25113 non-null  object \n",
      " 57  upvote_ratio                   25113 non-null  float64\n",
      " 58  url                            25113 non-null  object \n",
      " 59  whitelist_status               25113 non-null  object \n",
      " 60  wls                            25113 non-null  int64  \n",
      " 61  url_overridden_by_dest         10725 non-null  object \n",
      " 62  post_hint                      10701 non-null  object \n",
      " 63  preview                        10701 non-null  object \n",
      " 64  thumbnail_height               8900 non-null   float64\n",
      " 65  thumbnail_width                8900 non-null   float64\n",
      " 66  author_flair_background_color  670 non-null    object \n",
      " 67  author_flair_text_color        670 non-null    object \n",
      " 68  link_flair_css_class           178 non-null    object \n",
      " 69  link_flair_template_id         178 non-null    object \n",
      " 70  link_flair_text                178 non-null    object \n",
      " 71  media                          3250 non-null   object \n",
      " 72  media_embed                    3250 non-null   object \n",
      " 73  secure_media                   3250 non-null   object \n",
      " 74  secure_media_embed             3250 non-null   object \n",
      " 75  author_cakeday                 61 non-null     object \n",
      " 76  banned_by                      116 non-null    object \n",
      " 77  call_to_action                 3 non-null      object \n",
      " 78  category                       3 non-null      object \n",
      " 79  edited                         10 non-null     float64\n",
      " 80  crosspost_parent               1 non-null      object \n",
      " 81  crosspost_parent_list          1 non-null      object \n",
      " 82  gilded                         1 non-null      float64\n",
      "dtypes: bool(18), float64(5), int64(9), object(51)\n",
      "memory usage: 12.9+ MB\n"
     ]
    }
   ],
   "source": [
    "philosophy_df.info()"
   ]
  },
  {
   "cell_type": "code",
   "execution_count": 10,
   "id": "fa82bc5e-0b09-408b-afaa-3455b7940189",
   "metadata": {},
   "outputs": [
    {
     "data": {
      "text/plain": [
       "0        1664810634\n",
       "1        1664810509\n",
       "2        1664808499\n",
       "3        1664808211\n",
       "4        1664807836\n",
       "            ...    \n",
       "25108    1621631144\n",
       "25109    1621628366\n",
       "25110    1621625939\n",
       "25111    1621623512\n",
       "25112    1621621244\n",
       "Name: created_utc, Length: 25113, dtype: int64"
      ]
     },
     "execution_count": 10,
     "metadata": {},
     "output_type": "execute_result"
    }
   ],
   "source": [
    "philosophy_df['created_utc']"
   ]
  },
  {
   "cell_type": "markdown",
   "id": "c10afbb9-694c-452e-b43c-fc76ed721716",
   "metadata": {},
   "source": [
    "From: 1664810634 -  Monday, October 3, 2022 11:23:54 PM (SGT) <br>\n",
    "To: 1621621244 - Saturday, May 22, 2021 2:20:44 AM (SGT) <br>\n",
    "Total = 25112 posts"
   ]
  },
  {
   "cell_type": "markdown",
   "id": "3cca9a8d-d670-40df-8b0d-b32fa65d0433",
   "metadata": {},
   "source": [
    "# 04. EXPORT SCRAPPED DATA"
   ]
  },
  {
   "cell_type": "code",
   "execution_count": 11,
   "id": "0d0a0fd0-1e68-4cac-9c74-970952d941f8",
   "metadata": {},
   "outputs": [],
   "source": [
    "science_df.to_csv('../datasets/science.csv', index=False)\n",
    "philosophy_df.to_csv('../datasets/philosophy.csv', index=False)"
   ]
  }
 ],
 "metadata": {
  "kernelspec": {
   "display_name": "Python [conda env:dsi-sg]",
   "language": "python",
   "name": "conda-env-dsi-sg-py"
  },
  "language_info": {
   "codemirror_mode": {
    "name": "ipython",
    "version": 3
   },
   "file_extension": ".py",
   "mimetype": "text/x-python",
   "name": "python",
   "nbconvert_exporter": "python",
   "pygments_lexer": "ipython3",
   "version": "3.8.13"
  }
 },
 "nbformat": 4,
 "nbformat_minor": 5
}
