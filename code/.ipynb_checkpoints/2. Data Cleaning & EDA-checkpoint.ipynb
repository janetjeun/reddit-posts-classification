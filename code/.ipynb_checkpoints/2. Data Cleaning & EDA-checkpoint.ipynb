{
 "cells": [
  {
   "cell_type": "markdown",
   "id": "85e8cd72-04f8-4525-b3f8-494c825a479f",
   "metadata": {},
   "source": [
    "<img src=\"http://imgur.com/1ZcRyrc.png\" style=\"float: left; margin: 20px; height: 55px\">\n",
    "\n",
    "# Project 3: Classification Model Analysis <br>\n",
    "**Notebook 2: Data Cleaning & EDA**"
   ]
  },
  {
   "cell_type": "markdown",
   "id": "417f05b3-0951-4ab0-aba3-0c32e4ef4a0a",
   "metadata": {
    "tags": []
   },
   "source": [
    "## TABLE OF CONTENTS"
   ]
  },
  {
   "cell_type": "markdown",
   "id": "ea220098-3599-48db-a7a9-5e80e6b8f360",
   "metadata": {
    "tags": []
   },
   "source": [
    "**1. Web Scrapping** <br>\n",
    "**2. Data Cleaning & EDA (This Notebook)** <br>\n",
    "- [01. Library & Datasets](#01.-LIBRARY-&-DATASETS) <br>\n",
    "- [02. Data Overview](#02.-DATA-OVERVIEW) <br>\n",
    "- [03. EDA](#03.-EDA) <br>\n",
    "- [04. Pre-Processing](#04.-PRE-PROCESSING) <br>\n",
    "- [05. Common Words Analysis](#05.-COMMON-WORDS-ANALYSIS) <br>\n",
    "- [06. EDA Summary](#06.-EDA-SUMMARY) <br>\n",
    "- [07. Export Data](#07.-EXPORT-DATA) <br>\n",
    "\n",
    "**3. Modelling, Hyper-parameter tuning, Model Selection** <br>\n",
    "**4. Sentiment Analysis, Conclusion & Recommendation** <br>"
   ]
  },
  {
   "cell_type": "markdown",
   "id": "3935ccc1-0a94-4cd5-8026-79d3c6a259e6",
   "metadata": {
    "tags": []
   },
   "source": [
    "# 01. LIBRARY & DATASETS"
   ]
  },
  {
   "cell_type": "code",
   "execution_count": 1,
   "id": "ec81b68a-fa7a-4b14-9480-85378dda7c7b",
   "metadata": {},
   "outputs": [],
   "source": [
    "import requests\n",
    "import pandas as pd\n",
    "import time\n",
    "import random\n",
    "import matplotlib.pyplot as plt\n",
    "import seaborn as sns\n",
    "import numpy as np\n",
    "import re\n",
    "\n",
    "from nltk.tokenize import sent_tokenize, word_tokenize, RegexpTokenizer\n",
    "from nltk.stem import WordNetLemmatizer\n",
    "from nltk.stem.porter import PorterStemmer\n",
    "from nltk.corpus import stopwords\n",
    "from nltk.sentiment.vader import SentimentIntensityAnalyzer\n",
    "\n",
    "from sklearn.feature_extraction.text import CountVectorizer, TfidfVectorizer\n",
    "\n",
    "pd.set_option('display.max_columns', None)"
   ]
  },
  {
   "cell_type": "code",
   "execution_count": 2,
   "id": "6d6861a4-37f4-499a-8981-829f6cd99f08",
   "metadata": {},
   "outputs": [
    {
     "name": "stderr",
     "output_type": "stream",
     "text": [
      "C:\\Users\\Totojan\\AppData\\Local\\Temp\\ipykernel_30856\\3484891841.py:1: DtypeWarning: Columns (71,72,78,81) have mixed types. Specify dtype option on import or set low_memory=False.\n",
      "  sci = pd.read_csv('../datasets/science.csv')\n",
      "C:\\Users\\Totojan\\AppData\\Local\\Temp\\ipykernel_30856\\3484891841.py:2: DtypeWarning: Columns (3,8,19,75,76,80,81) have mixed types. Specify dtype option on import or set low_memory=False.\n",
      "  phi = pd.read_csv('../datasets/philosophy.csv')\n"
     ]
    }
   ],
   "source": [
    "sci = pd.read_csv('../datasets/science.csv')\n",
    "phi = pd.read_csv('../datasets/philosophy.csv')"
   ]
  },
  {
   "cell_type": "markdown",
   "id": "503fa2d4-6d20-4af9-8d83-f7529f7270da",
   "metadata": {
    "tags": []
   },
   "source": [
    "# 02. DATA OVERVIEW"
   ]
  },
  {
   "cell_type": "markdown",
   "id": "a16e091e-28e0-429f-8273-e5e81dc60ae1",
   "metadata": {},
   "source": [
    "## (i) SCIENCE"
   ]
  },
  {
   "cell_type": "code",
   "execution_count": 3,
   "id": "4fefda2f-e136-4225-b0e4-48dda6c51bdc",
   "metadata": {
    "scrolled": true,
    "tags": []
   },
   "outputs": [
    {
     "name": "stdout",
     "output_type": "stream",
     "text": [
      "<class 'pandas.core.frame.DataFrame'>\n",
      "RangeIndex: 25086 entries, 0 to 25085\n",
      "Data columns (total 83 columns):\n",
      " #   Column                         Non-Null Count  Dtype  \n",
      "---  ------                         --------------  -----  \n",
      " 0   all_awardings                  25086 non-null  object \n",
      " 1   allow_live_comments            25086 non-null  bool   \n",
      " 2   author                         25086 non-null  object \n",
      " 3   author_flair_css_class         1597 non-null   object \n",
      " 4   author_flair_richtext          24858 non-null  object \n",
      " 5   author_flair_text              511 non-null    object \n",
      " 6   author_flair_type              24858 non-null  object \n",
      " 7   author_fullname                24858 non-null  object \n",
      " 8   author_is_blocked              25086 non-null  bool   \n",
      " 9   author_patreon_flair           24858 non-null  object \n",
      " 10  author_premium                 24858 non-null  object \n",
      " 11  awarders                       25086 non-null  object \n",
      " 12  can_mod_post                   25086 non-null  bool   \n",
      " 13  contest_mode                   25086 non-null  bool   \n",
      " 14  created_utc                    25086 non-null  int64  \n",
      " 15  domain                         25077 non-null  object \n",
      " 16  full_link                      25086 non-null  object \n",
      " 17  gildings                       25086 non-null  object \n",
      " 18  id                             25086 non-null  object \n",
      " 19  is_created_from_ads_ui         25086 non-null  bool   \n",
      " 20  is_crosspostable               25086 non-null  bool   \n",
      " 21  is_meta                        25086 non-null  bool   \n",
      " 22  is_original_content            25086 non-null  bool   \n",
      " 23  is_reddit_media_domain         25086 non-null  bool   \n",
      " 24  is_robot_indexable             25086 non-null  bool   \n",
      " 25  is_self                        25086 non-null  bool   \n",
      " 26  is_video                       25086 non-null  bool   \n",
      " 27  link_flair_background_color    25080 non-null  object \n",
      " 28  link_flair_css_class           25078 non-null  object \n",
      " 29  link_flair_richtext            25086 non-null  object \n",
      " 30  link_flair_template_id         25080 non-null  object \n",
      " 31  link_flair_text                25080 non-null  object \n",
      " 32  link_flair_text_color          25086 non-null  object \n",
      " 33  link_flair_type                25086 non-null  object \n",
      " 34  locked                         25086 non-null  bool   \n",
      " 35  media_only                     25086 non-null  bool   \n",
      " 36  no_follow                      25086 non-null  bool   \n",
      " 37  num_comments                   25086 non-null  int64  \n",
      " 38  num_crossposts                 25086 non-null  int64  \n",
      " 39  over_18                        25086 non-null  bool   \n",
      " 40  parent_whitelist_status        25086 non-null  object \n",
      " 41  permalink                      25086 non-null  object \n",
      " 42  pinned                         25086 non-null  bool   \n",
      " 43  post_hint                      18871 non-null  object \n",
      " 44  preview                        18871 non-null  object \n",
      " 45  pwls                           25086 non-null  int64  \n",
      " 46  retrieved_on                   25086 non-null  int64  \n",
      " 47  score                          25086 non-null  int64  \n",
      " 48  selftext                       242 non-null    object \n",
      " 49  send_replies                   25086 non-null  bool   \n",
      " 50  spoiler                        25086 non-null  bool   \n",
      " 51  stickied                       25086 non-null  bool   \n",
      " 52  subreddit                      25086 non-null  object \n",
      " 53  subreddit_id                   25086 non-null  object \n",
      " 54  subreddit_subscribers          25086 non-null  int64  \n",
      " 55  subreddit_type                 25086 non-null  object \n",
      " 56  suggested_sort                 25086 non-null  object \n",
      " 57  thumbnail                      25086 non-null  object \n",
      " 58  thumbnail_height               19092 non-null  float64\n",
      " 59  thumbnail_width                19092 non-null  float64\n",
      " 60  title                          25086 non-null  object \n",
      " 61  total_awards_received          25086 non-null  int64  \n",
      " 62  treatment_tags                 25086 non-null  object \n",
      " 63  upvote_ratio                   25086 non-null  float64\n",
      " 64  url                            25077 non-null  object \n",
      " 65  url_overridden_by_dest         25064 non-null  object \n",
      " 66  whitelist_status               25086 non-null  object \n",
      " 67  wls                            25086 non-null  int64  \n",
      " 68  removed_by_category            7666 non-null   object \n",
      " 69  author_flair_background_color  206 non-null    object \n",
      " 70  author_flair_text_color        1854 non-null   object \n",
      " 71  collections                    1 non-null      object \n",
      " 72  distinguished                  5 non-null      object \n",
      " 73  author_flair_template_id       211 non-null    object \n",
      " 74  media                          87 non-null     object \n",
      " 75  media_embed                    87 non-null     object \n",
      " 76  secure_media                   87 non-null     object \n",
      " 77  secure_media_embed             87 non-null     object \n",
      " 78  author_cakeday                 65 non-null     object \n",
      " 79  call_to_action                 0 non-null      float64\n",
      " 80  category                       0 non-null      float64\n",
      " 81  media_metadata                 3 non-null      object \n",
      " 82  gilded                         2 non-null      float64\n",
      "dtypes: bool(20), float64(6), int64(9), object(48)\n",
      "memory usage: 12.5+ MB\n"
     ]
    }
   ],
   "source": [
    "sci.info()"
   ]
  },
  {
   "cell_type": "code",
   "execution_count": 4,
   "id": "fb81ac6a-71dc-4d22-a449-b7f8875dcc18",
   "metadata": {
    "scrolled": true,
    "tags": []
   },
   "outputs": [
    {
     "data": {
      "text/html": [
       "<div>\n",
       "<style scoped>\n",
       "    .dataframe tbody tr th:only-of-type {\n",
       "        vertical-align: middle;\n",
       "    }\n",
       "\n",
       "    .dataframe tbody tr th {\n",
       "        vertical-align: top;\n",
       "    }\n",
       "\n",
       "    .dataframe thead th {\n",
       "        text-align: right;\n",
       "    }\n",
       "</style>\n",
       "<table border=\"1\" class=\"dataframe\">\n",
       "  <thead>\n",
       "    <tr style=\"text-align: right;\">\n",
       "      <th></th>\n",
       "      <th>all_awardings</th>\n",
       "      <th>allow_live_comments</th>\n",
       "      <th>author</th>\n",
       "      <th>author_flair_css_class</th>\n",
       "      <th>author_flair_richtext</th>\n",
       "      <th>author_flair_text</th>\n",
       "      <th>author_flair_type</th>\n",
       "      <th>author_fullname</th>\n",
       "      <th>author_is_blocked</th>\n",
       "      <th>author_patreon_flair</th>\n",
       "      <th>author_premium</th>\n",
       "      <th>awarders</th>\n",
       "      <th>can_mod_post</th>\n",
       "      <th>contest_mode</th>\n",
       "      <th>created_utc</th>\n",
       "      <th>domain</th>\n",
       "      <th>full_link</th>\n",
       "      <th>gildings</th>\n",
       "      <th>id</th>\n",
       "      <th>is_created_from_ads_ui</th>\n",
       "      <th>is_crosspostable</th>\n",
       "      <th>is_meta</th>\n",
       "      <th>is_original_content</th>\n",
       "      <th>is_reddit_media_domain</th>\n",
       "      <th>is_robot_indexable</th>\n",
       "      <th>is_self</th>\n",
       "      <th>is_video</th>\n",
       "      <th>link_flair_background_color</th>\n",
       "      <th>link_flair_css_class</th>\n",
       "      <th>link_flair_richtext</th>\n",
       "      <th>link_flair_template_id</th>\n",
       "      <th>link_flair_text</th>\n",
       "      <th>link_flair_text_color</th>\n",
       "      <th>link_flair_type</th>\n",
       "      <th>locked</th>\n",
       "      <th>media_only</th>\n",
       "      <th>no_follow</th>\n",
       "      <th>num_comments</th>\n",
       "      <th>num_crossposts</th>\n",
       "      <th>over_18</th>\n",
       "      <th>parent_whitelist_status</th>\n",
       "      <th>permalink</th>\n",
       "      <th>pinned</th>\n",
       "      <th>post_hint</th>\n",
       "      <th>preview</th>\n",
       "      <th>pwls</th>\n",
       "      <th>retrieved_on</th>\n",
       "      <th>score</th>\n",
       "      <th>selftext</th>\n",
       "      <th>send_replies</th>\n",
       "      <th>spoiler</th>\n",
       "      <th>stickied</th>\n",
       "      <th>subreddit</th>\n",
       "      <th>subreddit_id</th>\n",
       "      <th>subreddit_subscribers</th>\n",
       "      <th>subreddit_type</th>\n",
       "      <th>suggested_sort</th>\n",
       "      <th>thumbnail</th>\n",
       "      <th>thumbnail_height</th>\n",
       "      <th>thumbnail_width</th>\n",
       "      <th>title</th>\n",
       "      <th>total_awards_received</th>\n",
       "      <th>treatment_tags</th>\n",
       "      <th>upvote_ratio</th>\n",
       "      <th>url</th>\n",
       "      <th>url_overridden_by_dest</th>\n",
       "      <th>whitelist_status</th>\n",
       "      <th>wls</th>\n",
       "      <th>removed_by_category</th>\n",
       "      <th>author_flair_background_color</th>\n",
       "      <th>author_flair_text_color</th>\n",
       "      <th>collections</th>\n",
       "      <th>distinguished</th>\n",
       "      <th>author_flair_template_id</th>\n",
       "      <th>media</th>\n",
       "      <th>media_embed</th>\n",
       "      <th>secure_media</th>\n",
       "      <th>secure_media_embed</th>\n",
       "      <th>author_cakeday</th>\n",
       "      <th>call_to_action</th>\n",
       "      <th>category</th>\n",
       "      <th>media_metadata</th>\n",
       "      <th>gilded</th>\n",
       "    </tr>\n",
       "  </thead>\n",
       "  <tbody>\n",
       "    <tr>\n",
       "      <th>0</th>\n",
       "      <td>[]</td>\n",
       "      <td>False</td>\n",
       "      <td>chilladipa</td>\n",
       "      <td>NaN</td>\n",
       "      <td>[]</td>\n",
       "      <td>NaN</td>\n",
       "      <td>text</td>\n",
       "      <td>t2_6z8harzu</td>\n",
       "      <td>False</td>\n",
       "      <td>False</td>\n",
       "      <td>False</td>\n",
       "      <td>[]</td>\n",
       "      <td>False</td>\n",
       "      <td>False</td>\n",
       "      <td>1664811669</td>\n",
       "      <td>nobelprize.org</td>\n",
       "      <td>https://www.reddit.com/r/science/comments/xumv...</td>\n",
       "      <td>{}</td>\n",
       "      <td>xumvdn</td>\n",
       "      <td>False</td>\n",
       "      <td>True</td>\n",
       "      <td>False</td>\n",
       "      <td>False</td>\n",
       "      <td>False</td>\n",
       "      <td>True</td>\n",
       "      <td>False</td>\n",
       "      <td>False</td>\n",
       "      <td>#00a6a5</td>\n",
       "      <td>gen</td>\n",
       "      <td>[]</td>\n",
       "      <td>54449530-7df9-11ec-b93b-a6179baa4180</td>\n",
       "      <td>Genetics</td>\n",
       "      <td>light</td>\n",
       "      <td>text</td>\n",
       "      <td>False</td>\n",
       "      <td>False</td>\n",
       "      <td>True</td>\n",
       "      <td>1</td>\n",
       "      <td>0</td>\n",
       "      <td>False</td>\n",
       "      <td>all_ads</td>\n",
       "      <td>/r/science/comments/xumvdn/2022_nobel_prize_in...</td>\n",
       "      <td>False</td>\n",
       "      <td>link</td>\n",
       "      <td>{'enabled': False, 'images': [{'id': '5QckU-T3...</td>\n",
       "      <td>6</td>\n",
       "      <td>1664811680</td>\n",
       "      <td>1</td>\n",
       "      <td>NaN</td>\n",
       "      <td>True</td>\n",
       "      <td>False</td>\n",
       "      <td>False</td>\n",
       "      <td>science</td>\n",
       "      <td>t5_mouw</td>\n",
       "      <td>28362053</td>\n",
       "      <td>public</td>\n",
       "      <td>confidence</td>\n",
       "      <td>https://b.thumbs.redditmedia.com/SmjImtboLgWPN...</td>\n",
       "      <td>73.0</td>\n",
       "      <td>140.0</td>\n",
       "      <td>2022 Nobel Prize in Physiology or Medicine to ...</td>\n",
       "      <td>0</td>\n",
       "      <td>[]</td>\n",
       "      <td>1.0</td>\n",
       "      <td>https://www.nobelprize.org/prizes/medicine/202...</td>\n",
       "      <td>https://www.nobelprize.org/prizes/medicine/202...</td>\n",
       "      <td>all_ads</td>\n",
       "      <td>6</td>\n",
       "      <td>NaN</td>\n",
       "      <td>NaN</td>\n",
       "      <td>NaN</td>\n",
       "      <td>NaN</td>\n",
       "      <td>NaN</td>\n",
       "      <td>NaN</td>\n",
       "      <td>NaN</td>\n",
       "      <td>NaN</td>\n",
       "      <td>NaN</td>\n",
       "      <td>NaN</td>\n",
       "      <td>NaN</td>\n",
       "      <td>NaN</td>\n",
       "      <td>NaN</td>\n",
       "      <td>NaN</td>\n",
       "      <td>NaN</td>\n",
       "    </tr>\n",
       "    <tr>\n",
       "      <th>1</th>\n",
       "      <td>[]</td>\n",
       "      <td>False</td>\n",
       "      <td>Simple-Rest-8625</td>\n",
       "      <td>NaN</td>\n",
       "      <td>[]</td>\n",
       "      <td>NaN</td>\n",
       "      <td>text</td>\n",
       "      <td>t2_stwpl0q0</td>\n",
       "      <td>False</td>\n",
       "      <td>False</td>\n",
       "      <td>False</td>\n",
       "      <td>[]</td>\n",
       "      <td>False</td>\n",
       "      <td>False</td>\n",
       "      <td>1664809032</td>\n",
       "      <td>playeffort.com</td>\n",
       "      <td>https://www.reddit.com/r/science/comments/xulp...</td>\n",
       "      <td>{}</td>\n",
       "      <td>xulpxy</td>\n",
       "      <td>False</td>\n",
       "      <td>False</td>\n",
       "      <td>False</td>\n",
       "      <td>False</td>\n",
       "      <td>False</td>\n",
       "      <td>False</td>\n",
       "      <td>False</td>\n",
       "      <td>False</td>\n",
       "      <td>#d08dd2</td>\n",
       "      <td>physics</td>\n",
       "      <td>[]</td>\n",
       "      <td>084a5ff8-6806-11e5-9958-12c8a3890827</td>\n",
       "      <td>Physics</td>\n",
       "      <td>light</td>\n",
       "      <td>text</td>\n",
       "      <td>False</td>\n",
       "      <td>False</td>\n",
       "      <td>True</td>\n",
       "      <td>1</td>\n",
       "      <td>0</td>\n",
       "      <td>False</td>\n",
       "      <td>all_ads</td>\n",
       "      <td>/r/science/comments/xulpxy/india_vs_south_afri...</td>\n",
       "      <td>False</td>\n",
       "      <td>link</td>\n",
       "      <td>{'enabled': False, 'images': [{'id': 'xh2fDbeQ...</td>\n",
       "      <td>6</td>\n",
       "      <td>1664809042</td>\n",
       "      <td>1</td>\n",
       "      <td>NaN</td>\n",
       "      <td>True</td>\n",
       "      <td>False</td>\n",
       "      <td>False</td>\n",
       "      <td>science</td>\n",
       "      <td>t5_mouw</td>\n",
       "      <td>28361753</td>\n",
       "      <td>public</td>\n",
       "      <td>confidence</td>\n",
       "      <td>https://b.thumbs.redditmedia.com/l8Wt7xMrhqyrh...</td>\n",
       "      <td>93.0</td>\n",
       "      <td>140.0</td>\n",
       "      <td>India vs South Africa 2nd T20</td>\n",
       "      <td>0</td>\n",
       "      <td>[]</td>\n",
       "      <td>1.0</td>\n",
       "      <td>https://www.playeffort.com/2022/10/india-vs-so...</td>\n",
       "      <td>https://www.playeffort.com/2022/10/india-vs-so...</td>\n",
       "      <td>all_ads</td>\n",
       "      <td>6</td>\n",
       "      <td>reddit</td>\n",
       "      <td>NaN</td>\n",
       "      <td>NaN</td>\n",
       "      <td>NaN</td>\n",
       "      <td>NaN</td>\n",
       "      <td>NaN</td>\n",
       "      <td>NaN</td>\n",
       "      <td>NaN</td>\n",
       "      <td>NaN</td>\n",
       "      <td>NaN</td>\n",
       "      <td>NaN</td>\n",
       "      <td>NaN</td>\n",
       "      <td>NaN</td>\n",
       "      <td>NaN</td>\n",
       "      <td>NaN</td>\n",
       "    </tr>\n",
       "    <tr>\n",
       "      <th>2</th>\n",
       "      <td>[]</td>\n",
       "      <td>False</td>\n",
       "      <td>patient-Spring-4</td>\n",
       "      <td>NaN</td>\n",
       "      <td>[]</td>\n",
       "      <td>NaN</td>\n",
       "      <td>text</td>\n",
       "      <td>t2_7qho2c7l</td>\n",
       "      <td>False</td>\n",
       "      <td>False</td>\n",
       "      <td>False</td>\n",
       "      <td>[]</td>\n",
       "      <td>False</td>\n",
       "      <td>False</td>\n",
       "      <td>1664807875</td>\n",
       "      <td>inverse.com</td>\n",
       "      <td>https://www.reddit.com/r/science/comments/xul8...</td>\n",
       "      <td>{}</td>\n",
       "      <td>xul8ap</td>\n",
       "      <td>False</td>\n",
       "      <td>False</td>\n",
       "      <td>False</td>\n",
       "      <td>False</td>\n",
       "      <td>False</td>\n",
       "      <td>False</td>\n",
       "      <td>False</td>\n",
       "      <td>False</td>\n",
       "      <td>#7ac877</td>\n",
       "      <td>animalsci</td>\n",
       "      <td>[]</td>\n",
       "      <td>109e172c-4638-11e3-abe9-12313b04ceaf</td>\n",
       "      <td>Animal Science</td>\n",
       "      <td>light</td>\n",
       "      <td>text</td>\n",
       "      <td>False</td>\n",
       "      <td>False</td>\n",
       "      <td>True</td>\n",
       "      <td>1</td>\n",
       "      <td>0</td>\n",
       "      <td>False</td>\n",
       "      <td>all_ads</td>\n",
       "      <td>/r/science/comments/xul8ap/want_a_better_relat...</td>\n",
       "      <td>False</td>\n",
       "      <td>link</td>\n",
       "      <td>{'enabled': False, 'images': [{'id': '5M0zlHk0...</td>\n",
       "      <td>6</td>\n",
       "      <td>1664807886</td>\n",
       "      <td>1</td>\n",
       "      <td>NaN</td>\n",
       "      <td>False</td>\n",
       "      <td>False</td>\n",
       "      <td>False</td>\n",
       "      <td>science</td>\n",
       "      <td>t5_mouw</td>\n",
       "      <td>28361628</td>\n",
       "      <td>public</td>\n",
       "      <td>confidence</td>\n",
       "      <td>https://b.thumbs.redditmedia.com/0nuJ5dIdvsTVM...</td>\n",
       "      <td>73.0</td>\n",
       "      <td>140.0</td>\n",
       "      <td>Want a better relationship with your dog? Thes...</td>\n",
       "      <td>0</td>\n",
       "      <td>[]</td>\n",
       "      <td>1.0</td>\n",
       "      <td>https://www.inverse.com/innovation/seven-facto...</td>\n",
       "      <td>https://www.inverse.com/innovation/seven-facto...</td>\n",
       "      <td>all_ads</td>\n",
       "      <td>6</td>\n",
       "      <td>moderator</td>\n",
       "      <td>NaN</td>\n",
       "      <td>NaN</td>\n",
       "      <td>NaN</td>\n",
       "      <td>NaN</td>\n",
       "      <td>NaN</td>\n",
       "      <td>NaN</td>\n",
       "      <td>NaN</td>\n",
       "      <td>NaN</td>\n",
       "      <td>NaN</td>\n",
       "      <td>NaN</td>\n",
       "      <td>NaN</td>\n",
       "      <td>NaN</td>\n",
       "      <td>NaN</td>\n",
       "      <td>NaN</td>\n",
       "    </tr>\n",
       "    <tr>\n",
       "      <th>3</th>\n",
       "      <td>[]</td>\n",
       "      <td>False</td>\n",
       "      <td>trevor25</td>\n",
       "      <td>NaN</td>\n",
       "      <td>[]</td>\n",
       "      <td>NaN</td>\n",
       "      <td>text</td>\n",
       "      <td>t2_jeng2</td>\n",
       "      <td>False</td>\n",
       "      <td>False</td>\n",
       "      <td>False</td>\n",
       "      <td>[]</td>\n",
       "      <td>False</td>\n",
       "      <td>False</td>\n",
       "      <td>1664807763</td>\n",
       "      <td>bbc.com</td>\n",
       "      <td>https://www.reddit.com/r/science/comments/xul6...</td>\n",
       "      <td>{}</td>\n",
       "      <td>xul6ka</td>\n",
       "      <td>False</td>\n",
       "      <td>True</td>\n",
       "      <td>False</td>\n",
       "      <td>False</td>\n",
       "      <td>False</td>\n",
       "      <td>True</td>\n",
       "      <td>False</td>\n",
       "      <td>False</td>\n",
       "      <td>#7ac877</td>\n",
       "      <td>animalsci</td>\n",
       "      <td>[]</td>\n",
       "      <td>109e172c-4638-11e3-abe9-12313b04ceaf</td>\n",
       "      <td>Animal Science</td>\n",
       "      <td>light</td>\n",
       "      <td>text</td>\n",
       "      <td>False</td>\n",
       "      <td>False</td>\n",
       "      <td>True</td>\n",
       "      <td>1</td>\n",
       "      <td>0</td>\n",
       "      <td>False</td>\n",
       "      <td>all_ads</td>\n",
       "      <td>/r/science/comments/xul6ka/record_avian_flu_ou...</td>\n",
       "      <td>False</td>\n",
       "      <td>link</td>\n",
       "      <td>{'enabled': False, 'images': [{'id': '7YcpW5MA...</td>\n",
       "      <td>6</td>\n",
       "      <td>1664807773</td>\n",
       "      <td>1</td>\n",
       "      <td>NaN</td>\n",
       "      <td>False</td>\n",
       "      <td>False</td>\n",
       "      <td>False</td>\n",
       "      <td>science</td>\n",
       "      <td>t5_mouw</td>\n",
       "      <td>28361619</td>\n",
       "      <td>public</td>\n",
       "      <td>confidence</td>\n",
       "      <td>https://b.thumbs.redditmedia.com/ZAlZrKSQ8AKgg...</td>\n",
       "      <td>78.0</td>\n",
       "      <td>140.0</td>\n",
       "      <td>Record avian flu outbreak sees 48m birds culle...</td>\n",
       "      <td>0</td>\n",
       "      <td>[]</td>\n",
       "      <td>1.0</td>\n",
       "      <td>https://www.bbc.com/news/science-environment-6...</td>\n",
       "      <td>https://www.bbc.com/news/science-environment-6...</td>\n",
       "      <td>all_ads</td>\n",
       "      <td>6</td>\n",
       "      <td>NaN</td>\n",
       "      <td>NaN</td>\n",
       "      <td>NaN</td>\n",
       "      <td>NaN</td>\n",
       "      <td>NaN</td>\n",
       "      <td>NaN</td>\n",
       "      <td>NaN</td>\n",
       "      <td>NaN</td>\n",
       "      <td>NaN</td>\n",
       "      <td>NaN</td>\n",
       "      <td>NaN</td>\n",
       "      <td>NaN</td>\n",
       "      <td>NaN</td>\n",
       "      <td>NaN</td>\n",
       "      <td>NaN</td>\n",
       "    </tr>\n",
       "    <tr>\n",
       "      <th>4</th>\n",
       "      <td>[]</td>\n",
       "      <td>False</td>\n",
       "      <td>Meatrition</td>\n",
       "      <td>NaN</td>\n",
       "      <td>[]</td>\n",
       "      <td>NaN</td>\n",
       "      <td>text</td>\n",
       "      <td>t2_jbgcy8ia</td>\n",
       "      <td>False</td>\n",
       "      <td>False</td>\n",
       "      <td>True</td>\n",
       "      <td>[]</td>\n",
       "      <td>False</td>\n",
       "      <td>False</td>\n",
       "      <td>1664807340</td>\n",
       "      <td>frontiersin.org</td>\n",
       "      <td>https://www.reddit.com/r/science/comments/xukz...</td>\n",
       "      <td>{}</td>\n",
       "      <td>xukzze</td>\n",
       "      <td>False</td>\n",
       "      <td>True</td>\n",
       "      <td>False</td>\n",
       "      <td>False</td>\n",
       "      <td>False</td>\n",
       "      <td>True</td>\n",
       "      <td>False</td>\n",
       "      <td>False</td>\n",
       "      <td>#6289d1</td>\n",
       "      <td>health</td>\n",
       "      <td>[]</td>\n",
       "      <td>a98544c4-6805-11e5-aff7-1290328edf53</td>\n",
       "      <td>Health</td>\n",
       "      <td>light</td>\n",
       "      <td>text</td>\n",
       "      <td>False</td>\n",
       "      <td>False</td>\n",
       "      <td>True</td>\n",
       "      <td>1</td>\n",
       "      <td>0</td>\n",
       "      <td>False</td>\n",
       "      <td>all_ads</td>\n",
       "      <td>/r/science/comments/xukzze/in_this_review_arti...</td>\n",
       "      <td>False</td>\n",
       "      <td>link</td>\n",
       "      <td>{'enabled': False, 'images': [{'id': 'lmeqPl4i...</td>\n",
       "      <td>6</td>\n",
       "      <td>1664807351</td>\n",
       "      <td>1</td>\n",
       "      <td>NaN</td>\n",
       "      <td>True</td>\n",
       "      <td>False</td>\n",
       "      <td>False</td>\n",
       "      <td>science</td>\n",
       "      <td>t5_mouw</td>\n",
       "      <td>28361581</td>\n",
       "      <td>public</td>\n",
       "      <td>confidence</td>\n",
       "      <td>https://b.thumbs.redditmedia.com/-1CmIe0iOO1ti...</td>\n",
       "      <td>102.0</td>\n",
       "      <td>140.0</td>\n",
       "      <td>In this review article, we focus on the effect...</td>\n",
       "      <td>0</td>\n",
       "      <td>[]</td>\n",
       "      <td>1.0</td>\n",
       "      <td>https://www.frontiersin.org/articles/10.3389/f...</td>\n",
       "      <td>https://www.frontiersin.org/articles/10.3389/f...</td>\n",
       "      <td>all_ads</td>\n",
       "      <td>6</td>\n",
       "      <td>NaN</td>\n",
       "      <td>NaN</td>\n",
       "      <td>NaN</td>\n",
       "      <td>NaN</td>\n",
       "      <td>NaN</td>\n",
       "      <td>NaN</td>\n",
       "      <td>NaN</td>\n",
       "      <td>NaN</td>\n",
       "      <td>NaN</td>\n",
       "      <td>NaN</td>\n",
       "      <td>NaN</td>\n",
       "      <td>NaN</td>\n",
       "      <td>NaN</td>\n",
       "      <td>NaN</td>\n",
       "      <td>NaN</td>\n",
       "    </tr>\n",
       "  </tbody>\n",
       "</table>\n",
       "</div>"
      ],
      "text/plain": [
       "  all_awardings  allow_live_comments            author author_flair_css_class  \\\n",
       "0            []                False        chilladipa                    NaN   \n",
       "1            []                False  Simple-Rest-8625                    NaN   \n",
       "2            []                False  patient-Spring-4                    NaN   \n",
       "3            []                False          trevor25                    NaN   \n",
       "4            []                False        Meatrition                    NaN   \n",
       "\n",
       "  author_flair_richtext author_flair_text author_flair_type author_fullname  \\\n",
       "0                    []               NaN              text     t2_6z8harzu   \n",
       "1                    []               NaN              text     t2_stwpl0q0   \n",
       "2                    []               NaN              text     t2_7qho2c7l   \n",
       "3                    []               NaN              text        t2_jeng2   \n",
       "4                    []               NaN              text     t2_jbgcy8ia   \n",
       "\n",
       "   author_is_blocked author_patreon_flair author_premium awarders  \\\n",
       "0              False                False          False       []   \n",
       "1              False                False          False       []   \n",
       "2              False                False          False       []   \n",
       "3              False                False          False       []   \n",
       "4              False                False           True       []   \n",
       "\n",
       "   can_mod_post  contest_mode  created_utc           domain  \\\n",
       "0         False         False   1664811669   nobelprize.org   \n",
       "1         False         False   1664809032   playeffort.com   \n",
       "2         False         False   1664807875      inverse.com   \n",
       "3         False         False   1664807763          bbc.com   \n",
       "4         False         False   1664807340  frontiersin.org   \n",
       "\n",
       "                                           full_link gildings      id  \\\n",
       "0  https://www.reddit.com/r/science/comments/xumv...       {}  xumvdn   \n",
       "1  https://www.reddit.com/r/science/comments/xulp...       {}  xulpxy   \n",
       "2  https://www.reddit.com/r/science/comments/xul8...       {}  xul8ap   \n",
       "3  https://www.reddit.com/r/science/comments/xul6...       {}  xul6ka   \n",
       "4  https://www.reddit.com/r/science/comments/xukz...       {}  xukzze   \n",
       "\n",
       "   is_created_from_ads_ui  is_crosspostable  is_meta  is_original_content  \\\n",
       "0                   False              True    False                False   \n",
       "1                   False             False    False                False   \n",
       "2                   False             False    False                False   \n",
       "3                   False              True    False                False   \n",
       "4                   False              True    False                False   \n",
       "\n",
       "   is_reddit_media_domain  is_robot_indexable  is_self  is_video  \\\n",
       "0                   False                True    False     False   \n",
       "1                   False               False    False     False   \n",
       "2                   False               False    False     False   \n",
       "3                   False                True    False     False   \n",
       "4                   False                True    False     False   \n",
       "\n",
       "  link_flair_background_color link_flair_css_class link_flair_richtext  \\\n",
       "0                     #00a6a5                  gen                  []   \n",
       "1                     #d08dd2              physics                  []   \n",
       "2                     #7ac877            animalsci                  []   \n",
       "3                     #7ac877            animalsci                  []   \n",
       "4                     #6289d1               health                  []   \n",
       "\n",
       "                 link_flair_template_id link_flair_text link_flair_text_color  \\\n",
       "0  54449530-7df9-11ec-b93b-a6179baa4180        Genetics                 light   \n",
       "1  084a5ff8-6806-11e5-9958-12c8a3890827         Physics                 light   \n",
       "2  109e172c-4638-11e3-abe9-12313b04ceaf  Animal Science                 light   \n",
       "3  109e172c-4638-11e3-abe9-12313b04ceaf  Animal Science                 light   \n",
       "4  a98544c4-6805-11e5-aff7-1290328edf53          Health                 light   \n",
       "\n",
       "  link_flair_type  locked  media_only  no_follow  num_comments  \\\n",
       "0            text   False       False       True             1   \n",
       "1            text   False       False       True             1   \n",
       "2            text   False       False       True             1   \n",
       "3            text   False       False       True             1   \n",
       "4            text   False       False       True             1   \n",
       "\n",
       "   num_crossposts  over_18 parent_whitelist_status  \\\n",
       "0               0    False                 all_ads   \n",
       "1               0    False                 all_ads   \n",
       "2               0    False                 all_ads   \n",
       "3               0    False                 all_ads   \n",
       "4               0    False                 all_ads   \n",
       "\n",
       "                                           permalink  pinned post_hint  \\\n",
       "0  /r/science/comments/xumvdn/2022_nobel_prize_in...   False      link   \n",
       "1  /r/science/comments/xulpxy/india_vs_south_afri...   False      link   \n",
       "2  /r/science/comments/xul8ap/want_a_better_relat...   False      link   \n",
       "3  /r/science/comments/xul6ka/record_avian_flu_ou...   False      link   \n",
       "4  /r/science/comments/xukzze/in_this_review_arti...   False      link   \n",
       "\n",
       "                                             preview  pwls  retrieved_on  \\\n",
       "0  {'enabled': False, 'images': [{'id': '5QckU-T3...     6    1664811680   \n",
       "1  {'enabled': False, 'images': [{'id': 'xh2fDbeQ...     6    1664809042   \n",
       "2  {'enabled': False, 'images': [{'id': '5M0zlHk0...     6    1664807886   \n",
       "3  {'enabled': False, 'images': [{'id': '7YcpW5MA...     6    1664807773   \n",
       "4  {'enabled': False, 'images': [{'id': 'lmeqPl4i...     6    1664807351   \n",
       "\n",
       "   score selftext  send_replies  spoiler  stickied subreddit subreddit_id  \\\n",
       "0      1      NaN          True    False     False   science      t5_mouw   \n",
       "1      1      NaN          True    False     False   science      t5_mouw   \n",
       "2      1      NaN         False    False     False   science      t5_mouw   \n",
       "3      1      NaN         False    False     False   science      t5_mouw   \n",
       "4      1      NaN          True    False     False   science      t5_mouw   \n",
       "\n",
       "   subreddit_subscribers subreddit_type suggested_sort  \\\n",
       "0               28362053         public     confidence   \n",
       "1               28361753         public     confidence   \n",
       "2               28361628         public     confidence   \n",
       "3               28361619         public     confidence   \n",
       "4               28361581         public     confidence   \n",
       "\n",
       "                                           thumbnail  thumbnail_height  \\\n",
       "0  https://b.thumbs.redditmedia.com/SmjImtboLgWPN...              73.0   \n",
       "1  https://b.thumbs.redditmedia.com/l8Wt7xMrhqyrh...              93.0   \n",
       "2  https://b.thumbs.redditmedia.com/0nuJ5dIdvsTVM...              73.0   \n",
       "3  https://b.thumbs.redditmedia.com/ZAlZrKSQ8AKgg...              78.0   \n",
       "4  https://b.thumbs.redditmedia.com/-1CmIe0iOO1ti...             102.0   \n",
       "\n",
       "   thumbnail_width                                              title  \\\n",
       "0            140.0  2022 Nobel Prize in Physiology or Medicine to ...   \n",
       "1            140.0                      India vs South Africa 2nd T20   \n",
       "2            140.0  Want a better relationship with your dog? Thes...   \n",
       "3            140.0  Record avian flu outbreak sees 48m birds culle...   \n",
       "4            140.0  In this review article, we focus on the effect...   \n",
       "\n",
       "   total_awards_received treatment_tags  upvote_ratio  \\\n",
       "0                      0             []           1.0   \n",
       "1                      0             []           1.0   \n",
       "2                      0             []           1.0   \n",
       "3                      0             []           1.0   \n",
       "4                      0             []           1.0   \n",
       "\n",
       "                                                 url  \\\n",
       "0  https://www.nobelprize.org/prizes/medicine/202...   \n",
       "1  https://www.playeffort.com/2022/10/india-vs-so...   \n",
       "2  https://www.inverse.com/innovation/seven-facto...   \n",
       "3  https://www.bbc.com/news/science-environment-6...   \n",
       "4  https://www.frontiersin.org/articles/10.3389/f...   \n",
       "\n",
       "                              url_overridden_by_dest whitelist_status  wls  \\\n",
       "0  https://www.nobelprize.org/prizes/medicine/202...          all_ads    6   \n",
       "1  https://www.playeffort.com/2022/10/india-vs-so...          all_ads    6   \n",
       "2  https://www.inverse.com/innovation/seven-facto...          all_ads    6   \n",
       "3  https://www.bbc.com/news/science-environment-6...          all_ads    6   \n",
       "4  https://www.frontiersin.org/articles/10.3389/f...          all_ads    6   \n",
       "\n",
       "  removed_by_category author_flair_background_color author_flair_text_color  \\\n",
       "0                 NaN                           NaN                     NaN   \n",
       "1              reddit                           NaN                     NaN   \n",
       "2           moderator                           NaN                     NaN   \n",
       "3                 NaN                           NaN                     NaN   \n",
       "4                 NaN                           NaN                     NaN   \n",
       "\n",
       "  collections distinguished author_flair_template_id media media_embed  \\\n",
       "0         NaN           NaN                      NaN   NaN         NaN   \n",
       "1         NaN           NaN                      NaN   NaN         NaN   \n",
       "2         NaN           NaN                      NaN   NaN         NaN   \n",
       "3         NaN           NaN                      NaN   NaN         NaN   \n",
       "4         NaN           NaN                      NaN   NaN         NaN   \n",
       "\n",
       "  secure_media secure_media_embed author_cakeday  call_to_action  category  \\\n",
       "0          NaN                NaN            NaN             NaN       NaN   \n",
       "1          NaN                NaN            NaN             NaN       NaN   \n",
       "2          NaN                NaN            NaN             NaN       NaN   \n",
       "3          NaN                NaN            NaN             NaN       NaN   \n",
       "4          NaN                NaN            NaN             NaN       NaN   \n",
       "\n",
       "  media_metadata  gilded  \n",
       "0            NaN     NaN  \n",
       "1            NaN     NaN  \n",
       "2            NaN     NaN  \n",
       "3            NaN     NaN  \n",
       "4            NaN     NaN  "
      ]
     },
     "execution_count": 4,
     "metadata": {},
     "output_type": "execute_result"
    }
   ],
   "source": [
    "sci.head()"
   ]
  },
  {
   "cell_type": "markdown",
   "id": "d63f0699-e9e4-4a72-b769-689c779e8c3b",
   "metadata": {},
   "source": [
    "~25000 posts are scraped from Science Subreddits"
   ]
  },
  {
   "cell_type": "code",
   "execution_count": 5,
   "id": "2374e089-c7f9-4805-94f8-5c4432c30d15",
   "metadata": {},
   "outputs": [],
   "source": [
    "# Remove duplicate posts\n",
    "sci.drop_duplicates(subset=['title'], inplace = True)"
   ]
  },
  {
   "cell_type": "code",
   "execution_count": 6,
   "id": "d794ab54-6abd-441c-aebf-5828af0ebd24",
   "metadata": {},
   "outputs": [],
   "source": [
    "# create a subset df for our subsequent analysis\n",
    "sci_df = sci[['subreddit', 'title', 'author', 'link_flair_text']].copy()"
   ]
  },
  {
   "cell_type": "code",
   "execution_count": 7,
   "id": "878f84e6-7afe-4a94-a079-76b81418c086",
   "metadata": {},
   "outputs": [],
   "source": [
    "sci_df.rename(columns = {\"title\": \"posts\", \"link_flair_text\": \"category\"}, inplace = True)"
   ]
  },
  {
   "cell_type": "code",
   "execution_count": 8,
   "id": "b2fce1bc-86db-4802-ac5f-41ef2a07a90a",
   "metadata": {},
   "outputs": [
    {
     "data": {
      "text/html": [
       "<div>\n",
       "<style scoped>\n",
       "    .dataframe tbody tr th:only-of-type {\n",
       "        vertical-align: middle;\n",
       "    }\n",
       "\n",
       "    .dataframe tbody tr th {\n",
       "        vertical-align: top;\n",
       "    }\n",
       "\n",
       "    .dataframe thead th {\n",
       "        text-align: right;\n",
       "    }\n",
       "</style>\n",
       "<table border=\"1\" class=\"dataframe\">\n",
       "  <thead>\n",
       "    <tr style=\"text-align: right;\">\n",
       "      <th></th>\n",
       "      <th>subreddit</th>\n",
       "      <th>posts</th>\n",
       "      <th>author</th>\n",
       "      <th>category</th>\n",
       "    </tr>\n",
       "  </thead>\n",
       "  <tbody>\n",
       "    <tr>\n",
       "      <th>0</th>\n",
       "      <td>science</td>\n",
       "      <td>2022 Nobel Prize in Physiology or Medicine to ...</td>\n",
       "      <td>chilladipa</td>\n",
       "      <td>Genetics</td>\n",
       "    </tr>\n",
       "    <tr>\n",
       "      <th>1</th>\n",
       "      <td>science</td>\n",
       "      <td>India vs South Africa 2nd T20</td>\n",
       "      <td>Simple-Rest-8625</td>\n",
       "      <td>Physics</td>\n",
       "    </tr>\n",
       "    <tr>\n",
       "      <th>2</th>\n",
       "      <td>science</td>\n",
       "      <td>Want a better relationship with your dog? Thes...</td>\n",
       "      <td>patient-Spring-4</td>\n",
       "      <td>Animal Science</td>\n",
       "    </tr>\n",
       "    <tr>\n",
       "      <th>3</th>\n",
       "      <td>science</td>\n",
       "      <td>Record avian flu outbreak sees 48m birds culle...</td>\n",
       "      <td>trevor25</td>\n",
       "      <td>Animal Science</td>\n",
       "    </tr>\n",
       "    <tr>\n",
       "      <th>4</th>\n",
       "      <td>science</td>\n",
       "      <td>In this review article, we focus on the effect...</td>\n",
       "      <td>Meatrition</td>\n",
       "      <td>Health</td>\n",
       "    </tr>\n",
       "  </tbody>\n",
       "</table>\n",
       "</div>"
      ],
      "text/plain": [
       "  subreddit                                              posts  \\\n",
       "0   science  2022 Nobel Prize in Physiology or Medicine to ...   \n",
       "1   science                      India vs South Africa 2nd T20   \n",
       "2   science  Want a better relationship with your dog? Thes...   \n",
       "3   science  Record avian flu outbreak sees 48m birds culle...   \n",
       "4   science  In this review article, we focus on the effect...   \n",
       "\n",
       "             author        category  \n",
       "0        chilladipa        Genetics  \n",
       "1  Simple-Rest-8625         Physics  \n",
       "2  patient-Spring-4  Animal Science  \n",
       "3          trevor25  Animal Science  \n",
       "4        Meatrition          Health  "
      ]
     },
     "execution_count": 8,
     "metadata": {},
     "output_type": "execute_result"
    }
   ],
   "source": [
    "sci_df.head()"
   ]
  },
  {
   "cell_type": "markdown",
   "id": "92f1ad3a-d922-406f-9feb-b95585c71dc6",
   "metadata": {},
   "source": [
    "~25000 posts are scraped from Science Subreddits"
   ]
  },
  {
   "cell_type": "markdown",
   "id": "bc0b82f9-6d9e-4915-bc69-311f45a72697",
   "metadata": {},
   "source": [
    "## (ii) PHILOSOPHY"
   ]
  },
  {
   "cell_type": "code",
   "execution_count": 9,
   "id": "459c1602-32bb-43c6-bd70-0f1499eec712",
   "metadata": {
    "scrolled": true,
    "tags": []
   },
   "outputs": [
    {
     "name": "stdout",
     "output_type": "stream",
     "text": [
      "<class 'pandas.core.frame.DataFrame'>\n",
      "RangeIndex: 25113 entries, 0 to 25112\n",
      "Data columns (total 83 columns):\n",
      " #   Column                         Non-Null Count  Dtype  \n",
      "---  ------                         --------------  -----  \n",
      " 0   all_awardings                  25113 non-null  object \n",
      " 1   allow_live_comments            25113 non-null  bool   \n",
      " 2   author                         25113 non-null  object \n",
      " 3   author_flair_css_class         1 non-null      object \n",
      " 4   author_flair_richtext          24941 non-null  object \n",
      " 5   author_flair_text              496 non-null    object \n",
      " 6   author_flair_type              24941 non-null  object \n",
      " 7   author_fullname                24941 non-null  object \n",
      " 8   author_is_blocked              22307 non-null  object \n",
      " 9   author_patreon_flair           24941 non-null  object \n",
      " 10  author_premium                 24941 non-null  object \n",
      " 11  awarders                       25113 non-null  object \n",
      " 12  can_mod_post                   25113 non-null  bool   \n",
      " 13  contest_mode                   25113 non-null  bool   \n",
      " 14  created_utc                    25113 non-null  int64  \n",
      " 15  domain                         25112 non-null  object \n",
      " 16  full_link                      25113 non-null  object \n",
      " 17  gildings                       25113 non-null  object \n",
      " 18  id                             25113 non-null  object \n",
      " 19  is_created_from_ads_ui         24602 non-null  object \n",
      " 20  is_crosspostable               25113 non-null  bool   \n",
      " 21  is_meta                        25113 non-null  bool   \n",
      " 22  is_original_content            25113 non-null  bool   \n",
      " 23  is_reddit_media_domain         25113 non-null  bool   \n",
      " 24  is_robot_indexable             25113 non-null  bool   \n",
      " 25  is_self                        25113 non-null  bool   \n",
      " 26  is_video                       25113 non-null  bool   \n",
      " 27  link_flair_background_color    178 non-null    object \n",
      " 28  link_flair_richtext            25113 non-null  object \n",
      " 29  link_flair_text_color          25112 non-null  object \n",
      " 30  link_flair_type                25113 non-null  object \n",
      " 31  locked                         25113 non-null  bool   \n",
      " 32  media_only                     25113 non-null  bool   \n",
      " 33  no_follow                      25113 non-null  bool   \n",
      " 34  num_comments                   25113 non-null  int64  \n",
      " 35  num_crossposts                 25113 non-null  int64  \n",
      " 36  over_18                        25113 non-null  bool   \n",
      " 37  parent_whitelist_status        25113 non-null  object \n",
      " 38  permalink                      25113 non-null  object \n",
      " 39  pinned                         25113 non-null  bool   \n",
      " 40  pwls                           25113 non-null  int64  \n",
      " 41  removed_by_category            20161 non-null  object \n",
      " 42  retrieved_on                   25113 non-null  int64  \n",
      " 43  score                          25113 non-null  int64  \n",
      " 44  selftext                       14307 non-null  object \n",
      " 45  send_replies                   25113 non-null  bool   \n",
      " 46  spoiler                        25113 non-null  bool   \n",
      " 47  stickied                       25113 non-null  bool   \n",
      " 48  subreddit                      25113 non-null  object \n",
      " 49  subreddit_id                   25113 non-null  object \n",
      " 50  subreddit_subscribers          25113 non-null  int64  \n",
      " 51  subreddit_type                 25113 non-null  object \n",
      " 52  suggested_sort                 25113 non-null  object \n",
      " 53  thumbnail                      25113 non-null  object \n",
      " 54  title                          25113 non-null  object \n",
      " 55  total_awards_received          25113 non-null  int64  \n",
      " 56  treatment_tags                 25113 non-null  object \n",
      " 57  upvote_ratio                   25113 non-null  float64\n",
      " 58  url                            25112 non-null  object \n",
      " 59  whitelist_status               25113 non-null  object \n",
      " 60  wls                            25113 non-null  int64  \n",
      " 61  url_overridden_by_dest         10725 non-null  object \n",
      " 62  post_hint                      10701 non-null  object \n",
      " 63  preview                        10701 non-null  object \n",
      " 64  thumbnail_height               8900 non-null   float64\n",
      " 65  thumbnail_width                8900 non-null   float64\n",
      " 66  author_flair_background_color  0 non-null      float64\n",
      " 67  author_flair_text_color        668 non-null    object \n",
      " 68  link_flair_css_class           178 non-null    object \n",
      " 69  link_flair_template_id         178 non-null    object \n",
      " 70  link_flair_text                178 non-null    object \n",
      " 71  media                          3250 non-null   object \n",
      " 72  media_embed                    3250 non-null   object \n",
      " 73  secure_media                   3250 non-null   object \n",
      " 74  secure_media_embed             3250 non-null   object \n",
      " 75  author_cakeday                 61 non-null     object \n",
      " 76  banned_by                      116 non-null    object \n",
      " 77  call_to_action                 0 non-null      float64\n",
      " 78  category                       0 non-null      float64\n",
      " 79  edited                         10 non-null     float64\n",
      " 80  crosspost_parent               1 non-null      object \n",
      " 81  crosspost_parent_list          1 non-null      object \n",
      " 82  gilded                         1 non-null      float64\n",
      "dtypes: bool(18), float64(8), int64(9), object(48)\n",
      "memory usage: 12.9+ MB\n"
     ]
    }
   ],
   "source": [
    "phi.info()"
   ]
  },
  {
   "cell_type": "code",
   "execution_count": 10,
   "id": "bc6e5b39-ed3d-404f-8de9-7c6b8ed9ec9a",
   "metadata": {},
   "outputs": [
    {
     "data": {
      "text/html": [
       "<div>\n",
       "<style scoped>\n",
       "    .dataframe tbody tr th:only-of-type {\n",
       "        vertical-align: middle;\n",
       "    }\n",
       "\n",
       "    .dataframe tbody tr th {\n",
       "        vertical-align: top;\n",
       "    }\n",
       "\n",
       "    .dataframe thead th {\n",
       "        text-align: right;\n",
       "    }\n",
       "</style>\n",
       "<table border=\"1\" class=\"dataframe\">\n",
       "  <thead>\n",
       "    <tr style=\"text-align: right;\">\n",
       "      <th></th>\n",
       "      <th>all_awardings</th>\n",
       "      <th>allow_live_comments</th>\n",
       "      <th>author</th>\n",
       "      <th>author_flair_css_class</th>\n",
       "      <th>author_flair_richtext</th>\n",
       "      <th>author_flair_text</th>\n",
       "      <th>author_flair_type</th>\n",
       "      <th>author_fullname</th>\n",
       "      <th>author_is_blocked</th>\n",
       "      <th>author_patreon_flair</th>\n",
       "      <th>author_premium</th>\n",
       "      <th>awarders</th>\n",
       "      <th>can_mod_post</th>\n",
       "      <th>contest_mode</th>\n",
       "      <th>created_utc</th>\n",
       "      <th>domain</th>\n",
       "      <th>full_link</th>\n",
       "      <th>gildings</th>\n",
       "      <th>id</th>\n",
       "      <th>is_created_from_ads_ui</th>\n",
       "      <th>is_crosspostable</th>\n",
       "      <th>is_meta</th>\n",
       "      <th>is_original_content</th>\n",
       "      <th>is_reddit_media_domain</th>\n",
       "      <th>is_robot_indexable</th>\n",
       "      <th>is_self</th>\n",
       "      <th>is_video</th>\n",
       "      <th>link_flair_background_color</th>\n",
       "      <th>link_flair_richtext</th>\n",
       "      <th>link_flair_text_color</th>\n",
       "      <th>link_flair_type</th>\n",
       "      <th>locked</th>\n",
       "      <th>media_only</th>\n",
       "      <th>no_follow</th>\n",
       "      <th>num_comments</th>\n",
       "      <th>num_crossposts</th>\n",
       "      <th>over_18</th>\n",
       "      <th>parent_whitelist_status</th>\n",
       "      <th>permalink</th>\n",
       "      <th>pinned</th>\n",
       "      <th>pwls</th>\n",
       "      <th>removed_by_category</th>\n",
       "      <th>retrieved_on</th>\n",
       "      <th>score</th>\n",
       "      <th>selftext</th>\n",
       "      <th>send_replies</th>\n",
       "      <th>spoiler</th>\n",
       "      <th>stickied</th>\n",
       "      <th>subreddit</th>\n",
       "      <th>subreddit_id</th>\n",
       "      <th>subreddit_subscribers</th>\n",
       "      <th>subreddit_type</th>\n",
       "      <th>suggested_sort</th>\n",
       "      <th>thumbnail</th>\n",
       "      <th>title</th>\n",
       "      <th>total_awards_received</th>\n",
       "      <th>treatment_tags</th>\n",
       "      <th>upvote_ratio</th>\n",
       "      <th>url</th>\n",
       "      <th>whitelist_status</th>\n",
       "      <th>wls</th>\n",
       "      <th>url_overridden_by_dest</th>\n",
       "      <th>post_hint</th>\n",
       "      <th>preview</th>\n",
       "      <th>thumbnail_height</th>\n",
       "      <th>thumbnail_width</th>\n",
       "      <th>author_flair_background_color</th>\n",
       "      <th>author_flair_text_color</th>\n",
       "      <th>link_flair_css_class</th>\n",
       "      <th>link_flair_template_id</th>\n",
       "      <th>link_flair_text</th>\n",
       "      <th>media</th>\n",
       "      <th>media_embed</th>\n",
       "      <th>secure_media</th>\n",
       "      <th>secure_media_embed</th>\n",
       "      <th>author_cakeday</th>\n",
       "      <th>banned_by</th>\n",
       "      <th>call_to_action</th>\n",
       "      <th>category</th>\n",
       "      <th>edited</th>\n",
       "      <th>crosspost_parent</th>\n",
       "      <th>crosspost_parent_list</th>\n",
       "      <th>gilded</th>\n",
       "    </tr>\n",
       "  </thead>\n",
       "  <tbody>\n",
       "    <tr>\n",
       "      <th>0</th>\n",
       "      <td>[]</td>\n",
       "      <td>False</td>\n",
       "      <td>Material-Pilot-3656</td>\n",
       "      <td>NaN</td>\n",
       "      <td>[]</td>\n",
       "      <td>NaN</td>\n",
       "      <td>text</td>\n",
       "      <td>t2_car63k9e</td>\n",
       "      <td>False</td>\n",
       "      <td>False</td>\n",
       "      <td>False</td>\n",
       "      <td>[]</td>\n",
       "      <td>False</td>\n",
       "      <td>False</td>\n",
       "      <td>1664810634</td>\n",
       "      <td>self.philosophy</td>\n",
       "      <td>https://www.reddit.com/r/philosophy/comments/x...</td>\n",
       "      <td>{}</td>\n",
       "      <td>xumf0c</td>\n",
       "      <td>False</td>\n",
       "      <td>False</td>\n",
       "      <td>False</td>\n",
       "      <td>False</td>\n",
       "      <td>False</td>\n",
       "      <td>False</td>\n",
       "      <td>True</td>\n",
       "      <td>False</td>\n",
       "      <td>NaN</td>\n",
       "      <td>[]</td>\n",
       "      <td>dark</td>\n",
       "      <td>text</td>\n",
       "      <td>False</td>\n",
       "      <td>False</td>\n",
       "      <td>True</td>\n",
       "      <td>0</td>\n",
       "      <td>0</td>\n",
       "      <td>False</td>\n",
       "      <td>all_ads</td>\n",
       "      <td>/r/philosophy/comments/xumf0c/new_razor/</td>\n",
       "      <td>False</td>\n",
       "      <td>6</td>\n",
       "      <td>automod_filtered</td>\n",
       "      <td>1664810644</td>\n",
       "      <td>1</td>\n",
       "      <td>[removed]</td>\n",
       "      <td>True</td>\n",
       "      <td>False</td>\n",
       "      <td>False</td>\n",
       "      <td>philosophy</td>\n",
       "      <td>t5_2qh5b</td>\n",
       "      <td>16897144</td>\n",
       "      <td>public</td>\n",
       "      <td>confidence</td>\n",
       "      <td>self</td>\n",
       "      <td>New Razor</td>\n",
       "      <td>0</td>\n",
       "      <td>[]</td>\n",
       "      <td>1.0</td>\n",
       "      <td>https://www.reddit.com/r/philosophy/comments/x...</td>\n",
       "      <td>all_ads</td>\n",
       "      <td>6</td>\n",
       "      <td>NaN</td>\n",
       "      <td>NaN</td>\n",
       "      <td>NaN</td>\n",
       "      <td>NaN</td>\n",
       "      <td>NaN</td>\n",
       "      <td>NaN</td>\n",
       "      <td>NaN</td>\n",
       "      <td>NaN</td>\n",
       "      <td>NaN</td>\n",
       "      <td>NaN</td>\n",
       "      <td>NaN</td>\n",
       "      <td>NaN</td>\n",
       "      <td>NaN</td>\n",
       "      <td>NaN</td>\n",
       "      <td>NaN</td>\n",
       "      <td>NaN</td>\n",
       "      <td>NaN</td>\n",
       "      <td>NaN</td>\n",
       "      <td>NaN</td>\n",
       "      <td>NaN</td>\n",
       "      <td>NaN</td>\n",
       "      <td>NaN</td>\n",
       "    </tr>\n",
       "    <tr>\n",
       "      <th>1</th>\n",
       "      <td>[]</td>\n",
       "      <td>False</td>\n",
       "      <td>byrd_nick</td>\n",
       "      <td>NaN</td>\n",
       "      <td>[]</td>\n",
       "      <td>NaN</td>\n",
       "      <td>text</td>\n",
       "      <td>t2_q77l4</td>\n",
       "      <td>False</td>\n",
       "      <td>False</td>\n",
       "      <td>False</td>\n",
       "      <td>[]</td>\n",
       "      <td>False</td>\n",
       "      <td>False</td>\n",
       "      <td>1664810509</td>\n",
       "      <td>doi.org</td>\n",
       "      <td>https://www.reddit.com/r/philosophy/comments/x...</td>\n",
       "      <td>{}</td>\n",
       "      <td>xumd3a</td>\n",
       "      <td>False</td>\n",
       "      <td>True</td>\n",
       "      <td>False</td>\n",
       "      <td>False</td>\n",
       "      <td>False</td>\n",
       "      <td>True</td>\n",
       "      <td>False</td>\n",
       "      <td>False</td>\n",
       "      <td>NaN</td>\n",
       "      <td>[]</td>\n",
       "      <td>dark</td>\n",
       "      <td>text</td>\n",
       "      <td>False</td>\n",
       "      <td>False</td>\n",
       "      <td>True</td>\n",
       "      <td>0</td>\n",
       "      <td>0</td>\n",
       "      <td>False</td>\n",
       "      <td>all_ads</td>\n",
       "      <td>/r/philosophy/comments/xumd3a/a_new_tradition_...</td>\n",
       "      <td>False</td>\n",
       "      <td>6</td>\n",
       "      <td>NaN</td>\n",
       "      <td>1664810520</td>\n",
       "      <td>1</td>\n",
       "      <td>NaN</td>\n",
       "      <td>True</td>\n",
       "      <td>False</td>\n",
       "      <td>False</td>\n",
       "      <td>philosophy</td>\n",
       "      <td>t5_2qh5b</td>\n",
       "      <td>16897141</td>\n",
       "      <td>public</td>\n",
       "      <td>confidence</td>\n",
       "      <td>default</td>\n",
       "      <td>A new tradition is detected in academic philos...</td>\n",
       "      <td>0</td>\n",
       "      <td>[]</td>\n",
       "      <td>1.0</td>\n",
       "      <td>https://doi.org/10.1111/meta.12591</td>\n",
       "      <td>all_ads</td>\n",
       "      <td>6</td>\n",
       "      <td>https://doi.org/10.1111/meta.12591</td>\n",
       "      <td>NaN</td>\n",
       "      <td>NaN</td>\n",
       "      <td>NaN</td>\n",
       "      <td>NaN</td>\n",
       "      <td>NaN</td>\n",
       "      <td>NaN</td>\n",
       "      <td>NaN</td>\n",
       "      <td>NaN</td>\n",
       "      <td>NaN</td>\n",
       "      <td>NaN</td>\n",
       "      <td>NaN</td>\n",
       "      <td>NaN</td>\n",
       "      <td>NaN</td>\n",
       "      <td>NaN</td>\n",
       "      <td>NaN</td>\n",
       "      <td>NaN</td>\n",
       "      <td>NaN</td>\n",
       "      <td>NaN</td>\n",
       "      <td>NaN</td>\n",
       "      <td>NaN</td>\n",
       "      <td>NaN</td>\n",
       "    </tr>\n",
       "    <tr>\n",
       "      <th>2</th>\n",
       "      <td>[]</td>\n",
       "      <td>False</td>\n",
       "      <td>AthleticsIllustrated</td>\n",
       "      <td>NaN</td>\n",
       "      <td>[]</td>\n",
       "      <td>NaN</td>\n",
       "      <td>text</td>\n",
       "      <td>t2_8h0cw</td>\n",
       "      <td>False</td>\n",
       "      <td>False</td>\n",
       "      <td>False</td>\n",
       "      <td>[]</td>\n",
       "      <td>False</td>\n",
       "      <td>False</td>\n",
       "      <td>1664808499</td>\n",
       "      <td>athleticsillustrated.com</td>\n",
       "      <td>https://www.reddit.com/r/philosophy/comments/x...</td>\n",
       "      <td>{}</td>\n",
       "      <td>xulhsu</td>\n",
       "      <td>False</td>\n",
       "      <td>False</td>\n",
       "      <td>False</td>\n",
       "      <td>False</td>\n",
       "      <td>False</td>\n",
       "      <td>False</td>\n",
       "      <td>False</td>\n",
       "      <td>False</td>\n",
       "      <td>NaN</td>\n",
       "      <td>[]</td>\n",
       "      <td>dark</td>\n",
       "      <td>text</td>\n",
       "      <td>False</td>\n",
       "      <td>False</td>\n",
       "      <td>True</td>\n",
       "      <td>0</td>\n",
       "      <td>0</td>\n",
       "      <td>False</td>\n",
       "      <td>all_ads</td>\n",
       "      <td>/r/philosophy/comments/xulhsu/eilish_mccolgan_...</td>\n",
       "      <td>False</td>\n",
       "      <td>6</td>\n",
       "      <td>moderator</td>\n",
       "      <td>1664808510</td>\n",
       "      <td>1</td>\n",
       "      <td>NaN</td>\n",
       "      <td>True</td>\n",
       "      <td>False</td>\n",
       "      <td>False</td>\n",
       "      <td>philosophy</td>\n",
       "      <td>t5_2qh5b</td>\n",
       "      <td>16897103</td>\n",
       "      <td>public</td>\n",
       "      <td>confidence</td>\n",
       "      <td>default</td>\n",
       "      <td>Eilish McColgan breaks her own European 10K re...</td>\n",
       "      <td>0</td>\n",
       "      <td>[]</td>\n",
       "      <td>1.0</td>\n",
       "      <td>https://athleticsillustrated.com/eilish-mccolg...</td>\n",
       "      <td>all_ads</td>\n",
       "      <td>6</td>\n",
       "      <td>https://athleticsillustrated.com/eilish-mccolg...</td>\n",
       "      <td>link</td>\n",
       "      <td>{'enabled': False, 'images': [{'id': 'LvyBhcs3...</td>\n",
       "      <td>140.0</td>\n",
       "      <td>140.0</td>\n",
       "      <td>NaN</td>\n",
       "      <td>NaN</td>\n",
       "      <td>NaN</td>\n",
       "      <td>NaN</td>\n",
       "      <td>NaN</td>\n",
       "      <td>NaN</td>\n",
       "      <td>NaN</td>\n",
       "      <td>NaN</td>\n",
       "      <td>NaN</td>\n",
       "      <td>NaN</td>\n",
       "      <td>NaN</td>\n",
       "      <td>NaN</td>\n",
       "      <td>NaN</td>\n",
       "      <td>NaN</td>\n",
       "      <td>NaN</td>\n",
       "      <td>NaN</td>\n",
       "      <td>NaN</td>\n",
       "    </tr>\n",
       "    <tr>\n",
       "      <th>3</th>\n",
       "      <td>[]</td>\n",
       "      <td>False</td>\n",
       "      <td>ADefiniteDescription</td>\n",
       "      <td>NaN</td>\n",
       "      <td>[]</td>\n",
       "      <td>Φ</td>\n",
       "      <td>text</td>\n",
       "      <td>t2_76l9s</td>\n",
       "      <td>False</td>\n",
       "      <td>False</td>\n",
       "      <td>False</td>\n",
       "      <td>[]</td>\n",
       "      <td>False</td>\n",
       "      <td>False</td>\n",
       "      <td>1664808211</td>\n",
       "      <td>compass.onlinelibrary.wiley.com</td>\n",
       "      <td>https://www.reddit.com/r/philosophy/comments/x...</td>\n",
       "      <td>{}</td>\n",
       "      <td>xuldgm</td>\n",
       "      <td>False</td>\n",
       "      <td>True</td>\n",
       "      <td>False</td>\n",
       "      <td>False</td>\n",
       "      <td>False</td>\n",
       "      <td>True</td>\n",
       "      <td>False</td>\n",
       "      <td>False</td>\n",
       "      <td>NaN</td>\n",
       "      <td>[]</td>\n",
       "      <td>dark</td>\n",
       "      <td>text</td>\n",
       "      <td>False</td>\n",
       "      <td>False</td>\n",
       "      <td>True</td>\n",
       "      <td>0</td>\n",
       "      <td>0</td>\n",
       "      <td>False</td>\n",
       "      <td>all_ads</td>\n",
       "      <td>/r/philosophy/comments/xuldgm/the_agents_of_ju...</td>\n",
       "      <td>False</td>\n",
       "      <td>6</td>\n",
       "      <td>NaN</td>\n",
       "      <td>1664808222</td>\n",
       "      <td>1</td>\n",
       "      <td>NaN</td>\n",
       "      <td>False</td>\n",
       "      <td>False</td>\n",
       "      <td>False</td>\n",
       "      <td>philosophy</td>\n",
       "      <td>t5_2qh5b</td>\n",
       "      <td>16897094</td>\n",
       "      <td>public</td>\n",
       "      <td>confidence</td>\n",
       "      <td>default</td>\n",
       "      <td>The Agents of Justice</td>\n",
       "      <td>0</td>\n",
       "      <td>[]</td>\n",
       "      <td>1.0</td>\n",
       "      <td>https://compass.onlinelibrary.wiley.com/doi/fu...</td>\n",
       "      <td>all_ads</td>\n",
       "      <td>6</td>\n",
       "      <td>https://compass.onlinelibrary.wiley.com/doi/fu...</td>\n",
       "      <td>NaN</td>\n",
       "      <td>NaN</td>\n",
       "      <td>NaN</td>\n",
       "      <td>NaN</td>\n",
       "      <td>NaN</td>\n",
       "      <td>dark</td>\n",
       "      <td>NaN</td>\n",
       "      <td>NaN</td>\n",
       "      <td>NaN</td>\n",
       "      <td>NaN</td>\n",
       "      <td>NaN</td>\n",
       "      <td>NaN</td>\n",
       "      <td>NaN</td>\n",
       "      <td>NaN</td>\n",
       "      <td>NaN</td>\n",
       "      <td>NaN</td>\n",
       "      <td>NaN</td>\n",
       "      <td>NaN</td>\n",
       "      <td>NaN</td>\n",
       "      <td>NaN</td>\n",
       "      <td>NaN</td>\n",
       "    </tr>\n",
       "    <tr>\n",
       "      <th>4</th>\n",
       "      <td>[]</td>\n",
       "      <td>False</td>\n",
       "      <td>ghoshambar1</td>\n",
       "      <td>NaN</td>\n",
       "      <td>[]</td>\n",
       "      <td>NaN</td>\n",
       "      <td>text</td>\n",
       "      <td>t2_1k9mwbdj</td>\n",
       "      <td>False</td>\n",
       "      <td>False</td>\n",
       "      <td>False</td>\n",
       "      <td>[]</td>\n",
       "      <td>False</td>\n",
       "      <td>False</td>\n",
       "      <td>1664807836</td>\n",
       "      <td>thecuriousthoughts.com</td>\n",
       "      <td>https://www.reddit.com/r/philosophy/comments/x...</td>\n",
       "      <td>{}</td>\n",
       "      <td>xul7qe</td>\n",
       "      <td>False</td>\n",
       "      <td>True</td>\n",
       "      <td>False</td>\n",
       "      <td>False</td>\n",
       "      <td>False</td>\n",
       "      <td>True</td>\n",
       "      <td>False</td>\n",
       "      <td>False</td>\n",
       "      <td>NaN</td>\n",
       "      <td>[]</td>\n",
       "      <td>dark</td>\n",
       "      <td>text</td>\n",
       "      <td>False</td>\n",
       "      <td>False</td>\n",
       "      <td>False</td>\n",
       "      <td>0</td>\n",
       "      <td>0</td>\n",
       "      <td>False</td>\n",
       "      <td>all_ads</td>\n",
       "      <td>/r/philosophy/comments/xul7qe/philosophy_about...</td>\n",
       "      <td>False</td>\n",
       "      <td>6</td>\n",
       "      <td>NaN</td>\n",
       "      <td>1664807847</td>\n",
       "      <td>1</td>\n",
       "      <td>NaN</td>\n",
       "      <td>True</td>\n",
       "      <td>False</td>\n",
       "      <td>False</td>\n",
       "      <td>philosophy</td>\n",
       "      <td>t5_2qh5b</td>\n",
       "      <td>16897089</td>\n",
       "      <td>public</td>\n",
       "      <td>confidence</td>\n",
       "      <td>default</td>\n",
       "      <td>Philosophy about best friends. It explains whe...</td>\n",
       "      <td>0</td>\n",
       "      <td>[]</td>\n",
       "      <td>1.0</td>\n",
       "      <td>https://thecuriousthoughts.com/are-our-best-fr...</td>\n",
       "      <td>all_ads</td>\n",
       "      <td>6</td>\n",
       "      <td>https://thecuriousthoughts.com/are-our-best-fr...</td>\n",
       "      <td>link</td>\n",
       "      <td>{'enabled': False, 'images': [{'id': '20oiqgSQ...</td>\n",
       "      <td>95.0</td>\n",
       "      <td>140.0</td>\n",
       "      <td>NaN</td>\n",
       "      <td>NaN</td>\n",
       "      <td>NaN</td>\n",
       "      <td>NaN</td>\n",
       "      <td>NaN</td>\n",
       "      <td>NaN</td>\n",
       "      <td>NaN</td>\n",
       "      <td>NaN</td>\n",
       "      <td>NaN</td>\n",
       "      <td>NaN</td>\n",
       "      <td>NaN</td>\n",
       "      <td>NaN</td>\n",
       "      <td>NaN</td>\n",
       "      <td>NaN</td>\n",
       "      <td>NaN</td>\n",
       "      <td>NaN</td>\n",
       "      <td>NaN</td>\n",
       "    </tr>\n",
       "  </tbody>\n",
       "</table>\n",
       "</div>"
      ],
      "text/plain": [
       "  all_awardings  allow_live_comments                author  \\\n",
       "0            []                False   Material-Pilot-3656   \n",
       "1            []                False             byrd_nick   \n",
       "2            []                False  AthleticsIllustrated   \n",
       "3            []                False  ADefiniteDescription   \n",
       "4            []                False           ghoshambar1   \n",
       "\n",
       "  author_flair_css_class author_flair_richtext author_flair_text  \\\n",
       "0                    NaN                    []               NaN   \n",
       "1                    NaN                    []               NaN   \n",
       "2                    NaN                    []               NaN   \n",
       "3                    NaN                    []                 Φ   \n",
       "4                    NaN                    []               NaN   \n",
       "\n",
       "  author_flair_type author_fullname author_is_blocked author_patreon_flair  \\\n",
       "0              text     t2_car63k9e             False                False   \n",
       "1              text        t2_q77l4             False                False   \n",
       "2              text        t2_8h0cw             False                False   \n",
       "3              text        t2_76l9s             False                False   \n",
       "4              text     t2_1k9mwbdj             False                False   \n",
       "\n",
       "  author_premium awarders  can_mod_post  contest_mode  created_utc  \\\n",
       "0          False       []         False         False   1664810634   \n",
       "1          False       []         False         False   1664810509   \n",
       "2          False       []         False         False   1664808499   \n",
       "3          False       []         False         False   1664808211   \n",
       "4          False       []         False         False   1664807836   \n",
       "\n",
       "                            domain  \\\n",
       "0                  self.philosophy   \n",
       "1                          doi.org   \n",
       "2         athleticsillustrated.com   \n",
       "3  compass.onlinelibrary.wiley.com   \n",
       "4           thecuriousthoughts.com   \n",
       "\n",
       "                                           full_link gildings      id  \\\n",
       "0  https://www.reddit.com/r/philosophy/comments/x...       {}  xumf0c   \n",
       "1  https://www.reddit.com/r/philosophy/comments/x...       {}  xumd3a   \n",
       "2  https://www.reddit.com/r/philosophy/comments/x...       {}  xulhsu   \n",
       "3  https://www.reddit.com/r/philosophy/comments/x...       {}  xuldgm   \n",
       "4  https://www.reddit.com/r/philosophy/comments/x...       {}  xul7qe   \n",
       "\n",
       "  is_created_from_ads_ui  is_crosspostable  is_meta  is_original_content  \\\n",
       "0                  False             False    False                False   \n",
       "1                  False              True    False                False   \n",
       "2                  False             False    False                False   \n",
       "3                  False              True    False                False   \n",
       "4                  False              True    False                False   \n",
       "\n",
       "   is_reddit_media_domain  is_robot_indexable  is_self  is_video  \\\n",
       "0                   False               False     True     False   \n",
       "1                   False                True    False     False   \n",
       "2                   False               False    False     False   \n",
       "3                   False                True    False     False   \n",
       "4                   False                True    False     False   \n",
       "\n",
       "  link_flair_background_color link_flair_richtext link_flair_text_color  \\\n",
       "0                         NaN                  []                  dark   \n",
       "1                         NaN                  []                  dark   \n",
       "2                         NaN                  []                  dark   \n",
       "3                         NaN                  []                  dark   \n",
       "4                         NaN                  []                  dark   \n",
       "\n",
       "  link_flair_type  locked  media_only  no_follow  num_comments  \\\n",
       "0            text   False       False       True             0   \n",
       "1            text   False       False       True             0   \n",
       "2            text   False       False       True             0   \n",
       "3            text   False       False       True             0   \n",
       "4            text   False       False      False             0   \n",
       "\n",
       "   num_crossposts  over_18 parent_whitelist_status  \\\n",
       "0               0    False                 all_ads   \n",
       "1               0    False                 all_ads   \n",
       "2               0    False                 all_ads   \n",
       "3               0    False                 all_ads   \n",
       "4               0    False                 all_ads   \n",
       "\n",
       "                                           permalink  pinned  pwls  \\\n",
       "0           /r/philosophy/comments/xumf0c/new_razor/   False     6   \n",
       "1  /r/philosophy/comments/xumd3a/a_new_tradition_...   False     6   \n",
       "2  /r/philosophy/comments/xulhsu/eilish_mccolgan_...   False     6   \n",
       "3  /r/philosophy/comments/xuldgm/the_agents_of_ju...   False     6   \n",
       "4  /r/philosophy/comments/xul7qe/philosophy_about...   False     6   \n",
       "\n",
       "  removed_by_category  retrieved_on  score   selftext  send_replies  spoiler  \\\n",
       "0    automod_filtered    1664810644      1  [removed]          True    False   \n",
       "1                 NaN    1664810520      1        NaN          True    False   \n",
       "2           moderator    1664808510      1        NaN          True    False   \n",
       "3                 NaN    1664808222      1        NaN         False    False   \n",
       "4                 NaN    1664807847      1        NaN          True    False   \n",
       "\n",
       "   stickied   subreddit subreddit_id  subreddit_subscribers subreddit_type  \\\n",
       "0     False  philosophy     t5_2qh5b               16897144         public   \n",
       "1     False  philosophy     t5_2qh5b               16897141         public   \n",
       "2     False  philosophy     t5_2qh5b               16897103         public   \n",
       "3     False  philosophy     t5_2qh5b               16897094         public   \n",
       "4     False  philosophy     t5_2qh5b               16897089         public   \n",
       "\n",
       "  suggested_sort thumbnail                                              title  \\\n",
       "0     confidence      self                                          New Razor   \n",
       "1     confidence   default  A new tradition is detected in academic philos...   \n",
       "2     confidence   default  Eilish McColgan breaks her own European 10K re...   \n",
       "3     confidence   default                              The Agents of Justice   \n",
       "4     confidence   default  Philosophy about best friends. It explains whe...   \n",
       "\n",
       "   total_awards_received treatment_tags  upvote_ratio  \\\n",
       "0                      0             []           1.0   \n",
       "1                      0             []           1.0   \n",
       "2                      0             []           1.0   \n",
       "3                      0             []           1.0   \n",
       "4                      0             []           1.0   \n",
       "\n",
       "                                                 url whitelist_status  wls  \\\n",
       "0  https://www.reddit.com/r/philosophy/comments/x...          all_ads    6   \n",
       "1                 https://doi.org/10.1111/meta.12591          all_ads    6   \n",
       "2  https://athleticsillustrated.com/eilish-mccolg...          all_ads    6   \n",
       "3  https://compass.onlinelibrary.wiley.com/doi/fu...          all_ads    6   \n",
       "4  https://thecuriousthoughts.com/are-our-best-fr...          all_ads    6   \n",
       "\n",
       "                              url_overridden_by_dest post_hint  \\\n",
       "0                                                NaN       NaN   \n",
       "1                 https://doi.org/10.1111/meta.12591       NaN   \n",
       "2  https://athleticsillustrated.com/eilish-mccolg...      link   \n",
       "3  https://compass.onlinelibrary.wiley.com/doi/fu...       NaN   \n",
       "4  https://thecuriousthoughts.com/are-our-best-fr...      link   \n",
       "\n",
       "                                             preview  thumbnail_height  \\\n",
       "0                                                NaN               NaN   \n",
       "1                                                NaN               NaN   \n",
       "2  {'enabled': False, 'images': [{'id': 'LvyBhcs3...             140.0   \n",
       "3                                                NaN               NaN   \n",
       "4  {'enabled': False, 'images': [{'id': '20oiqgSQ...              95.0   \n",
       "\n",
       "   thumbnail_width  author_flair_background_color author_flair_text_color  \\\n",
       "0              NaN                            NaN                     NaN   \n",
       "1              NaN                            NaN                     NaN   \n",
       "2            140.0                            NaN                     NaN   \n",
       "3              NaN                            NaN                    dark   \n",
       "4            140.0                            NaN                     NaN   \n",
       "\n",
       "  link_flair_css_class link_flair_template_id link_flair_text media  \\\n",
       "0                  NaN                    NaN             NaN   NaN   \n",
       "1                  NaN                    NaN             NaN   NaN   \n",
       "2                  NaN                    NaN             NaN   NaN   \n",
       "3                  NaN                    NaN             NaN   NaN   \n",
       "4                  NaN                    NaN             NaN   NaN   \n",
       "\n",
       "  media_embed secure_media secure_media_embed author_cakeday banned_by  \\\n",
       "0         NaN          NaN                NaN            NaN       NaN   \n",
       "1         NaN          NaN                NaN            NaN       NaN   \n",
       "2         NaN          NaN                NaN            NaN       NaN   \n",
       "3         NaN          NaN                NaN            NaN       NaN   \n",
       "4         NaN          NaN                NaN            NaN       NaN   \n",
       "\n",
       "   call_to_action  category  edited crosspost_parent crosspost_parent_list  \\\n",
       "0             NaN       NaN     NaN              NaN                   NaN   \n",
       "1             NaN       NaN     NaN              NaN                   NaN   \n",
       "2             NaN       NaN     NaN              NaN                   NaN   \n",
       "3             NaN       NaN     NaN              NaN                   NaN   \n",
       "4             NaN       NaN     NaN              NaN                   NaN   \n",
       "\n",
       "   gilded  \n",
       "0     NaN  \n",
       "1     NaN  \n",
       "2     NaN  \n",
       "3     NaN  \n",
       "4     NaN  "
      ]
     },
     "execution_count": 10,
     "metadata": {},
     "output_type": "execute_result"
    }
   ],
   "source": [
    "phi.head()"
   ]
  },
  {
   "cell_type": "markdown",
   "id": "b4f4001e-1c58-44f3-bc56-334d20a8a389",
   "metadata": {},
   "source": [
    "~25000 posts are scraped from Science Subreddits"
   ]
  },
  {
   "cell_type": "code",
   "execution_count": 11,
   "id": "1f689348-875a-4f76-bdaf-23417d28bb98",
   "metadata": {},
   "outputs": [],
   "source": [
    "# Remove duplicate posts\n",
    "phi.drop_duplicates(subset=['title'], inplace = True)"
   ]
  },
  {
   "cell_type": "code",
   "execution_count": 12,
   "id": "8c41c967-edb6-4a98-bf33-580721560036",
   "metadata": {},
   "outputs": [],
   "source": [
    "# Many philosophy posts contains spam such as \"Crack for iPhone users\", \"Crack for Adobe Photoshop\"\n",
    "# Dropping all datas with \"Crack\" word\n",
    "#phi.drop(phi.loc[phi['title'].str.contains(\"crack\", \"Crack\")].index, inplace = True)"
   ]
  },
  {
   "cell_type": "code",
   "execution_count": 13,
   "id": "1f9ae0b8-35d6-433a-9cec-e82e7d415ee1",
   "metadata": {},
   "outputs": [
    {
     "data": {
      "text/plain": [
       "6        Outer Space Mac Crack 1.2.1 Full Torrent Free ...\n",
       "7        Prism Video Converter 9.47 Crack With Serial K...\n",
       "8        Tenorshare ReiBoot Pro Crack 10.6.9 Registrati...\n",
       "9        Twinmotion 2022.3 Crack Activation Key Full Ve...\n",
       "10       IDM Crack 6.43 Build 12 Patch With (Lifetime) ...\n",
       "                               ...                        \n",
       "25063    CAVN Neck Fan Portable, USB Rechargeable Neckb...\n",
       "25064                          FASHIONABLE NEW TOP PRODUCT\n",
       "25065    Dyazo 4.8 Amp (2.4 &amp; 2.4 Amp) Dual Port Fa...\n",
       "25066                   Puma Men's Enzo Mesh Running Shoes\n",
       "25069               Puma Men's Lqdcell Method Running Shoe\n",
       "Name: title, Length: 3057, dtype: object"
      ]
     },
     "execution_count": 13,
     "metadata": {},
     "output_type": "execute_result"
    }
   ],
   "source": [
    "# There are other spam posts detected from reddit as shown below:\n",
    "phi[phi['removed_by_category'] == 'reddit']['title']"
   ]
  },
  {
   "cell_type": "code",
   "execution_count": 14,
   "id": "fa29a161-3ddd-4353-9ef5-32a252dc642d",
   "metadata": {},
   "outputs": [],
   "source": [
    "# Drop these posts\n",
    "phi.drop(phi.loc[phi['removed_by_category'] == 'reddit'].index, inplace = True)"
   ]
  },
  {
   "cell_type": "code",
   "execution_count": 15,
   "id": "9e69d4a0-88b2-4cf0-9251-49b59e6375f8",
   "metadata": {},
   "outputs": [],
   "source": [
    "# create a subset df for our subsequent analysis\n",
    "phi_df = phi[['subreddit', 'title', 'author', 'link_flair_text']].copy()"
   ]
  },
  {
   "cell_type": "code",
   "execution_count": 16,
   "id": "8a1d7163-2eef-45cd-a9a0-8e7271459442",
   "metadata": {},
   "outputs": [],
   "source": [
    "phi_df.rename(columns = {\"title\": \"posts\", \"link_flair_text\": \"category\"}, inplace = True)"
   ]
  },
  {
   "cell_type": "code",
   "execution_count": 17,
   "id": "d9b11507-249c-427c-a6ec-1b3a6bfa84d8",
   "metadata": {},
   "outputs": [
    {
     "data": {
      "text/html": [
       "<div>\n",
       "<style scoped>\n",
       "    .dataframe tbody tr th:only-of-type {\n",
       "        vertical-align: middle;\n",
       "    }\n",
       "\n",
       "    .dataframe tbody tr th {\n",
       "        vertical-align: top;\n",
       "    }\n",
       "\n",
       "    .dataframe thead th {\n",
       "        text-align: right;\n",
       "    }\n",
       "</style>\n",
       "<table border=\"1\" class=\"dataframe\">\n",
       "  <thead>\n",
       "    <tr style=\"text-align: right;\">\n",
       "      <th></th>\n",
       "      <th>subreddit</th>\n",
       "      <th>posts</th>\n",
       "      <th>author</th>\n",
       "      <th>category</th>\n",
       "    </tr>\n",
       "  </thead>\n",
       "  <tbody>\n",
       "    <tr>\n",
       "      <th>0</th>\n",
       "      <td>philosophy</td>\n",
       "      <td>New Razor</td>\n",
       "      <td>Material-Pilot-3656</td>\n",
       "      <td>NaN</td>\n",
       "    </tr>\n",
       "    <tr>\n",
       "      <th>1</th>\n",
       "      <td>philosophy</td>\n",
       "      <td>A new tradition is detected in academic philos...</td>\n",
       "      <td>byrd_nick</td>\n",
       "      <td>NaN</td>\n",
       "    </tr>\n",
       "    <tr>\n",
       "      <th>2</th>\n",
       "      <td>philosophy</td>\n",
       "      <td>Eilish McColgan breaks her own European 10K re...</td>\n",
       "      <td>AthleticsIllustrated</td>\n",
       "      <td>NaN</td>\n",
       "    </tr>\n",
       "    <tr>\n",
       "      <th>3</th>\n",
       "      <td>philosophy</td>\n",
       "      <td>The Agents of Justice</td>\n",
       "      <td>ADefiniteDescription</td>\n",
       "      <td>NaN</td>\n",
       "    </tr>\n",
       "    <tr>\n",
       "      <th>4</th>\n",
       "      <td>philosophy</td>\n",
       "      <td>Philosophy about best friends. It explains whe...</td>\n",
       "      <td>ghoshambar1</td>\n",
       "      <td>NaN</td>\n",
       "    </tr>\n",
       "  </tbody>\n",
       "</table>\n",
       "</div>"
      ],
      "text/plain": [
       "    subreddit                                              posts  \\\n",
       "0  philosophy                                          New Razor   \n",
       "1  philosophy  A new tradition is detected in academic philos...   \n",
       "2  philosophy  Eilish McColgan breaks her own European 10K re...   \n",
       "3  philosophy                              The Agents of Justice   \n",
       "4  philosophy  Philosophy about best friends. It explains whe...   \n",
       "\n",
       "                 author category  \n",
       "0   Material-Pilot-3656      NaN  \n",
       "1             byrd_nick      NaN  \n",
       "2  AthleticsIllustrated      NaN  \n",
       "3  ADefiniteDescription      NaN  \n",
       "4           ghoshambar1      NaN  "
      ]
     },
     "execution_count": 17,
     "metadata": {},
     "output_type": "execute_result"
    }
   ],
   "source": [
    "phi_df.head()"
   ]
  },
  {
   "cell_type": "markdown",
   "id": "2f1c3bd2-12b4-42fb-949c-76c5ff69b104",
   "metadata": {
    "tags": []
   },
   "source": [
    "# 03. EDA"
   ]
  },
  {
   "cell_type": "markdown",
   "id": "f04f21d4-6095-4c3d-9bc5-840b3411ecaa",
   "metadata": {},
   "source": [
    "## (i) SCIENCE"
   ]
  },
  {
   "cell_type": "code",
   "execution_count": 18,
   "id": "41dd9a36-4786-43ec-9f2c-5b43e8df25a1",
   "metadata": {},
   "outputs": [
    {
     "data": {
      "text/html": [
       "<div>\n",
       "<style scoped>\n",
       "    .dataframe tbody tr th:only-of-type {\n",
       "        vertical-align: middle;\n",
       "    }\n",
       "\n",
       "    .dataframe tbody tr th {\n",
       "        vertical-align: top;\n",
       "    }\n",
       "\n",
       "    .dataframe thead th {\n",
       "        text-align: right;\n",
       "    }\n",
       "</style>\n",
       "<table border=\"1\" class=\"dataframe\">\n",
       "  <thead>\n",
       "    <tr style=\"text-align: right;\">\n",
       "      <th></th>\n",
       "      <th>subreddit</th>\n",
       "      <th>posts</th>\n",
       "      <th>author</th>\n",
       "      <th>category</th>\n",
       "    </tr>\n",
       "  </thead>\n",
       "  <tbody>\n",
       "    <tr>\n",
       "      <th>0</th>\n",
       "      <td>science</td>\n",
       "      <td>2022 Nobel Prize in Physiology or Medicine to ...</td>\n",
       "      <td>chilladipa</td>\n",
       "      <td>Genetics</td>\n",
       "    </tr>\n",
       "    <tr>\n",
       "      <th>1</th>\n",
       "      <td>science</td>\n",
       "      <td>India vs South Africa 2nd T20</td>\n",
       "      <td>Simple-Rest-8625</td>\n",
       "      <td>Physics</td>\n",
       "    </tr>\n",
       "    <tr>\n",
       "      <th>2</th>\n",
       "      <td>science</td>\n",
       "      <td>Want a better relationship with your dog? Thes...</td>\n",
       "      <td>patient-Spring-4</td>\n",
       "      <td>Animal Science</td>\n",
       "    </tr>\n",
       "    <tr>\n",
       "      <th>3</th>\n",
       "      <td>science</td>\n",
       "      <td>Record avian flu outbreak sees 48m birds culle...</td>\n",
       "      <td>trevor25</td>\n",
       "      <td>Animal Science</td>\n",
       "    </tr>\n",
       "    <tr>\n",
       "      <th>4</th>\n",
       "      <td>science</td>\n",
       "      <td>In this review article, we focus on the effect...</td>\n",
       "      <td>Meatrition</td>\n",
       "      <td>Health</td>\n",
       "    </tr>\n",
       "  </tbody>\n",
       "</table>\n",
       "</div>"
      ],
      "text/plain": [
       "  subreddit                                              posts  \\\n",
       "0   science  2022 Nobel Prize in Physiology or Medicine to ...   \n",
       "1   science                      India vs South Africa 2nd T20   \n",
       "2   science  Want a better relationship with your dog? Thes...   \n",
       "3   science  Record avian flu outbreak sees 48m birds culle...   \n",
       "4   science  In this review article, we focus on the effect...   \n",
       "\n",
       "             author        category  \n",
       "0        chilladipa        Genetics  \n",
       "1  Simple-Rest-8625         Physics  \n",
       "2  patient-Spring-4  Animal Science  \n",
       "3          trevor25  Animal Science  \n",
       "4        Meatrition          Health  "
      ]
     },
     "execution_count": 18,
     "metadata": {},
     "output_type": "execute_result"
    }
   ],
   "source": [
    "sci_df.head()"
   ]
  },
  {
   "cell_type": "code",
   "execution_count": 19,
   "id": "80e14342-3bcc-46f8-b3fd-f580a35f07bc",
   "metadata": {},
   "outputs": [
    {
     "data": {
      "text/plain": [
       "6504"
      ]
     },
     "execution_count": 19,
     "metadata": {},
     "output_type": "execute_result"
    }
   ],
   "source": [
    "len(sci_df['author'].unique())"
   ]
  },
  {
   "cell_type": "code",
   "execution_count": 20,
   "id": "ddf28eee-5efe-4161-9f5b-d826d47e177c",
   "metadata": {},
   "outputs": [
    {
     "data": {
      "text/plain": [
       "MistWeaver80            1025\n",
       "Wagamaga                 920\n",
       "Additional-Two-7312      554\n",
       "SANJAYCMI                494\n",
       "rustoo                   481\n",
       "                        ... \n",
       "Sharp_Island_4527          1\n",
       "bil_sabab                  1\n",
       "DragonSided-D              1\n",
       "BassBoneMan                1\n",
       "Zealousideal_Fee5236       1\n",
       "Name: author, Length: 6504, dtype: int64"
      ]
     },
     "execution_count": 20,
     "metadata": {},
     "output_type": "execute_result"
    }
   ],
   "source": [
    "sci_df['author'].value_counts()"
   ]
  },
  {
   "cell_type": "markdown",
   "id": "6402779f-4d91-41f5-96b2-5aee1ea1033a",
   "metadata": {},
   "source": [
    "**Observations:** <br>\n",
    "There are ~6500 unique authors in the science datasets. <br>\n",
    "The top 3 contributors are: MistWeaver80, Wagamaga, and Additional-Two-7312"
   ]
  },
  {
   "cell_type": "code",
   "execution_count": 21,
   "id": "90f5c99c-1431-4eb7-a932-572a28750969",
   "metadata": {},
   "outputs": [
    {
     "data": {
      "text/plain": [
       "array(['Genetics', 'Physics', 'Animal Science', 'Health', 'Astronomy',\n",
       "       'Breaking News', 'Medicine', 'Chemistry', 'Anthropology',\n",
       "       'Social Science', 'Psychology', 'Neuroscience', 'Biology',\n",
       "       'Earth Science', 'Paleontology', 'Epidemiology',\n",
       "       'Computer Science', 'Mathematics', 'Geology', 'Cancer',\n",
       "       'Environment', 'Engineering', 'Economics', 'Nanoscience',\n",
       "       'Materials Science', nan, 'Retraction', 'Best of r/science'],\n",
       "      dtype=object)"
      ]
     },
     "execution_count": 21,
     "metadata": {},
     "output_type": "execute_result"
    }
   ],
   "source": [
    "sci_df['category'].unique()"
   ]
  },
  {
   "cell_type": "code",
   "execution_count": 22,
   "id": "afe6b14d-0e23-42b2-85f6-11b776d7cfaa",
   "metadata": {},
   "outputs": [],
   "source": [
    "sci_df.loc[sci_df['category'].isnull(), 'category'] = \"Not Categorized\""
   ]
  },
  {
   "cell_type": "code",
   "execution_count": 23,
   "id": "b225d8f3-e9ad-4e32-815e-b36dbe9e896a",
   "metadata": {
    "scrolled": true,
    "tags": []
   },
   "outputs": [
    {
     "data": {
      "text/plain": [
       "Health               4370\n",
       "Biology              2140\n",
       "Psychology           2059\n",
       "Medicine             1964\n",
       "Environment          1926\n",
       "Social Science       1602\n",
       "Neuroscience         1233\n",
       "Astronomy            1187\n",
       "Physics               992\n",
       "Animal Science        975\n",
       "Epidemiology          665\n",
       "Engineering           629\n",
       "Earth Science         614\n",
       "Cancer                603\n",
       "Computer Science      463\n",
       "Chemistry             419\n",
       "Genetics              361\n",
       "Anthropology          348\n",
       "Economics             345\n",
       "Paleontology          237\n",
       "Materials Science     214\n",
       "Nanoscience           140\n",
       "Geology               131\n",
       "Mathematics            73\n",
       "Not Categorized         6\n",
       "Breaking News           3\n",
       "Retraction              3\n",
       "Best of r/science       2\n",
       "Name: category, dtype: int64"
      ]
     },
     "execution_count": 23,
     "metadata": {},
     "output_type": "execute_result"
    }
   ],
   "source": [
    "sci_df['category'].value_counts()"
   ]
  },
  {
   "cell_type": "code",
   "execution_count": 24,
   "id": "853e3d9b-cd87-4bc5-8bef-0566ff028643",
   "metadata": {},
   "outputs": [
    {
     "data": {
      "image/png": "[encoded data removed]",
      "text/plain": [
       "<Figure size 1152x720 with 1 Axes>"
      ]
     },
     "metadata": {
      "needs_background": "light"
     },
     "output_type": "display_data"
    }
   ],
   "source": [
    "plt.figure(figsize=(16, 10))\n",
    "sns.countplot(y = sci_df['category'], order = sci_df['category'].value_counts().index)\n",
    "plt.ylabel(\"Topics Category\")\n",
    "plt.title(\"Science Reddit Topics Category\");"
   ]
  },
  {
   "cell_type": "markdown",
   "id": "6f934a57-e922-492e-92ea-4de1330e0178",
   "metadata": {},
   "source": [
    "**Observations** <br>\n",
    "Posts in Science subreddit are categorized by topics. The top 3 topics are: Health with over 4500 posts, followed by Biology and Psychology with over 2200 posts each."
   ]
  },
  {
   "cell_type": "code",
   "execution_count": 25,
   "id": "dc7e0de6-e338-413e-8291-b164ae08c70f",
   "metadata": {},
   "outputs": [],
   "source": [
    "sci_df['posts_word_count'] = sci_df['posts'].str.split()\n",
    "sci_df['posts_word_count'] = [len(i) for i in sci_df['posts_word_count']]"
   ]
  },
  {
   "cell_type": "code",
   "execution_count": 26,
   "id": "a077c1f9-b369-4b60-9395-f3aa8a500a08",
   "metadata": {},
   "outputs": [
    {
     "data": {
      "image/png": "[encoded data removed]",
      "text/plain": [
       "<Figure size 720x576 with 1 Axes>"
      ]
     },
     "metadata": {
      "needs_background": "light"
     },
     "output_type": "display_data"
    }
   ],
   "source": [
    "plt.figure(figsize=(10, 8))\n",
    "sns.histplot(data = sci_df, x = 'posts_word_count')\n",
    "plt.axvline(x = sci_df['posts_word_count'].mean(), color='red')\n",
    "\n",
    "plt.title(\"Distribution of Science Reddit Posts Word Counts with Average Line\");"
   ]
  },
  {
   "cell_type": "markdown",
   "id": "e9f39d50-ed78-48c2-879b-2b02a40706f6",
   "metadata": {},
   "source": [
    "**Observations:** <br>\n",
    "On average, the length of science reddit posts are 20 words. The minimum length is 1 word, and the maximum length is 62 words."
   ]
  },
  {
   "cell_type": "code",
   "execution_count": 27,
   "id": "c1287c7a-1c07-4117-b77c-e4efda68a8f5",
   "metadata": {},
   "outputs": [],
   "source": [
    "# As we're not using these features in our subsequent analysis, let's drop them\n",
    "sci_df.drop(columns = ['author', 'category', 'posts_word_count'], inplace = True)"
   ]
  },
  {
   "cell_type": "markdown",
   "id": "15bb692f-dc79-4b41-9d8a-68ba6de66bc6",
   "metadata": {},
   "source": [
    "## (ii) PHILOSOPHY"
   ]
  },
  {
   "cell_type": "code",
   "execution_count": 28,
   "id": "ea090532-b242-40db-b9c0-2e05a9e48007",
   "metadata": {},
   "outputs": [
    {
     "data": {
      "text/html": [
       "<div>\n",
       "<style scoped>\n",
       "    .dataframe tbody tr th:only-of-type {\n",
       "        vertical-align: middle;\n",
       "    }\n",
       "\n",
       "    .dataframe tbody tr th {\n",
       "        vertical-align: top;\n",
       "    }\n",
       "\n",
       "    .dataframe thead th {\n",
       "        text-align: right;\n",
       "    }\n",
       "</style>\n",
       "<table border=\"1\" class=\"dataframe\">\n",
       "  <thead>\n",
       "    <tr style=\"text-align: right;\">\n",
       "      <th></th>\n",
       "      <th>subreddit</th>\n",
       "      <th>posts</th>\n",
       "      <th>author</th>\n",
       "      <th>category</th>\n",
       "    </tr>\n",
       "  </thead>\n",
       "  <tbody>\n",
       "    <tr>\n",
       "      <th>0</th>\n",
       "      <td>philosophy</td>\n",
       "      <td>New Razor</td>\n",
       "      <td>Material-Pilot-3656</td>\n",
       "      <td>NaN</td>\n",
       "    </tr>\n",
       "    <tr>\n",
       "      <th>1</th>\n",
       "      <td>philosophy</td>\n",
       "      <td>A new tradition is detected in academic philos...</td>\n",
       "      <td>byrd_nick</td>\n",
       "      <td>NaN</td>\n",
       "    </tr>\n",
       "    <tr>\n",
       "      <th>2</th>\n",
       "      <td>philosophy</td>\n",
       "      <td>Eilish McColgan breaks her own European 10K re...</td>\n",
       "      <td>AthleticsIllustrated</td>\n",
       "      <td>NaN</td>\n",
       "    </tr>\n",
       "    <tr>\n",
       "      <th>3</th>\n",
       "      <td>philosophy</td>\n",
       "      <td>The Agents of Justice</td>\n",
       "      <td>ADefiniteDescription</td>\n",
       "      <td>NaN</td>\n",
       "    </tr>\n",
       "    <tr>\n",
       "      <th>4</th>\n",
       "      <td>philosophy</td>\n",
       "      <td>Philosophy about best friends. It explains whe...</td>\n",
       "      <td>ghoshambar1</td>\n",
       "      <td>NaN</td>\n",
       "    </tr>\n",
       "  </tbody>\n",
       "</table>\n",
       "</div>"
      ],
      "text/plain": [
       "    subreddit                                              posts  \\\n",
       "0  philosophy                                          New Razor   \n",
       "1  philosophy  A new tradition is detected in academic philos...   \n",
       "2  philosophy  Eilish McColgan breaks her own European 10K re...   \n",
       "3  philosophy                              The Agents of Justice   \n",
       "4  philosophy  Philosophy about best friends. It explains whe...   \n",
       "\n",
       "                 author category  \n",
       "0   Material-Pilot-3656      NaN  \n",
       "1             byrd_nick      NaN  \n",
       "2  AthleticsIllustrated      NaN  \n",
       "3  ADefiniteDescription      NaN  \n",
       "4           ghoshambar1      NaN  "
      ]
     },
     "execution_count": 28,
     "metadata": {},
     "output_type": "execute_result"
    }
   ],
   "source": [
    "phi_df.head()"
   ]
  },
  {
   "cell_type": "code",
   "execution_count": 29,
   "id": "e689ed96-77c6-4e18-bea5-baf37a8a63a6",
   "metadata": {},
   "outputs": [
    {
     "data": {
      "text/plain": [
       "11951"
      ]
     },
     "execution_count": 29,
     "metadata": {},
     "output_type": "execute_result"
    }
   ],
   "source": [
    "len(phi_df['author'].unique())"
   ]
  },
  {
   "cell_type": "code",
   "execution_count": 30,
   "id": "d25ab7e3-7c86-41ab-9675-0401a5c77d78",
   "metadata": {},
   "outputs": [
    {
     "data": {
      "text/plain": [
       "Comprehensive_Day525    789\n",
       "ADefiniteDescription    481\n",
       "Scary_Series_4056       421\n",
       "IAI_Admin               185\n",
       "AthleticsIllustrated    165\n",
       "                       ... \n",
       "Alone-Blueberry9989       1\n",
       "AgentDeepToot             1\n",
       "mafhhaninstitution        1\n",
       "alwaysmane                1\n",
       "Organic_Appointment3      1\n",
       "Name: author, Length: 11951, dtype: int64"
      ]
     },
     "execution_count": 30,
     "metadata": {},
     "output_type": "execute_result"
    }
   ],
   "source": [
    "phi_df['author'].value_counts()"
   ]
  },
  {
   "cell_type": "markdown",
   "id": "86f18cc5-6dc5-4525-878b-c2c506f57941",
   "metadata": {},
   "source": [
    "**Observations:** <br>\n",
    "There are ~12400 unique authors in the philosophy datasets. <br>\n",
    "The top 3 contributors are: Comprehensive_Day525, ADefiniteDescription, and Scary_Series_4056"
   ]
  },
  {
   "cell_type": "code",
   "execution_count": 31,
   "id": "0dfcd8de-ca72-4987-bae5-04ca23d6b23a",
   "metadata": {},
   "outputs": [
    {
     "data": {
      "text/plain": [
       "array([nan, 'Open Thread', 'Blog', 'Podcast', 'Book Review',\n",
       "       'Article [PDF]', 'Article', 'Interview', 'Video', 'Modpost',\n",
       "       'Discussion', 'Education'], dtype=object)"
      ]
     },
     "execution_count": 31,
     "metadata": {},
     "output_type": "execute_result"
    }
   ],
   "source": [
    "phi_df['category'].unique()"
   ]
  },
  {
   "cell_type": "code",
   "execution_count": 32,
   "id": "9bff1e55-c346-433a-9b88-80e394d0c860",
   "metadata": {},
   "outputs": [],
   "source": [
    "phi_df.loc[phi_df['category'].isnull(), 'category'] = \"Not Categorized\""
   ]
  },
  {
   "cell_type": "code",
   "execution_count": 33,
   "id": "9c80390d-3b30-42c5-8b5c-745b82ba2734",
   "metadata": {
    "scrolled": true,
    "tags": []
   },
   "outputs": [
    {
     "data": {
      "text/plain": [
       "Not Categorized    18804\n",
       "Open Thread           69\n",
       "Blog                  64\n",
       "Video                 16\n",
       "Book Review           10\n",
       "Article [PDF]          4\n",
       "Podcast                3\n",
       "Article                3\n",
       "Interview              2\n",
       "Discussion             2\n",
       "Modpost                1\n",
       "Education              1\n",
       "Name: category, dtype: int64"
      ]
     },
     "execution_count": 33,
     "metadata": {},
     "output_type": "execute_result"
    }
   ],
   "source": [
    "phi_df['category'].value_counts()"
   ]
  },
  {
   "cell_type": "code",
   "execution_count": 34,
   "id": "2695f74b-287b-4f65-a644-72a99530eb37",
   "metadata": {},
   "outputs": [
    {
     "data": {
      "image/png": "[encoded data removed]",
      "text/plain": [
       "<Figure size 1152x720 with 1 Axes>"
      ]
     },
     "metadata": {
      "needs_background": "light"
     },
     "output_type": "display_data"
    }
   ],
   "source": [
    "plt.figure(figsize=(16, 10))\n",
    "sns.countplot(y = phi_df['category'], order = phi_df['category'].value_counts().index)\n",
    "plt.ylabel(\"Source Category\")\n",
    "plt.title(\"Philosophy Reddit Source Category\");"
   ]
  },
  {
   "cell_type": "markdown",
   "id": "0664bdc7-219d-4c8e-83c1-a26cab9075a9",
   "metadata": {},
   "source": [
    "**Observations** <br>\n",
    "Posts in Philosophy subreddit are categorized by type of posts. Out of 25113 posts, around 24935 posts are not categorized. Among posts that are categorized, the top 3 types of posts are: OpenThread (69 posts), Blog (64 posts), and Video (16 posts)"
   ]
  },
  {
   "cell_type": "code",
   "execution_count": 35,
   "id": "a0353f8c-887b-4df0-a761-2ce5966e32f8",
   "metadata": {},
   "outputs": [],
   "source": [
    "phi_df['posts_word_count'] = phi_df['posts'].str.split()\n",
    "phi_df['posts_word_count'] = [len(i) for i in phi_df['posts_word_count']]"
   ]
  },
  {
   "cell_type": "code",
   "execution_count": 36,
   "id": "3c56f7b3-1118-4e0e-869e-2b4f15ead152",
   "metadata": {},
   "outputs": [
    {
     "data": {
      "image/png": "[encoded data removed]",
      "text/plain": [
       "<Figure size 720x576 with 1 Axes>"
      ]
     },
     "metadata": {
      "needs_background": "light"
     },
     "output_type": "display_data"
    }
   ],
   "source": [
    "plt.figure(figsize=(10, 8))\n",
    "sns.histplot(data = phi_df, x = 'posts_word_count')\n",
    "plt.axvline(x = phi_df['posts_word_count'].mean(), color='red')\n",
    "\n",
    "plt.title(\"Distribution of Philosophy Reddit Posts Word Counts with Average Line\");"
   ]
  },
  {
   "cell_type": "markdown",
   "id": "b033f986-ec9f-42ff-8cc2-4eb15fdf1a70",
   "metadata": {},
   "source": [
    "**Observations:** <br>\n",
    "On average, the length of philosophy reddit posts are 10 words. The minimum length is 1 word, and the maximum length is 66 words."
   ]
  },
  {
   "cell_type": "code",
   "execution_count": 37,
   "id": "a80701cc-0829-41dc-8904-497f6341b5d1",
   "metadata": {},
   "outputs": [],
   "source": [
    "# As we're not using these features in our subsequent analysis, let's drop them\n",
    "phi_df.drop(columns = ['author', 'category', 'posts_word_count'], inplace = True)"
   ]
  },
  {
   "cell_type": "markdown",
   "id": "c5f9af9b-2a60-46d4-adf3-c9c927549eb7",
   "metadata": {},
   "source": [
    "# 04. PRE-PROCESSING"
   ]
  },
  {
   "cell_type": "markdown",
   "id": "89fb45f7-1d48-4aa6-ac18-109710c7e905",
   "metadata": {},
   "source": [
    "## (i) SCIENCE"
   ]
  },
  {
   "cell_type": "markdown",
   "id": "7b09791b-51f1-4879-be6f-58ea718b7238",
   "metadata": {},
   "source": [
    "### a. Removing special characters & Tokenizing"
   ]
  },
  {
   "cell_type": "code",
   "execution_count": 38,
   "id": "da6d3d7d-cfe7-49d7-bbe3-dae654fbc909",
   "metadata": {},
   "outputs": [],
   "source": [
    "def total_length(series):\n",
    "    length = 0\n",
    "    for x in series:\n",
    "        length += len(x)\n",
    "    return length"
   ]
  },
  {
   "cell_type": "code",
   "execution_count": 39,
   "id": "45fa8ee3-1a33-4402-b68c-a5fa5302ad8b",
   "metadata": {},
   "outputs": [],
   "source": [
    "# \\w metacharacter matches word characters: a-z, A-Z, 0-9, including _ (underscore)\n",
    "tokenizer = RegexpTokenizer (r'\\w+')\n",
    "\n",
    "sci_df['tokenized'] = [x.lower() for x in sci_df['posts']]\n",
    "sci_df['tokenized'] = sci_df['tokenized'].apply(tokenizer.tokenize)"
   ]
  },
  {
   "cell_type": "code",
   "execution_count": 40,
   "id": "535aee99-4837-429d-8c08-861ec30bafc4",
   "metadata": {},
   "outputs": [
    {
     "data": {
      "text/html": [
       "<div>\n",
       "<style scoped>\n",
       "    .dataframe tbody tr th:only-of-type {\n",
       "        vertical-align: middle;\n",
       "    }\n",
       "\n",
       "    .dataframe tbody tr th {\n",
       "        vertical-align: top;\n",
       "    }\n",
       "\n",
       "    .dataframe thead th {\n",
       "        text-align: right;\n",
       "    }\n",
       "</style>\n",
       "<table border=\"1\" class=\"dataframe\">\n",
       "  <thead>\n",
       "    <tr style=\"text-align: right;\">\n",
       "      <th></th>\n",
       "      <th>subreddit</th>\n",
       "      <th>posts</th>\n",
       "      <th>tokenized</th>\n",
       "    </tr>\n",
       "  </thead>\n",
       "  <tbody>\n",
       "    <tr>\n",
       "      <th>0</th>\n",
       "      <td>science</td>\n",
       "      <td>2022 Nobel Prize in Physiology or Medicine to ...</td>\n",
       "      <td>[2022, nobel, prize, in, physiology, or, medic...</td>\n",
       "    </tr>\n",
       "    <tr>\n",
       "      <th>1</th>\n",
       "      <td>science</td>\n",
       "      <td>India vs South Africa 2nd T20</td>\n",
       "      <td>[india, vs, south, africa, 2nd, t20]</td>\n",
       "    </tr>\n",
       "    <tr>\n",
       "      <th>2</th>\n",
       "      <td>science</td>\n",
       "      <td>Want a better relationship with your dog? Thes...</td>\n",
       "      <td>[want, a, better, relationship, with, your, do...</td>\n",
       "    </tr>\n",
       "    <tr>\n",
       "      <th>3</th>\n",
       "      <td>science</td>\n",
       "      <td>Record avian flu outbreak sees 48m birds culle...</td>\n",
       "      <td>[record, avian, flu, outbreak, sees, 48m, bird...</td>\n",
       "    </tr>\n",
       "    <tr>\n",
       "      <th>4</th>\n",
       "      <td>science</td>\n",
       "      <td>In this review article, we focus on the effect...</td>\n",
       "      <td>[in, this, review, article, we, focus, on, the...</td>\n",
       "    </tr>\n",
       "  </tbody>\n",
       "</table>\n",
       "</div>"
      ],
      "text/plain": [
       "  subreddit                                              posts  \\\n",
       "0   science  2022 Nobel Prize in Physiology or Medicine to ...   \n",
       "1   science                      India vs South Africa 2nd T20   \n",
       "2   science  Want a better relationship with your dog? Thes...   \n",
       "3   science  Record avian flu outbreak sees 48m birds culle...   \n",
       "4   science  In this review article, we focus on the effect...   \n",
       "\n",
       "                                           tokenized  \n",
       "0  [2022, nobel, prize, in, physiology, or, medic...  \n",
       "1               [india, vs, south, africa, 2nd, t20]  \n",
       "2  [want, a, better, relationship, with, your, do...  \n",
       "3  [record, avian, flu, outbreak, sees, 48m, bird...  \n",
       "4  [in, this, review, article, we, focus, on, the...  "
      ]
     },
     "execution_count": 40,
     "metadata": {},
     "output_type": "execute_result"
    }
   ],
   "source": [
    "sci_df.head()"
   ]
  },
  {
   "cell_type": "code",
   "execution_count": 41,
   "id": "67ff39c3-40e7-418c-8b17-fe1dc4e710c7",
   "metadata": {},
   "outputs": [
    {
     "data": {
      "text/plain": [
       "494057"
      ]
     },
     "execution_count": 41,
     "metadata": {},
     "output_type": "execute_result"
    }
   ],
   "source": [
    "total_length(sci_df['tokenized'])"
   ]
  },
  {
   "cell_type": "markdown",
   "id": "4800262c-d516-4528-a011-3e7a53578701",
   "metadata": {},
   "source": [
    "**Observations:** <br>\n",
    "symbols such as '?', '(', and ')' are removed. <br>"
   ]
  },
  {
   "cell_type": "markdown",
   "id": "836b0dac-f6a9-4b57-8cef-5f019b7a3f95",
   "metadata": {},
   "source": [
    "### b. Remove Stop Words"
   ]
  },
  {
   "cell_type": "code",
   "execution_count": 42,
   "id": "4d4a0eef-782f-4e50-8f86-6b035ab412bc",
   "metadata": {},
   "outputs": [
    {
     "name": "stdout",
     "output_type": "stream",
     "text": [
      "['i', 'me', 'my', 'myself', 'we', 'our', 'ours', 'ourselves', 'you', \"you're\", \"you've\", \"you'll\", \"you'd\", 'your', 'yours', 'yourself', 'yourselves', 'he', 'him', 'his', 'himself', 'she', \"she's\", 'her', 'hers', 'herself', 'it', \"it's\", 'its', 'itself', 'they', 'them', 'their', 'theirs', 'themselves', 'what', 'which', 'who', 'whom', 'this', 'that', \"that'll\", 'these', 'those', 'am', 'is', 'are', 'was', 'were', 'be', 'been', 'being', 'have', 'has', 'had', 'having', 'do', 'does', 'did', 'doing', 'a', 'an', 'the', 'and', 'but', 'if', 'or', 'because', 'as', 'until', 'while', 'of', 'at', 'by', 'for', 'with', 'about', 'against', 'between', 'into', 'through', 'during', 'before', 'after', 'above', 'below', 'to', 'from', 'up', 'down', 'in', 'out', 'on', 'off', 'over', 'under', 'again', 'further', 'then', 'once', 'here', 'there', 'when', 'where', 'why', 'how', 'all', 'any', 'both', 'each', 'few', 'more', 'most', 'other', 'some', 'such', 'no', 'nor', 'not', 'only', 'own', 'same', 'so', 'than', 'too', 'very', 's', 't', 'can', 'will', 'just', 'don', \"don't\", 'should', \"should've\", 'now', 'd', 'll', 'm', 'o', 're', 've', 'y', 'ain', 'aren', \"aren't\", 'couldn', \"couldn't\", 'didn', \"didn't\", 'doesn', \"doesn't\", 'hadn', \"hadn't\", 'hasn', \"hasn't\", 'haven', \"haven't\", 'isn', \"isn't\", 'ma', 'mightn', \"mightn't\", 'mustn', \"mustn't\", 'needn', \"needn't\", 'shan', \"shan't\", 'shouldn', \"shouldn't\", 'wasn', \"wasn't\", 'weren', \"weren't\", 'won', \"won't\", 'wouldn', \"wouldn't\"]\n"
     ]
    }
   ],
   "source": [
    "print(stopwords.words(\"english\"))"
   ]
  },
  {
   "cell_type": "code",
   "execution_count": 43,
   "id": "62a965ba-cb56-4a34-986e-15f052c233b2",
   "metadata": {},
   "outputs": [
    {
     "data": {
      "text/html": [
       "<div>\n",
       "<style scoped>\n",
       "    .dataframe tbody tr th:only-of-type {\n",
       "        vertical-align: middle;\n",
       "    }\n",
       "\n",
       "    .dataframe tbody tr th {\n",
       "        vertical-align: top;\n",
       "    }\n",
       "\n",
       "    .dataframe thead th {\n",
       "        text-align: right;\n",
       "    }\n",
       "</style>\n",
       "<table border=\"1\" class=\"dataframe\">\n",
       "  <thead>\n",
       "    <tr style=\"text-align: right;\">\n",
       "      <th></th>\n",
       "      <th>subreddit</th>\n",
       "      <th>posts</th>\n",
       "      <th>tokenized</th>\n",
       "    </tr>\n",
       "  </thead>\n",
       "  <tbody>\n",
       "    <tr>\n",
       "      <th>0</th>\n",
       "      <td>science</td>\n",
       "      <td>2022 Nobel Prize in Physiology or Medicine to ...</td>\n",
       "      <td>[2022, nobel, prize, in, physiology, or, medic...</td>\n",
       "    </tr>\n",
       "    <tr>\n",
       "      <th>1</th>\n",
       "      <td>science</td>\n",
       "      <td>India vs South Africa 2nd T20</td>\n",
       "      <td>[india, vs, south, africa, 2nd, t20]</td>\n",
       "    </tr>\n",
       "    <tr>\n",
       "      <th>2</th>\n",
       "      <td>science</td>\n",
       "      <td>Want a better relationship with your dog? Thes...</td>\n",
       "      <td>[want, a, better, relationship, with, your, do...</td>\n",
       "    </tr>\n",
       "    <tr>\n",
       "      <th>3</th>\n",
       "      <td>science</td>\n",
       "      <td>Record avian flu outbreak sees 48m birds culle...</td>\n",
       "      <td>[record, avian, flu, outbreak, sees, 48m, bird...</td>\n",
       "    </tr>\n",
       "    <tr>\n",
       "      <th>4</th>\n",
       "      <td>science</td>\n",
       "      <td>In this review article, we focus on the effect...</td>\n",
       "      <td>[in, this, review, article, we, focus, on, the...</td>\n",
       "    </tr>\n",
       "  </tbody>\n",
       "</table>\n",
       "</div>"
      ],
      "text/plain": [
       "  subreddit                                              posts  \\\n",
       "0   science  2022 Nobel Prize in Physiology or Medicine to ...   \n",
       "1   science                      India vs South Africa 2nd T20   \n",
       "2   science  Want a better relationship with your dog? Thes...   \n",
       "3   science  Record avian flu outbreak sees 48m birds culle...   \n",
       "4   science  In this review article, we focus on the effect...   \n",
       "\n",
       "                                           tokenized  \n",
       "0  [2022, nobel, prize, in, physiology, or, medic...  \n",
       "1               [india, vs, south, africa, 2nd, t20]  \n",
       "2  [want, a, better, relationship, with, your, do...  \n",
       "3  [record, avian, flu, outbreak, sees, 48m, bird...  \n",
       "4  [in, this, review, article, we, focus, on, the...  "
      ]
     },
     "execution_count": 43,
     "metadata": {},
     "output_type": "execute_result"
    }
   ],
   "source": [
    "sci_df.head()"
   ]
  },
  {
   "cell_type": "code",
   "execution_count": 44,
   "id": "e9afa98d-e3c1-4b77-8e82-d7b830663ee1",
   "metadata": {},
   "outputs": [],
   "source": [
    "def remove_stop_words(word_list):\n",
    "    for word in word_list:\n",
    "        if word in stopwords.words('english'):\n",
    "            word_list.remove(word)\n",
    "    return word_list"
   ]
  },
  {
   "cell_type": "code",
   "execution_count": 45,
   "id": "799f8fd9-0d83-46da-b4c8-9875508924e6",
   "metadata": {},
   "outputs": [],
   "source": [
    "from tqdm import tqdm \n",
    "tqdm.pandas()"
   ]
  },
  {
   "cell_type": "code",
   "execution_count": 46,
   "id": "b8a08131-203c-4eac-a7aa-2ddf32018b6a",
   "metadata": {},
   "outputs": [
    {
     "name": "stderr",
     "output_type": "stream",
     "text": [
      "100%|██████████| 23704/23704 [01:47<00:00, 220.02it/s]\n"
     ]
    }
   ],
   "source": [
    "sci_df['tokenized'] = sci_df['tokenized'].progress_apply(remove_stop_words)"
   ]
  },
  {
   "cell_type": "code",
   "execution_count": 47,
   "id": "f17ae47f-60e5-4e3d-9701-f0ab40eb2c0e",
   "metadata": {},
   "outputs": [
    {
     "data": {
      "text/html": [
       "<div>\n",
       "<style scoped>\n",
       "    .dataframe tbody tr th:only-of-type {\n",
       "        vertical-align: middle;\n",
       "    }\n",
       "\n",
       "    .dataframe tbody tr th {\n",
       "        vertical-align: top;\n",
       "    }\n",
       "\n",
       "    .dataframe thead th {\n",
       "        text-align: right;\n",
       "    }\n",
       "</style>\n",
       "<table border=\"1\" class=\"dataframe\">\n",
       "  <thead>\n",
       "    <tr style=\"text-align: right;\">\n",
       "      <th></th>\n",
       "      <th>subreddit</th>\n",
       "      <th>posts</th>\n",
       "      <th>tokenized</th>\n",
       "    </tr>\n",
       "  </thead>\n",
       "  <tbody>\n",
       "    <tr>\n",
       "      <th>0</th>\n",
       "      <td>science</td>\n",
       "      <td>2022 Nobel Prize in Physiology or Medicine to ...</td>\n",
       "      <td>[2022, nobel, prize, physiology, medicine, sva...</td>\n",
       "    </tr>\n",
       "    <tr>\n",
       "      <th>1</th>\n",
       "      <td>science</td>\n",
       "      <td>India vs South Africa 2nd T20</td>\n",
       "      <td>[india, vs, south, africa, 2nd, t20]</td>\n",
       "    </tr>\n",
       "    <tr>\n",
       "      <th>2</th>\n",
       "      <td>science</td>\n",
       "      <td>Want a better relationship with your dog? Thes...</td>\n",
       "      <td>[want, better, relationship, your, dog, 7, fac...</td>\n",
       "    </tr>\n",
       "    <tr>\n",
       "      <th>3</th>\n",
       "      <td>science</td>\n",
       "      <td>Record avian flu outbreak sees 48m birds culle...</td>\n",
       "      <td>[record, avian, flu, outbreak, sees, 48m, bird...</td>\n",
       "    </tr>\n",
       "    <tr>\n",
       "      <th>4</th>\n",
       "      <td>science</td>\n",
       "      <td>In this review article, we focus on the effect...</td>\n",
       "      <td>[this, review, article, focus, the, effect, ox...</td>\n",
       "    </tr>\n",
       "  </tbody>\n",
       "</table>\n",
       "</div>"
      ],
      "text/plain": [
       "  subreddit                                              posts  \\\n",
       "0   science  2022 Nobel Prize in Physiology or Medicine to ...   \n",
       "1   science                      India vs South Africa 2nd T20   \n",
       "2   science  Want a better relationship with your dog? Thes...   \n",
       "3   science  Record avian flu outbreak sees 48m birds culle...   \n",
       "4   science  In this review article, we focus on the effect...   \n",
       "\n",
       "                                           tokenized  \n",
       "0  [2022, nobel, prize, physiology, medicine, sva...  \n",
       "1               [india, vs, south, africa, 2nd, t20]  \n",
       "2  [want, better, relationship, your, dog, 7, fac...  \n",
       "3  [record, avian, flu, outbreak, sees, 48m, bird...  \n",
       "4  [this, review, article, focus, the, effect, ox...  "
      ]
     },
     "execution_count": 47,
     "metadata": {},
     "output_type": "execute_result"
    }
   ],
   "source": [
    "sci_df.head()"
   ]
  },
  {
   "cell_type": "code",
   "execution_count": 48,
   "id": "f58bf8fe-82ee-4b5f-9a24-80f21516fd84",
   "metadata": {},
   "outputs": [
    {
     "data": {
      "text/plain": [
       "366328"
      ]
     },
     "execution_count": 48,
     "metadata": {},
     "output_type": "execute_result"
    }
   ],
   "source": [
    "total_length(sci_df['tokenized'])"
   ]
  },
  {
   "cell_type": "markdown",
   "id": "ec02324b-7218-4019-a558-805bf94fb390",
   "metadata": {},
   "source": [
    "**Observations:** <br>\n",
    "for index 0, words such as 'in', 'or', 'for', 'the', 'of', 'and' are removed. <br>\n",
    "By removing stop words, we have reduced the total words from 494k to 366k."
   ]
  },
  {
   "cell_type": "markdown",
   "id": "961e26a4-062f-47bc-81f9-dc1325a18ca3",
   "metadata": {},
   "source": [
    "### c. Lemmatizing & Stemming"
   ]
  },
  {
   "cell_type": "code",
   "execution_count": 49,
   "id": "a150dbb3-833d-49be-9fa7-ad7c69cde5e0",
   "metadata": {},
   "outputs": [],
   "source": [
    "# Instantiate lemmatizer.\n",
    "lemmatizer = WordNetLemmatizer()"
   ]
  },
  {
   "cell_type": "code",
   "execution_count": 50,
   "id": "898f167d-4b0c-433e-9c40-5d4edd73ee2d",
   "metadata": {},
   "outputs": [
    {
     "name": "stderr",
     "output_type": "stream",
     "text": [
      "100%|██████████| 23704/23704 [01:37<00:00, 241.90it/s]\n"
     ]
    }
   ],
   "source": [
    "# Some of the stop words are still not removed, hence applying stopwords one more time\n",
    "sci_df['tokenized'] = sci_df['tokenized'].progress_apply(remove_stop_words)"
   ]
  },
  {
   "cell_type": "code",
   "execution_count": 51,
   "id": "9254fa53-49f1-497e-a314-b934121cdb73",
   "metadata": {},
   "outputs": [],
   "source": [
    "sci_df['lemmatized'] = sci_df['tokenized'].apply(lambda x: [lemmatizer.lemmatize(word) for word in x])"
   ]
  },
  {
   "cell_type": "code",
   "execution_count": 52,
   "id": "4ee2c39b-c08c-4054-a94f-08ae156b7aec",
   "metadata": {},
   "outputs": [],
   "source": [
    "sci_df['lemmatized_sentence'] = sci_df['lemmatized'].apply(lambda x: \" \".join(x))"
   ]
  },
  {
   "cell_type": "code",
   "execution_count": 53,
   "id": "e385775e-decb-42a8-8e7a-94142509070d",
   "metadata": {},
   "outputs": [],
   "source": [
    "# Instantiate PorterStemmer.\n",
    "p_stemmer = PorterStemmer()"
   ]
  },
  {
   "cell_type": "code",
   "execution_count": 54,
   "id": "2b74c0c4-ab29-4faa-8dee-51dfa3f33699",
   "metadata": {},
   "outputs": [],
   "source": [
    "sci_df['stemmed'] = sci_df['tokenized'].apply(lambda x: [p_stemmer.stem(word) for word in x])"
   ]
  },
  {
   "cell_type": "code",
   "execution_count": 55,
   "id": "abb91454-c8c6-45af-a0ee-4cc7630dcfb5",
   "metadata": {},
   "outputs": [],
   "source": [
    "sci_df['stemmed_sentence'] = sci_df['stemmed'].apply(lambda x: \" \".join(x))"
   ]
  },
  {
   "cell_type": "code",
   "execution_count": 56,
   "id": "5097e9d0-56f6-4bdf-bc60-a7f93a5d4aa5",
   "metadata": {},
   "outputs": [
    {
     "data": {
      "text/html": [
       "<div>\n",
       "<style scoped>\n",
       "    .dataframe tbody tr th:only-of-type {\n",
       "        vertical-align: middle;\n",
       "    }\n",
       "\n",
       "    .dataframe tbody tr th {\n",
       "        vertical-align: top;\n",
       "    }\n",
       "\n",
       "    .dataframe thead th {\n",
       "        text-align: right;\n",
       "    }\n",
       "</style>\n",
       "<table border=\"1\" class=\"dataframe\">\n",
       "  <thead>\n",
       "    <tr style=\"text-align: right;\">\n",
       "      <th></th>\n",
       "      <th>subreddit</th>\n",
       "      <th>posts</th>\n",
       "      <th>tokenized</th>\n",
       "      <th>lemmatized</th>\n",
       "      <th>lemmatized_sentence</th>\n",
       "      <th>stemmed</th>\n",
       "      <th>stemmed_sentence</th>\n",
       "    </tr>\n",
       "  </thead>\n",
       "  <tbody>\n",
       "    <tr>\n",
       "      <th>0</th>\n",
       "      <td>science</td>\n",
       "      <td>2022 Nobel Prize in Physiology or Medicine to ...</td>\n",
       "      <td>[2022, nobel, prize, physiology, medicine, sva...</td>\n",
       "      <td>[2022, nobel, prize, physiology, medicine, sva...</td>\n",
       "      <td>2022 nobel prize physiology medicine svante pä...</td>\n",
       "      <td>[2022, nobel, prize, physiolog, medicin, svant...</td>\n",
       "      <td>2022 nobel prize physiolog medicin svant pääbo...</td>\n",
       "    </tr>\n",
       "    <tr>\n",
       "      <th>1</th>\n",
       "      <td>science</td>\n",
       "      <td>India vs South Africa 2nd T20</td>\n",
       "      <td>[india, vs, south, africa, 2nd, t20]</td>\n",
       "      <td>[india, v, south, africa, 2nd, t20]</td>\n",
       "      <td>india v south africa 2nd t20</td>\n",
       "      <td>[india, vs, south, africa, 2nd, t20]</td>\n",
       "      <td>india vs south africa 2nd t20</td>\n",
       "    </tr>\n",
       "    <tr>\n",
       "      <th>2</th>\n",
       "      <td>science</td>\n",
       "      <td>Want a better relationship with your dog? Thes...</td>\n",
       "      <td>[want, better, relationship, dog, 7, factors, ...</td>\n",
       "      <td>[want, better, relationship, dog, 7, factor, key]</td>\n",
       "      <td>want better relationship dog 7 factor key</td>\n",
       "      <td>[want, better, relationship, dog, 7, factor, key]</td>\n",
       "      <td>want better relationship dog 7 factor key</td>\n",
       "    </tr>\n",
       "    <tr>\n",
       "      <th>3</th>\n",
       "      <td>science</td>\n",
       "      <td>Record avian flu outbreak sees 48m birds culle...</td>\n",
       "      <td>[record, avian, flu, outbreak, sees, 48m, bird...</td>\n",
       "      <td>[record, avian, flu, outbreak, see, 48m, bird,...</td>\n",
       "      <td>record avian flu outbreak see 48m bird culled ...</td>\n",
       "      <td>[record, avian, flu, outbreak, see, 48m, bird,...</td>\n",
       "      <td>record avian flu outbreak see 48m bird cull uk eu</td>\n",
       "    </tr>\n",
       "    <tr>\n",
       "      <th>4</th>\n",
       "      <td>science</td>\n",
       "      <td>In this review article, we focus on the effect...</td>\n",
       "      <td>[review, article, focus, effect, oxidized, fat...</td>\n",
       "      <td>[review, article, focus, effect, oxidized, fat...</td>\n",
       "      <td>review article focus effect oxidized fatty aci...</td>\n",
       "      <td>[review, articl, focu, effect, oxid, fatti, ac...</td>\n",
       "      <td>review articl focu effect oxid fatti acid deri...</td>\n",
       "    </tr>\n",
       "  </tbody>\n",
       "</table>\n",
       "</div>"
      ],
      "text/plain": [
       "  subreddit                                              posts  \\\n",
       "0   science  2022 Nobel Prize in Physiology or Medicine to ...   \n",
       "1   science                      India vs South Africa 2nd T20   \n",
       "2   science  Want a better relationship with your dog? Thes...   \n",
       "3   science  Record avian flu outbreak sees 48m birds culle...   \n",
       "4   science  In this review article, we focus on the effect...   \n",
       "\n",
       "                                           tokenized  \\\n",
       "0  [2022, nobel, prize, physiology, medicine, sva...   \n",
       "1               [india, vs, south, africa, 2nd, t20]   \n",
       "2  [want, better, relationship, dog, 7, factors, ...   \n",
       "3  [record, avian, flu, outbreak, sees, 48m, bird...   \n",
       "4  [review, article, focus, effect, oxidized, fat...   \n",
       "\n",
       "                                          lemmatized  \\\n",
       "0  [2022, nobel, prize, physiology, medicine, sva...   \n",
       "1                [india, v, south, africa, 2nd, t20]   \n",
       "2  [want, better, relationship, dog, 7, factor, key]   \n",
       "3  [record, avian, flu, outbreak, see, 48m, bird,...   \n",
       "4  [review, article, focus, effect, oxidized, fat...   \n",
       "\n",
       "                                 lemmatized_sentence  \\\n",
       "0  2022 nobel prize physiology medicine svante pä...   \n",
       "1                       india v south africa 2nd t20   \n",
       "2          want better relationship dog 7 factor key   \n",
       "3  record avian flu outbreak see 48m bird culled ...   \n",
       "4  review article focus effect oxidized fatty aci...   \n",
       "\n",
       "                                             stemmed  \\\n",
       "0  [2022, nobel, prize, physiolog, medicin, svant...   \n",
       "1               [india, vs, south, africa, 2nd, t20]   \n",
       "2  [want, better, relationship, dog, 7, factor, key]   \n",
       "3  [record, avian, flu, outbreak, see, 48m, bird,...   \n",
       "4  [review, articl, focu, effect, oxid, fatti, ac...   \n",
       "\n",
       "                                    stemmed_sentence  \n",
       "0  2022 nobel prize physiolog medicin svant pääbo...  \n",
       "1                      india vs south africa 2nd t20  \n",
       "2          want better relationship dog 7 factor key  \n",
       "3  record avian flu outbreak see 48m bird cull uk eu  \n",
       "4  review articl focu effect oxid fatti acid deri...  "
      ]
     },
     "execution_count": 56,
     "metadata": {},
     "output_type": "execute_result"
    }
   ],
   "source": [
    "sci_df.head()"
   ]
  },
  {
   "cell_type": "markdown",
   "id": "1f4bf92d-87b7-4e17-9752-3ffd724082d8",
   "metadata": {},
   "source": [
    "**Observations:** <br>\n",
    "- Lemmatized: words such as 'genomes' are converted to 'genome'\n",
    "- Stemmed: words such as 'physiology' are converted to 'physiolog', 'medicine' are converted to 'medicin', 'genomes' are converted to 'genome'"
   ]
  },
  {
   "cell_type": "markdown",
   "id": "b2e4aff8-beed-4a64-9bb4-ada54a52387a",
   "metadata": {},
   "source": [
    "**Lemming vs Stemming**"
   ]
  },
  {
   "cell_type": "code",
   "execution_count": 57,
   "id": "f5d8e5c1-1989-4360-a87e-90d28f7b1c73",
   "metadata": {},
   "outputs": [],
   "source": [
    "cvec = CountVectorizer()\n",
    "sci_cvec_lem = pd.DataFrame(\n",
    "    cvec.fit_transform(sci_df['lemmatized_sentence']).toarray(),\n",
    "    columns = cvec.get_feature_names_out()\n",
    ")"
   ]
  },
  {
   "cell_type": "code",
   "execution_count": 58,
   "id": "0339335f-30ed-463a-975b-bd61c4957821",
   "metadata": {},
   "outputs": [],
   "source": [
    "cvec = CountVectorizer()\n",
    "sci_cvec_stem = pd.DataFrame(\n",
    "    cvec.fit_transform(sci_df['stemmed_sentence']).toarray(),\n",
    "    columns = cvec.get_feature_names_out()\n",
    ")"
   ]
  },
  {
   "cell_type": "code",
   "execution_count": 59,
   "id": "324ce0f2-5cbc-4154-a75a-5f25194e6644",
   "metadata": {},
   "outputs": [
    {
     "data": {
      "text/plain": [
       "25768"
      ]
     },
     "execution_count": 59,
     "metadata": {},
     "output_type": "execute_result"
    }
   ],
   "source": [
    "len(sci_cvec_lem.columns)"
   ]
  },
  {
   "cell_type": "code",
   "execution_count": 60,
   "id": "93ad40b1-9efd-4db5-b1b3-8f4038c67a07",
   "metadata": {},
   "outputs": [
    {
     "data": {
      "text/plain": [
       "20087"
      ]
     },
     "execution_count": 60,
     "metadata": {},
     "output_type": "execute_result"
    }
   ],
   "source": [
    "len(sci_cvec_stem.columns)"
   ]
  },
  {
   "cell_type": "markdown",
   "id": "593366f4-0b23-40c1-bfee-2c2503aa3cd4",
   "metadata": {},
   "source": [
    "As stemming condense than lemming, we will drop lemming from our analysis"
   ]
  },
  {
   "cell_type": "code",
   "execution_count": 61,
   "id": "f8662e20-1a67-43d9-ac29-a0ae448faa6f",
   "metadata": {},
   "outputs": [],
   "source": [
    "sci_df.drop(columns = ['lemmatized', 'lemmatized_sentence', 'tokenized', 'stemmed'], inplace = True)"
   ]
  },
  {
   "cell_type": "code",
   "execution_count": 62,
   "id": "a8b10d9d-a39e-4ef3-822d-97b52c936ca3",
   "metadata": {},
   "outputs": [],
   "source": [
    "sci_df.rename(columns = {'posts': 'ori_message', 'stemmed_sentence': 'message'}, inplace = True)"
   ]
  },
  {
   "cell_type": "code",
   "execution_count": 63,
   "id": "fb9bf222-ee2f-4b8d-9e3e-8d6c4b9e2573",
   "metadata": {},
   "outputs": [],
   "source": [
    "sci_df.drop(sci_df.loc[sci_df['message'].isnull(), ].index, inplace = True)"
   ]
  },
  {
   "cell_type": "markdown",
   "id": "50e14f4f-ba23-43b7-8688-c97830c7611d",
   "metadata": {},
   "source": [
    "## (ii) PHILOSOPHY"
   ]
  },
  {
   "cell_type": "markdown",
   "id": "24f46944-d5ea-4d49-abd6-ce02f93e28eb",
   "metadata": {},
   "source": [
    "### a. Removing special characters & Tokenizing"
   ]
  },
  {
   "cell_type": "code",
   "execution_count": 64,
   "id": "6a53afdb-7aea-4f64-bb00-e2fd1f0a0d6a",
   "metadata": {},
   "outputs": [],
   "source": [
    "# Remove hyperlink\n",
    "phi_df['tokenized'] = phi_df['posts'].apply(lambda x: re.sub(r'\\w+:\\/{2}[\\d\\w-]+(\\.[\\d\\w-]+)*(?:(?:\\/[^\\s/]*))*', '', x))"
   ]
  },
  {
   "cell_type": "code",
   "execution_count": 65,
   "id": "abd22e91-7a63-4d8c-8ea5-2a96da21a6d1",
   "metadata": {},
   "outputs": [],
   "source": [
    "tokenizer = RegexpTokenizer (r'\\w+')\n",
    "\n",
    "phi_df['tokenized'] = [x.lower() for x in phi_df['tokenized']]\n",
    "phi_df['tokenized'] = phi_df['tokenized'].apply(tokenizer.tokenize)"
   ]
  },
  {
   "cell_type": "code",
   "execution_count": 66,
   "id": "df2b0954-c095-4ca1-bf0f-6d986c033908",
   "metadata": {},
   "outputs": [
    {
     "data": {
      "text/html": [
       "<div>\n",
       "<style scoped>\n",
       "    .dataframe tbody tr th:only-of-type {\n",
       "        vertical-align: middle;\n",
       "    }\n",
       "\n",
       "    .dataframe tbody tr th {\n",
       "        vertical-align: top;\n",
       "    }\n",
       "\n",
       "    .dataframe thead th {\n",
       "        text-align: right;\n",
       "    }\n",
       "</style>\n",
       "<table border=\"1\" class=\"dataframe\">\n",
       "  <thead>\n",
       "    <tr style=\"text-align: right;\">\n",
       "      <th></th>\n",
       "      <th>subreddit</th>\n",
       "      <th>posts</th>\n",
       "      <th>tokenized</th>\n",
       "    </tr>\n",
       "  </thead>\n",
       "  <tbody>\n",
       "    <tr>\n",
       "      <th>0</th>\n",
       "      <td>philosophy</td>\n",
       "      <td>New Razor</td>\n",
       "      <td>[new, razor]</td>\n",
       "    </tr>\n",
       "    <tr>\n",
       "      <th>1</th>\n",
       "      <td>philosophy</td>\n",
       "      <td>A new tradition is detected in academic philos...</td>\n",
       "      <td>[a, new, tradition, is, detected, in, academic...</td>\n",
       "    </tr>\n",
       "    <tr>\n",
       "      <th>2</th>\n",
       "      <td>philosophy</td>\n",
       "      <td>Eilish McColgan breaks her own European 10K re...</td>\n",
       "      <td>[eilish, mccolgan, breaks, her, own, european,...</td>\n",
       "    </tr>\n",
       "    <tr>\n",
       "      <th>3</th>\n",
       "      <td>philosophy</td>\n",
       "      <td>The Agents of Justice</td>\n",
       "      <td>[the, agents, of, justice]</td>\n",
       "    </tr>\n",
       "    <tr>\n",
       "      <th>4</th>\n",
       "      <td>philosophy</td>\n",
       "      <td>Philosophy about best friends. It explains whe...</td>\n",
       "      <td>[philosophy, about, best, friends, it, explain...</td>\n",
       "    </tr>\n",
       "  </tbody>\n",
       "</table>\n",
       "</div>"
      ],
      "text/plain": [
       "    subreddit                                              posts  \\\n",
       "0  philosophy                                          New Razor   \n",
       "1  philosophy  A new tradition is detected in academic philos...   \n",
       "2  philosophy  Eilish McColgan breaks her own European 10K re...   \n",
       "3  philosophy                              The Agents of Justice   \n",
       "4  philosophy  Philosophy about best friends. It explains whe...   \n",
       "\n",
       "                                           tokenized  \n",
       "0                                       [new, razor]  \n",
       "1  [a, new, tradition, is, detected, in, academic...  \n",
       "2  [eilish, mccolgan, breaks, her, own, european,...  \n",
       "3                         [the, agents, of, justice]  \n",
       "4  [philosophy, about, best, friends, it, explain...  "
      ]
     },
     "execution_count": 66,
     "metadata": {},
     "output_type": "execute_result"
    }
   ],
   "source": [
    "phi_df.head()"
   ]
  },
  {
   "cell_type": "code",
   "execution_count": 67,
   "id": "aac879b3-793a-49ad-b18e-16dd46e11bff",
   "metadata": {},
   "outputs": [
    {
     "data": {
      "text/plain": [
       "218933"
      ]
     },
     "execution_count": 67,
     "metadata": {},
     "output_type": "execute_result"
    }
   ],
   "source": [
    "total_length(phi_df['tokenized'])"
   ]
  },
  {
   "cell_type": "markdown",
   "id": "961e8aa2-421b-4942-b6e8-160e78efe58f",
   "metadata": {},
   "source": [
    "**Observations:** <br>\n",
    "symbols such as '?', '(', and ')' are removed. <br>"
   ]
  },
  {
   "cell_type": "markdown",
   "id": "9f92f0d3-e63c-4344-958d-6040d5a83761",
   "metadata": {},
   "source": [
    "### b. Remove Stop Words"
   ]
  },
  {
   "cell_type": "code",
   "execution_count": 68,
   "id": "3a9573d5-304e-4003-a931-dd3c63bf0ab0",
   "metadata": {},
   "outputs": [
    {
     "data": {
      "text/html": [
       "<div>\n",
       "<style scoped>\n",
       "    .dataframe tbody tr th:only-of-type {\n",
       "        vertical-align: middle;\n",
       "    }\n",
       "\n",
       "    .dataframe tbody tr th {\n",
       "        vertical-align: top;\n",
       "    }\n",
       "\n",
       "    .dataframe thead th {\n",
       "        text-align: right;\n",
       "    }\n",
       "</style>\n",
       "<table border=\"1\" class=\"dataframe\">\n",
       "  <thead>\n",
       "    <tr style=\"text-align: right;\">\n",
       "      <th></th>\n",
       "      <th>subreddit</th>\n",
       "      <th>posts</th>\n",
       "      <th>tokenized</th>\n",
       "    </tr>\n",
       "  </thead>\n",
       "  <tbody>\n",
       "    <tr>\n",
       "      <th>0</th>\n",
       "      <td>philosophy</td>\n",
       "      <td>New Razor</td>\n",
       "      <td>[new, razor]</td>\n",
       "    </tr>\n",
       "    <tr>\n",
       "      <th>1</th>\n",
       "      <td>philosophy</td>\n",
       "      <td>A new tradition is detected in academic philos...</td>\n",
       "      <td>[a, new, tradition, is, detected, in, academic...</td>\n",
       "    </tr>\n",
       "    <tr>\n",
       "      <th>2</th>\n",
       "      <td>philosophy</td>\n",
       "      <td>Eilish McColgan breaks her own European 10K re...</td>\n",
       "      <td>[eilish, mccolgan, breaks, her, own, european,...</td>\n",
       "    </tr>\n",
       "    <tr>\n",
       "      <th>3</th>\n",
       "      <td>philosophy</td>\n",
       "      <td>The Agents of Justice</td>\n",
       "      <td>[the, agents, of, justice]</td>\n",
       "    </tr>\n",
       "    <tr>\n",
       "      <th>4</th>\n",
       "      <td>philosophy</td>\n",
       "      <td>Philosophy about best friends. It explains whe...</td>\n",
       "      <td>[philosophy, about, best, friends, it, explain...</td>\n",
       "    </tr>\n",
       "  </tbody>\n",
       "</table>\n",
       "</div>"
      ],
      "text/plain": [
       "    subreddit                                              posts  \\\n",
       "0  philosophy                                          New Razor   \n",
       "1  philosophy  A new tradition is detected in academic philos...   \n",
       "2  philosophy  Eilish McColgan breaks her own European 10K re...   \n",
       "3  philosophy                              The Agents of Justice   \n",
       "4  philosophy  Philosophy about best friends. It explains whe...   \n",
       "\n",
       "                                           tokenized  \n",
       "0                                       [new, razor]  \n",
       "1  [a, new, tradition, is, detected, in, academic...  \n",
       "2  [eilish, mccolgan, breaks, her, own, european,...  \n",
       "3                         [the, agents, of, justice]  \n",
       "4  [philosophy, about, best, friends, it, explain...  "
      ]
     },
     "execution_count": 68,
     "metadata": {},
     "output_type": "execute_result"
    }
   ],
   "source": [
    "phi_df.head()"
   ]
  },
  {
   "cell_type": "code",
   "execution_count": 69,
   "id": "3b35a387-4c62-4667-aa8a-6f91a587f1f1",
   "metadata": {},
   "outputs": [
    {
     "name": "stderr",
     "output_type": "stream",
     "text": [
      "100%|██████████| 18979/18979 [00:46<00:00, 410.29it/s]\n"
     ]
    }
   ],
   "source": [
    "phi_df['tokenized'] = phi_df['tokenized'].progress_apply(remove_stop_words)"
   ]
  },
  {
   "cell_type": "code",
   "execution_count": 70,
   "id": "f460289f-a0bf-4204-88a9-aa08d204898c",
   "metadata": {},
   "outputs": [
    {
     "data": {
      "text/html": [
       "<div>\n",
       "<style scoped>\n",
       "    .dataframe tbody tr th:only-of-type {\n",
       "        vertical-align: middle;\n",
       "    }\n",
       "\n",
       "    .dataframe tbody tr th {\n",
       "        vertical-align: top;\n",
       "    }\n",
       "\n",
       "    .dataframe thead th {\n",
       "        text-align: right;\n",
       "    }\n",
       "</style>\n",
       "<table border=\"1\" class=\"dataframe\">\n",
       "  <thead>\n",
       "    <tr style=\"text-align: right;\">\n",
       "      <th></th>\n",
       "      <th>subreddit</th>\n",
       "      <th>posts</th>\n",
       "      <th>tokenized</th>\n",
       "    </tr>\n",
       "  </thead>\n",
       "  <tbody>\n",
       "    <tr>\n",
       "      <th>0</th>\n",
       "      <td>philosophy</td>\n",
       "      <td>New Razor</td>\n",
       "      <td>[new, razor]</td>\n",
       "    </tr>\n",
       "    <tr>\n",
       "      <th>1</th>\n",
       "      <td>philosophy</td>\n",
       "      <td>A new tradition is detected in academic philos...</td>\n",
       "      <td>[new, tradition, detected, academic, philosoph...</td>\n",
       "    </tr>\n",
       "    <tr>\n",
       "      <th>2</th>\n",
       "      <td>philosophy</td>\n",
       "      <td>Eilish McColgan breaks her own European 10K re...</td>\n",
       "      <td>[eilish, mccolgan, breaks, own, european, 10k,...</td>\n",
       "    </tr>\n",
       "    <tr>\n",
       "      <th>3</th>\n",
       "      <td>philosophy</td>\n",
       "      <td>The Agents of Justice</td>\n",
       "      <td>[agents, justice]</td>\n",
       "    </tr>\n",
       "    <tr>\n",
       "      <th>4</th>\n",
       "      <td>philosophy</td>\n",
       "      <td>Philosophy about best friends. It explains whe...</td>\n",
       "      <td>[philosophy, best, friends, explains, whether,...</td>\n",
       "    </tr>\n",
       "  </tbody>\n",
       "</table>\n",
       "</div>"
      ],
      "text/plain": [
       "    subreddit                                              posts  \\\n",
       "0  philosophy                                          New Razor   \n",
       "1  philosophy  A new tradition is detected in academic philos...   \n",
       "2  philosophy  Eilish McColgan breaks her own European 10K re...   \n",
       "3  philosophy                              The Agents of Justice   \n",
       "4  philosophy  Philosophy about best friends. It explains whe...   \n",
       "\n",
       "                                           tokenized  \n",
       "0                                       [new, razor]  \n",
       "1  [new, tradition, detected, academic, philosoph...  \n",
       "2  [eilish, mccolgan, breaks, own, european, 10k,...  \n",
       "3                                  [agents, justice]  \n",
       "4  [philosophy, best, friends, explains, whether,...  "
      ]
     },
     "execution_count": 70,
     "metadata": {},
     "output_type": "execute_result"
    }
   ],
   "source": [
    "phi_df.head()"
   ]
  },
  {
   "cell_type": "code",
   "execution_count": 71,
   "id": "029003b3-5dac-4dde-98d9-e5b24396a046",
   "metadata": {},
   "outputs": [
    {
     "data": {
      "text/plain": [
       "152368"
      ]
     },
     "execution_count": 71,
     "metadata": {},
     "output_type": "execute_result"
    }
   ],
   "source": [
    "total_length(phi_df['tokenized'])"
   ]
  },
  {
   "cell_type": "markdown",
   "id": "3928c01a-b3c2-40eb-b913-10d49fa50b93",
   "metadata": {},
   "source": [
    "**Observations:** <br>\n",
    "for index 0, words such as 'a', 'is', 'in' are removed. <br>\n",
    "By removing stop words, we have reduced the total words from 250k to 178k."
   ]
  },
  {
   "cell_type": "markdown",
   "id": "93fc6d22-2a5f-492a-b418-b4a6c56a36d3",
   "metadata": {},
   "source": [
    "### c. Lemmatizing & Stemming"
   ]
  },
  {
   "cell_type": "code",
   "execution_count": 72,
   "id": "a0455d52-b6d1-4e5a-b275-4fc2230a5149",
   "metadata": {},
   "outputs": [],
   "source": [
    "# Instantiate lemmatizer.\n",
    "lemmatizer = WordNetLemmatizer()"
   ]
  },
  {
   "cell_type": "code",
   "execution_count": 73,
   "id": "a92f7d54-1147-47b1-8f60-672ae162901b",
   "metadata": {},
   "outputs": [
    {
     "name": "stderr",
     "output_type": "stream",
     "text": [
      "100%|██████████| 18979/18979 [00:39<00:00, 486.39it/s]\n"
     ]
    }
   ],
   "source": [
    "# Some of the stop words are still not removed, hence applying stopwords one more time\n",
    "phi_df['tokenized'] = phi_df['tokenized'].progress_apply(remove_stop_words)"
   ]
  },
  {
   "cell_type": "code",
   "execution_count": 74,
   "id": "2c021939-2b2d-4fc3-86d9-9833d3108957",
   "metadata": {},
   "outputs": [],
   "source": [
    "phi_df['lemmatized'] = phi_df['tokenized'].apply(lambda x: [lemmatizer.lemmatize(word) for word in x])"
   ]
  },
  {
   "cell_type": "code",
   "execution_count": 75,
   "id": "3edbd958-0837-4140-b02e-ced6c541f744",
   "metadata": {},
   "outputs": [],
   "source": [
    "phi_df['lemmatized_sentence'] = phi_df['lemmatized'].apply(lambda x: \" \".join(x))"
   ]
  },
  {
   "cell_type": "code",
   "execution_count": 76,
   "id": "9fd768a7-68a5-474c-9336-f1c386977751",
   "metadata": {},
   "outputs": [],
   "source": [
    "# Instantiate PorterStemmer.\n",
    "p_stemmer = PorterStemmer()"
   ]
  },
  {
   "cell_type": "code",
   "execution_count": 77,
   "id": "3c521519-0e29-490d-8153-6dccf7b72236",
   "metadata": {},
   "outputs": [],
   "source": [
    "phi_df['stemmed'] = phi_df['tokenized'].apply(lambda x: [p_stemmer.stem(word) for word in x])"
   ]
  },
  {
   "cell_type": "code",
   "execution_count": 78,
   "id": "0c29aff3-70d8-40af-92fe-7c5d0cdd00e3",
   "metadata": {},
   "outputs": [],
   "source": [
    "phi_df['stemmed_sentence'] = phi_df['stemmed'].apply(lambda x: \" \".join(x))"
   ]
  },
  {
   "cell_type": "code",
   "execution_count": 79,
   "id": "540e33b0-d997-4842-8565-7ba8e1328264",
   "metadata": {},
   "outputs": [
    {
     "data": {
      "text/html": [
       "<div>\n",
       "<style scoped>\n",
       "    .dataframe tbody tr th:only-of-type {\n",
       "        vertical-align: middle;\n",
       "    }\n",
       "\n",
       "    .dataframe tbody tr th {\n",
       "        vertical-align: top;\n",
       "    }\n",
       "\n",
       "    .dataframe thead th {\n",
       "        text-align: right;\n",
       "    }\n",
       "</style>\n",
       "<table border=\"1\" class=\"dataframe\">\n",
       "  <thead>\n",
       "    <tr style=\"text-align: right;\">\n",
       "      <th></th>\n",
       "      <th>subreddit</th>\n",
       "      <th>posts</th>\n",
       "      <th>tokenized</th>\n",
       "      <th>lemmatized</th>\n",
       "      <th>lemmatized_sentence</th>\n",
       "      <th>stemmed</th>\n",
       "      <th>stemmed_sentence</th>\n",
       "    </tr>\n",
       "  </thead>\n",
       "  <tbody>\n",
       "    <tr>\n",
       "      <th>0</th>\n",
       "      <td>philosophy</td>\n",
       "      <td>New Razor</td>\n",
       "      <td>[new, razor]</td>\n",
       "      <td>[new, razor]</td>\n",
       "      <td>new razor</td>\n",
       "      <td>[new, razor]</td>\n",
       "      <td>new razor</td>\n",
       "    </tr>\n",
       "    <tr>\n",
       "      <th>1</th>\n",
       "      <td>philosophy</td>\n",
       "      <td>A new tradition is detected in academic philos...</td>\n",
       "      <td>[new, tradition, detected, academic, philosoph...</td>\n",
       "      <td>[new, tradition, detected, academic, philosoph...</td>\n",
       "      <td>new tradition detected academic philosophy add...</td>\n",
       "      <td>[new, tradit, detect, academ, philosophi, addi...</td>\n",
       "      <td>new tradit detect academ philosophi addit anal...</td>\n",
       "    </tr>\n",
       "    <tr>\n",
       "      <th>2</th>\n",
       "      <td>philosophy</td>\n",
       "      <td>Eilish McColgan breaks her own European 10K re...</td>\n",
       "      <td>[eilish, mccolgan, breaks, european, 10k, reco...</td>\n",
       "      <td>[eilish, mccolgan, break, european, 10k, recor...</td>\n",
       "      <td>eilish mccolgan break european 10k record grea...</td>\n",
       "      <td>[eilish, mccolgan, break, european, 10k, recor...</td>\n",
       "      <td>eilish mccolgan break european 10k record grea...</td>\n",
       "    </tr>\n",
       "    <tr>\n",
       "      <th>3</th>\n",
       "      <td>philosophy</td>\n",
       "      <td>The Agents of Justice</td>\n",
       "      <td>[agents, justice]</td>\n",
       "      <td>[agent, justice]</td>\n",
       "      <td>agent justice</td>\n",
       "      <td>[agent, justic]</td>\n",
       "      <td>agent justic</td>\n",
       "    </tr>\n",
       "    <tr>\n",
       "      <th>4</th>\n",
       "      <td>philosophy</td>\n",
       "      <td>Philosophy about best friends. It explains whe...</td>\n",
       "      <td>[philosophy, best, friends, explains, whether,...</td>\n",
       "      <td>[philosophy, best, friend, explains, whether, ...</td>\n",
       "      <td>philosophy best friend explains whether best f...</td>\n",
       "      <td>[philosophi, best, friend, explain, whether, b...</td>\n",
       "      <td>philosophi best friend explain whether best fr...</td>\n",
       "    </tr>\n",
       "  </tbody>\n",
       "</table>\n",
       "</div>"
      ],
      "text/plain": [
       "    subreddit                                              posts  \\\n",
       "0  philosophy                                          New Razor   \n",
       "1  philosophy  A new tradition is detected in academic philos...   \n",
       "2  philosophy  Eilish McColgan breaks her own European 10K re...   \n",
       "3  philosophy                              The Agents of Justice   \n",
       "4  philosophy  Philosophy about best friends. It explains whe...   \n",
       "\n",
       "                                           tokenized  \\\n",
       "0                                       [new, razor]   \n",
       "1  [new, tradition, detected, academic, philosoph...   \n",
       "2  [eilish, mccolgan, breaks, european, 10k, reco...   \n",
       "3                                  [agents, justice]   \n",
       "4  [philosophy, best, friends, explains, whether,...   \n",
       "\n",
       "                                          lemmatized  \\\n",
       "0                                       [new, razor]   \n",
       "1  [new, tradition, detected, academic, philosoph...   \n",
       "2  [eilish, mccolgan, break, european, 10k, recor...   \n",
       "3                                   [agent, justice]   \n",
       "4  [philosophy, best, friend, explains, whether, ...   \n",
       "\n",
       "                                 lemmatized_sentence  \\\n",
       "0                                          new razor   \n",
       "1  new tradition detected academic philosophy add...   \n",
       "2  eilish mccolgan break european 10k record grea...   \n",
       "3                                      agent justice   \n",
       "4  philosophy best friend explains whether best f...   \n",
       "\n",
       "                                             stemmed  \\\n",
       "0                                       [new, razor]   \n",
       "1  [new, tradit, detect, academ, philosophi, addi...   \n",
       "2  [eilish, mccolgan, break, european, 10k, recor...   \n",
       "3                                    [agent, justic]   \n",
       "4  [philosophi, best, friend, explain, whether, b...   \n",
       "\n",
       "                                    stemmed_sentence  \n",
       "0                                          new razor  \n",
       "1  new tradit detect academ philosophi addit anal...  \n",
       "2  eilish mccolgan break european 10k record grea...  \n",
       "3                                       agent justic  \n",
       "4  philosophi best friend explain whether best fr...  "
      ]
     },
     "execution_count": 79,
     "metadata": {},
     "output_type": "execute_result"
    }
   ],
   "source": [
    "phi_df.head()"
   ]
  },
  {
   "cell_type": "markdown",
   "id": "02e4d5e9-2006-42dc-99f6-9fa3e776bbe2",
   "metadata": {},
   "source": [
    "**Observations:** <br>\n",
    "- Lemmatized: words such as 'traditions' are converted to 'tradition'\n",
    "- Stemmed: words such as 'traditions' are converted to 'tradit', 'detected' are converted to 'detect', 'addition' are converted to 'addit'"
   ]
  },
  {
   "cell_type": "markdown",
   "id": "77fbe112-37b2-4414-ad67-61131c8df61a",
   "metadata": {},
   "source": [
    "**Lemming vs Stemming**"
   ]
  },
  {
   "cell_type": "code",
   "execution_count": 80,
   "id": "1b38e3e2-a998-4bd0-b7ed-4e64dcaa97b4",
   "metadata": {},
   "outputs": [],
   "source": [
    "cvec = CountVectorizer()\n",
    "phi_cvec_lem = pd.DataFrame(\n",
    "    cvec.fit_transform(phi_df['lemmatized_sentence']).toarray(),\n",
    "    columns = cvec.get_feature_names_out()\n",
    ")"
   ]
  },
  {
   "cell_type": "code",
   "execution_count": 81,
   "id": "cdcc6bc6-4539-49e8-b856-71b344752c93",
   "metadata": {},
   "outputs": [],
   "source": [
    "cvec = CountVectorizer()\n",
    "phi_cvec_stem = pd.DataFrame(\n",
    "    cvec.fit_transform(phi_df['stemmed_sentence']).toarray(),\n",
    "    columns = cvec.get_feature_names_out()\n",
    ")"
   ]
  },
  {
   "cell_type": "code",
   "execution_count": 82,
   "id": "5a8d7347-b29e-490d-b9e9-b68e8aa7e4ad",
   "metadata": {},
   "outputs": [
    {
     "data": {
      "text/plain": [
       "19578"
      ]
     },
     "execution_count": 82,
     "metadata": {},
     "output_type": "execute_result"
    }
   ],
   "source": [
    "len(phi_cvec_lem.columns)"
   ]
  },
  {
   "cell_type": "code",
   "execution_count": 83,
   "id": "05a36991-6dfa-4b59-9ca2-509423d144dc",
   "metadata": {},
   "outputs": [
    {
     "data": {
      "text/plain": [
       "16082"
      ]
     },
     "execution_count": 83,
     "metadata": {},
     "output_type": "execute_result"
    }
   ],
   "source": [
    "len(phi_cvec_stem.columns)"
   ]
  },
  {
   "cell_type": "markdown",
   "id": "ddcb17fd-1651-422a-8eab-60d6df500bb8",
   "metadata": {},
   "source": [
    "As stemming condense than lemming, we will drop lemming from our analysis"
   ]
  },
  {
   "cell_type": "code",
   "execution_count": 84,
   "id": "ed80cebc-5e60-4d43-bf6c-650801308537",
   "metadata": {},
   "outputs": [],
   "source": [
    "phi_df.drop(columns = ['lemmatized', 'lemmatized_sentence', 'tokenized', 'stemmed'], inplace = True)"
   ]
  },
  {
   "cell_type": "code",
   "execution_count": 85,
   "id": "1ea2fe44-efad-450f-a280-f921e2ff1670",
   "metadata": {},
   "outputs": [],
   "source": [
    "phi_df.rename(columns = {'posts': 'ori_message', 'stemmed_sentence': 'message'}, inplace = True)"
   ]
  },
  {
   "cell_type": "code",
   "execution_count": 86,
   "id": "48d192d9-e319-47af-9c6f-297a400d1f78",
   "metadata": {},
   "outputs": [],
   "source": [
    "phi_df.drop(phi_df.loc[phi_df['message'].isnull(), ].index, inplace = True)"
   ]
  },
  {
   "cell_type": "markdown",
   "id": "0003bcef-2cb1-4568-98a9-180c084856b3",
   "metadata": {},
   "source": [
    "# 05. COMMON WORDS ANALYSIS"
   ]
  },
  {
   "cell_type": "markdown",
   "id": "bd6339f8-142c-4b76-9e29-dbe2d0e542d5",
   "metadata": {},
   "source": [
    "## a. UNIGRAM"
   ]
  },
  {
   "cell_type": "code",
   "execution_count": 87,
   "id": "df9926c5-19db-4c97-81bf-0275c58a1e54",
   "metadata": {},
   "outputs": [
    {
     "data": {
      "text/html": [
       "<div>\n",
       "<style scoped>\n",
       "    .dataframe tbody tr th:only-of-type {\n",
       "        vertical-align: middle;\n",
       "    }\n",
       "\n",
       "    .dataframe tbody tr th {\n",
       "        vertical-align: top;\n",
       "    }\n",
       "\n",
       "    .dataframe thead th {\n",
       "        text-align: right;\n",
       "    }\n",
       "</style>\n",
       "<table border=\"1\" class=\"dataframe\">\n",
       "  <thead>\n",
       "    <tr style=\"text-align: right;\">\n",
       "      <th></th>\n",
       "      <th>subreddit</th>\n",
       "      <th>ori_message</th>\n",
       "      <th>message</th>\n",
       "    </tr>\n",
       "  </thead>\n",
       "  <tbody>\n",
       "    <tr>\n",
       "      <th>0</th>\n",
       "      <td>science</td>\n",
       "      <td>2022 Nobel Prize in Physiology or Medicine to ...</td>\n",
       "      <td>2022 nobel prize physiolog medicin svant pääbo...</td>\n",
       "    </tr>\n",
       "    <tr>\n",
       "      <th>1</th>\n",
       "      <td>science</td>\n",
       "      <td>India vs South Africa 2nd T20</td>\n",
       "      <td>india vs south africa 2nd t20</td>\n",
       "    </tr>\n",
       "    <tr>\n",
       "      <th>2</th>\n",
       "      <td>science</td>\n",
       "      <td>Want a better relationship with your dog? Thes...</td>\n",
       "      <td>want better relationship dog 7 factor key</td>\n",
       "    </tr>\n",
       "    <tr>\n",
       "      <th>3</th>\n",
       "      <td>science</td>\n",
       "      <td>Record avian flu outbreak sees 48m birds culle...</td>\n",
       "      <td>record avian flu outbreak see 48m bird cull uk eu</td>\n",
       "    </tr>\n",
       "    <tr>\n",
       "      <th>4</th>\n",
       "      <td>science</td>\n",
       "      <td>In this review article, we focus on the effect...</td>\n",
       "      <td>review articl focu effect oxid fatti acid deri...</td>\n",
       "    </tr>\n",
       "  </tbody>\n",
       "</table>\n",
       "</div>"
      ],
      "text/plain": [
       "  subreddit                                        ori_message  \\\n",
       "0   science  2022 Nobel Prize in Physiology or Medicine to ...   \n",
       "1   science                      India vs South Africa 2nd T20   \n",
       "2   science  Want a better relationship with your dog? Thes...   \n",
       "3   science  Record avian flu outbreak sees 48m birds culle...   \n",
       "4   science  In this review article, we focus on the effect...   \n",
       "\n",
       "                                             message  \n",
       "0  2022 nobel prize physiolog medicin svant pääbo...  \n",
       "1                      india vs south africa 2nd t20  \n",
       "2          want better relationship dog 7 factor key  \n",
       "3  record avian flu outbreak see 48m bird cull uk eu  \n",
       "4  review articl focu effect oxid fatti acid deri...  "
      ]
     },
     "execution_count": 87,
     "metadata": {},
     "output_type": "execute_result"
    }
   ],
   "source": [
    "sci_df.head()"
   ]
  },
  {
   "cell_type": "code",
   "execution_count": 88,
   "id": "7516a8e3-110d-46b6-9e9a-089f1cd3a5a1",
   "metadata": {},
   "outputs": [
    {
     "data": {
      "text/html": [
       "<div>\n",
       "<style scoped>\n",
       "    .dataframe tbody tr th:only-of-type {\n",
       "        vertical-align: middle;\n",
       "    }\n",
       "\n",
       "    .dataframe tbody tr th {\n",
       "        vertical-align: top;\n",
       "    }\n",
       "\n",
       "    .dataframe thead th {\n",
       "        text-align: right;\n",
       "    }\n",
       "</style>\n",
       "<table border=\"1\" class=\"dataframe\">\n",
       "  <thead>\n",
       "    <tr style=\"text-align: right;\">\n",
       "      <th></th>\n",
       "      <th>subreddit</th>\n",
       "      <th>ori_message</th>\n",
       "      <th>message</th>\n",
       "    </tr>\n",
       "  </thead>\n",
       "  <tbody>\n",
       "    <tr>\n",
       "      <th>0</th>\n",
       "      <td>philosophy</td>\n",
       "      <td>New Razor</td>\n",
       "      <td>new razor</td>\n",
       "    </tr>\n",
       "    <tr>\n",
       "      <th>1</th>\n",
       "      <td>philosophy</td>\n",
       "      <td>A new tradition is detected in academic philos...</td>\n",
       "      <td>new tradit detect academ philosophi addit anal...</td>\n",
       "    </tr>\n",
       "    <tr>\n",
       "      <th>2</th>\n",
       "      <td>philosophy</td>\n",
       "      <td>Eilish McColgan breaks her own European 10K re...</td>\n",
       "      <td>eilish mccolgan break european 10k record grea...</td>\n",
       "    </tr>\n",
       "    <tr>\n",
       "      <th>3</th>\n",
       "      <td>philosophy</td>\n",
       "      <td>The Agents of Justice</td>\n",
       "      <td>agent justic</td>\n",
       "    </tr>\n",
       "    <tr>\n",
       "      <th>4</th>\n",
       "      <td>philosophy</td>\n",
       "      <td>Philosophy about best friends. It explains whe...</td>\n",
       "      <td>philosophi best friend explain whether best fr...</td>\n",
       "    </tr>\n",
       "  </tbody>\n",
       "</table>\n",
       "</div>"
      ],
      "text/plain": [
       "    subreddit                                        ori_message  \\\n",
       "0  philosophy                                          New Razor   \n",
       "1  philosophy  A new tradition is detected in academic philos...   \n",
       "2  philosophy  Eilish McColgan breaks her own European 10K re...   \n",
       "3  philosophy                              The Agents of Justice   \n",
       "4  philosophy  Philosophy about best friends. It explains whe...   \n",
       "\n",
       "                                             message  \n",
       "0                                          new razor  \n",
       "1  new tradit detect academ philosophi addit anal...  \n",
       "2  eilish mccolgan break european 10k record grea...  \n",
       "3                                       agent justic  \n",
       "4  philosophi best friend explain whether best fr...  "
      ]
     },
     "execution_count": 88,
     "metadata": {},
     "output_type": "execute_result"
    }
   ],
   "source": [
    "phi_df.head()"
   ]
  },
  {
   "cell_type": "code",
   "execution_count": 89,
   "id": "79b71c13-147d-401a-b518-2053b59ef200",
   "metadata": {},
   "outputs": [],
   "source": [
    "sci_cvec_uni = pd.DataFrame(\n",
    "    cvec.fit_transform(sci_df['message']).toarray(),\n",
    "    columns = cvec.get_feature_names_out()\n",
    ")\n",
    "\n",
    "sci_uni = sci_cvec_uni.sum().sort_values(ascending=False)[:20]"
   ]
  },
  {
   "cell_type": "code",
   "execution_count": 90,
   "id": "b85517c4-abf4-42d3-bc50-861550f9869d",
   "metadata": {},
   "outputs": [],
   "source": [
    "phi_cvec_uni = pd.DataFrame(\n",
    "    cvec.fit_transform(phi_df['message']).toarray(),\n",
    "    columns = cvec.get_feature_names_out()\n",
    ")\n",
    "\n",
    "phi_uni = phi_cvec_uni.sum().sort_values(ascending=False)[:20]"
   ]
  },
  {
   "cell_type": "code",
   "execution_count": 91,
   "id": "b9091166-6b66-4456-8acf-68ac748c5e19",
   "metadata": {},
   "outputs": [
    {
     "data": {
      "image/png": "[encoded data removed]",
      "text/plain": [
       "<Figure size 1080x360 with 2 Axes>"
      ]
     },
     "metadata": {
      "needs_background": "light"
     },
     "output_type": "display_data"
    }
   ],
   "source": [
    "fig, ax = plt.subplots(1, 2, figsize=(15,5))\n",
    "\n",
    "ax1 = sns.barplot(x=sci_uni.values, y=sci_uni.index, ax = ax[0])\n",
    "ax1.set_title('Commonly Used Words in Science (Unigram)')\n",
    "\n",
    "ax2 = sns.barplot(x=phi_uni.values, y=phi_uni.index, ax = ax[1])\n",
    "ax2.set_title('Commonly Used Words in Philosophy (Unigram)')\n",
    "\n",
    "plt.show()"
   ]
  },
  {
   "cell_type": "markdown",
   "id": "6a5a6097-2409-4ba4-b8f2-3d7e5d3b6c64",
   "metadata": {},
   "source": [
    "- Top words in Science: studi, new, research, find, covid\n",
    "- Top words in Philosophy: philosophi, philosoph, life, human, moral"
   ]
  },
  {
   "cell_type": "markdown",
   "id": "d0424c1b-00a3-423c-ae81-6fd69e1ab18c",
   "metadata": {},
   "source": [
    "## b. BIGRAM"
   ]
  },
  {
   "cell_type": "code",
   "execution_count": 92,
   "id": "f41993c4-e73b-449e-a96b-f828bb0a3fc7",
   "metadata": {},
   "outputs": [],
   "source": [
    "cvec = CountVectorizer(ngram_range = (2,2), min_df = 2)\n",
    "sci_cvec_bi = pd.DataFrame(\n",
    "    cvec.fit_transform(sci_df['message']).todense(),\n",
    "    columns = cvec.get_feature_names_out()\n",
    ")\n",
    "\n",
    "sci_bi = sci_cvec_bi.sum().sort_values(ascending=False)[:20]"
   ]
  },
  {
   "cell_type": "code",
   "execution_count": 93,
   "id": "c2327375-7b42-4d88-b763-1d2b562b30b5",
   "metadata": {},
   "outputs": [],
   "source": [
    "# 'de' and 'la' are stop words in French, found in Philosophy dataset 'la philosophi', 'de philosophi'\n",
    "cvec = CountVectorizer(ngram_range = (2,2), min_df = 2, stop_words= ['de', 'la'])\n",
    "phi_cvec_bi = pd.DataFrame(\n",
    "    cvec.fit_transform(phi_df['message']).toarray(),\n",
    "    columns = cvec.get_feature_names_out()\n",
    ")\n",
    "\n",
    "phi_bi = phi_cvec_bi.sum().sort_values(ascending=False)[:20]"
   ]
  },
  {
   "cell_type": "code",
   "execution_count": 94,
   "id": "88fb08c5-4714-4d39-9ddb-c55b68be6956",
   "metadata": {},
   "outputs": [
    {
     "data": {
      "image/png": "[encoded data removed]",
      "text/plain": [
       "<Figure size 1080x360 with 2 Axes>"
      ]
     },
     "metadata": {
      "needs_background": "light"
     },
     "output_type": "display_data"
    }
   ],
   "source": [
    "fig, ax = plt.subplots(1, 2, figsize=(15,5))\n",
    "\n",
    "ax1 = sns.barplot(x=sci_bi.values, y=sci_bi.index, ax = ax[0])\n",
    "ax1.set_title('Commonly Used Words in Science (Bigram)')\n",
    "\n",
    "ax2 = sns.barplot(x=phi_bi.values, y=phi_bi.index, ax = ax[1])\n",
    "ax2.set_title('Commonly Used Words in Philosophy (Bigram)')\n",
    "\n",
    "plt.tight_layout()\n",
    "plt.show()"
   ]
  },
  {
   "cell_type": "markdown",
   "id": "bddd445f-37d1-4e7e-aa39-758462eb1d3b",
   "metadata": {},
   "source": [
    "- Top words in Science: covid 19, new studi, studi find\n",
    "- Top words in Philosophy: mean life, open discuss discuss thread"
   ]
  },
  {
   "cell_type": "markdown",
   "id": "f25f0a4d-5186-48bb-8ff3-be1aa03b7a1e",
   "metadata": {},
   "source": [
    "# 06. EDA SUMMARY"
   ]
  },
  {
   "cell_type": "markdown",
   "id": "cc09df37-6c61-4a9a-b4cb-b061bcf82572",
   "metadata": {},
   "source": [
    "In this notebook, special characters such as '?' and stopwords such as 'a', 'the' are removed. Both Stemming & Lemmatizing are done, and Stemming was found to be more efficient in combining the words. Hence, **Stemming tokenization is selected for our subsquent analysis.** Common words analysis were conducted, The top single words in Science are: studi, new, research, find, covid, and the top single words in Philosophy are philosophi, philosoph, life, human, moral. The top double words in science are: covid 19, whereas the top double words for philosophy are: mean life.\n",
    "\n",
    "In general, it can be observed that the top words in science & philosophy do not overlap with each other, and hence the classification modelling are predicted to have good results.\n",
    "\n",
    "Posts that should be pinned for Science Subreddit are Covid19 related posts, whereas for Philosophy are Meaning of Life related posts."
   ]
  },
  {
   "cell_type": "markdown",
   "id": "90333fd3-9fb3-4ddd-a636-4198c3996e1a",
   "metadata": {},
   "source": [
    "# 07. EXPORT DATA"
   ]
  },
  {
   "cell_type": "code",
   "execution_count": 95,
   "id": "c5841959-68cf-4755-9d05-8c05af646c76",
   "metadata": {},
   "outputs": [],
   "source": [
    "sci_df.to_csv('../datasets/science_cleaned_df.csv', index=False)\n",
    "phi_df.to_csv('../datasets/philosophy_cleaned_df.csv', index=False)"
   ]
  }
 ],
 "metadata": {
  "kernelspec": {
   "display_name": "Python [conda env:dsi-sg]",
   "language": "python",
   "name": "conda-env-dsi-sg-py"
  },
  "language_info": {
   "codemirror_mode": {
    "name": "ipython",
    "version": 3
   },
   "file_extension": ".py",
   "mimetype": "text/x-python",
   "name": "python",
   "nbconvert_exporter": "python",
   "pygments_lexer": "ipython3",
   "version": "3.8.13"
  }
 },
 "nbformat": 4,
 "nbformat_minor": 5
}
