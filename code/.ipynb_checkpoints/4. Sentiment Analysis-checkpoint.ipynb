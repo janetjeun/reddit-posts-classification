{
 "cells": [
  {
   "cell_type": "markdown",
   "id": "856ec6a7-0a82-4dd1-a061-8e5aa0759660",
   "metadata": {},
   "source": [
    "<img src=\"http://imgur.com/1ZcRyrc.png\" style=\"float: left; margin: 20px; height: 55px\">\n",
    "\n",
    "# Project 3: Classification Model Analysis <br>\n",
    "**Notebook 4: Sentiment Analysis, Conclusion & Recommendation**"
   ]
  },
  {
   "cell_type": "markdown",
   "id": "d94c5c0b-9f0c-4268-bf2e-7d71808e365e",
   "metadata": {
    "tags": []
   },
   "source": [
    "## TABLE OF CONTENTS"
   ]
  },
  {
   "cell_type": "markdown",
   "id": "c3dae6da-938d-420d-b7e4-2a1da5d8bad8",
   "metadata": {
    "tags": []
   },
   "source": [
    "**1. Web Scrapping** <br>\n",
    "**2. Data Cleaning & EDA** <br>\n",
    "**3. Modelling, Hyper-parameter tuning, Model Selection** <br>\n",
    "**4. Sentiment Analysis, Conclusion & Recommendation (This Notebook)** <br>\n",
    "\n",
    "- [01. Library & Datasets](#01.-LIBRARY-&-DATASETS) <br>\n",
    "- [02. Data Overviews](#02.-DATA-OVERVIEWS) <br>\n",
    "- [03. Sentiment Analysis](#03.-SENTIMENT-ANALYSIS) <br>\n",
    "- [04. Conclusion & Recommendation](#04.-CONCLUSION-&-RECOMMENDATION) <br>"
   ]
  },
  {
   "cell_type": "markdown",
   "id": "9c003501-e1f5-453b-bc5f-0e4d2e692878",
   "metadata": {
    "tags": []
   },
   "source": [
    "# 01. LIBRARY & DATA IMPORT"
   ]
  },
  {
   "cell_type": "code",
   "execution_count": 1,
   "id": "61827ee2-f18f-40f7-ab64-cdaa16214bd2",
   "metadata": {},
   "outputs": [],
   "source": [
    "import pandas as pd\n",
    "import matplotlib.pyplot as plt\n",
    "import seaborn as sns\n",
    "import numpy as np\n",
    "import re\n",
    "from tqdm import tqdm \n",
    "from transformers import pipeline\n",
    "\n",
    "from nltk.sentiment.vader import SentimentIntensityAnalyzer\n",
    "\n",
    "from sklearn.model_selection import train_test_split, GridSearchCV\n",
    "from sklearn.pipeline import Pipeline\n",
    "from sklearn.feature_extraction.text import CountVectorizer\n",
    "from sklearn.metrics import plot_roc_curve, roc_auc_score, accuracy_score, f1_score\n",
    "\n",
    "pd.set_option('display.max_columns', None)\n",
    "tqdm.pandas()"
   ]
  },
  {
   "cell_type": "code",
   "execution_count": 2,
   "id": "b6c86388-1d80-416d-b1f1-d2bb296eadac",
   "metadata": {},
   "outputs": [],
   "source": [
    "sci = pd.read_csv('../datasets/science_cleaned_df.csv')\n",
    "phi = pd.read_csv('../datasets/philosophy_cleaned_df.csv')"
   ]
  },
  {
   "cell_type": "markdown",
   "id": "4327a2d7-2e57-47bb-aec6-06de6da74315",
   "metadata": {
    "tags": []
   },
   "source": [
    "# 02. DATA OVERVIEWS"
   ]
  },
  {
   "cell_type": "code",
   "execution_count": 3,
   "id": "3ad73251-b780-4d1e-8334-e94a2333e7cc",
   "metadata": {},
   "outputs": [
    {
     "data": {
      "text/html": [
       "<div>\n",
       "<style scoped>\n",
       "    .dataframe tbody tr th:only-of-type {\n",
       "        vertical-align: middle;\n",
       "    }\n",
       "\n",
       "    .dataframe tbody tr th {\n",
       "        vertical-align: top;\n",
       "    }\n",
       "\n",
       "    .dataframe thead th {\n",
       "        text-align: right;\n",
       "    }\n",
       "</style>\n",
       "<table border=\"1\" class=\"dataframe\">\n",
       "  <thead>\n",
       "    <tr style=\"text-align: right;\">\n",
       "      <th></th>\n",
       "      <th>subreddit</th>\n",
       "      <th>ori_message</th>\n",
       "      <th>message</th>\n",
       "    </tr>\n",
       "  </thead>\n",
       "  <tbody>\n",
       "    <tr>\n",
       "      <th>0</th>\n",
       "      <td>science</td>\n",
       "      <td>2022 Nobel Prize in Physiology or Medicine to ...</td>\n",
       "      <td>2022 nobel prize physiolog medicin svant pääbo...</td>\n",
       "    </tr>\n",
       "    <tr>\n",
       "      <th>1</th>\n",
       "      <td>science</td>\n",
       "      <td>India vs South Africa 2nd T20</td>\n",
       "      <td>india vs south africa 2nd t20</td>\n",
       "    </tr>\n",
       "    <tr>\n",
       "      <th>2</th>\n",
       "      <td>science</td>\n",
       "      <td>Want a better relationship with your dog? Thes...</td>\n",
       "      <td>want better relationship dog 7 factor key</td>\n",
       "    </tr>\n",
       "    <tr>\n",
       "      <th>3</th>\n",
       "      <td>science</td>\n",
       "      <td>Record avian flu outbreak sees 48m birds culle...</td>\n",
       "      <td>record avian flu outbreak see 48m bird cull uk eu</td>\n",
       "    </tr>\n",
       "    <tr>\n",
       "      <th>4</th>\n",
       "      <td>science</td>\n",
       "      <td>In this review article, we focus on the effect...</td>\n",
       "      <td>review articl focu effect oxid fatti acid deri...</td>\n",
       "    </tr>\n",
       "  </tbody>\n",
       "</table>\n",
       "</div>"
      ],
      "text/plain": [
       "  subreddit                                        ori_message  \\\n",
       "0   science  2022 Nobel Prize in Physiology or Medicine to ...   \n",
       "1   science                      India vs South Africa 2nd T20   \n",
       "2   science  Want a better relationship with your dog? Thes...   \n",
       "3   science  Record avian flu outbreak sees 48m birds culle...   \n",
       "4   science  In this review article, we focus on the effect...   \n",
       "\n",
       "                                             message  \n",
       "0  2022 nobel prize physiolog medicin svant pääbo...  \n",
       "1                      india vs south africa 2nd t20  \n",
       "2          want better relationship dog 7 factor key  \n",
       "3  record avian flu outbreak see 48m bird cull uk eu  \n",
       "4  review articl focu effect oxid fatti acid deri...  "
      ]
     },
     "execution_count": 3,
     "metadata": {},
     "output_type": "execute_result"
    }
   ],
   "source": [
    "sci.head()"
   ]
  },
  {
   "cell_type": "code",
   "execution_count": 4,
   "id": "b6058d09-f3ce-4a62-aac7-3bf3fde192b9",
   "metadata": {},
   "outputs": [],
   "source": [
    "# Drop null value\n",
    "sci.drop(sci.loc[sci['message'].isnull(), ].index, inplace = True)\n",
    "phi.drop(phi.loc[phi['message'].isnull(), ].index, inplace = True)"
   ]
  },
  {
   "cell_type": "markdown",
   "id": "df882933-33f2-4f4f-bbba-c0766efde184",
   "metadata": {},
   "source": [
    "Recap of the most common words as shown in notebook 2:"
   ]
  },
  {
   "cell_type": "code",
   "execution_count": 5,
   "id": "f41993c4-e73b-449e-a96b-f828bb0a3fc7",
   "metadata": {},
   "outputs": [],
   "source": [
    "cvec = CountVectorizer(ngram_range = (2,2), min_df = 2)\n",
    "sci_cvec_bi = pd.DataFrame(\n",
    "    cvec.fit_transform(sci['message']).todense(),\n",
    "    columns = cvec.get_feature_names_out()\n",
    ")\n",
    "\n",
    "sci_bi = sci_cvec_bi.sum().sort_values(ascending=False)[:5]"
   ]
  },
  {
   "cell_type": "code",
   "execution_count": 6,
   "id": "c2327375-7b42-4d88-b763-1d2b562b30b5",
   "metadata": {},
   "outputs": [],
   "source": [
    "# 'de' and 'la' are stop words in French, found in Philosophy dataset 'la philosophi', 'de philosophi'\n",
    "cvec = CountVectorizer(ngram_range = (2,2), min_df = 2, stop_words= ['de', 'la'])\n",
    "phi_cvec_bi = pd.DataFrame(\n",
    "    cvec.fit_transform(phi['message']).toarray(),\n",
    "    columns = cvec.get_feature_names_out()\n",
    ")\n",
    "\n",
    "phi_bi = phi_cvec_bi.sum().sort_values(ascending=False)[:5]"
   ]
  },
  {
   "cell_type": "code",
   "execution_count": 7,
   "id": "88fb08c5-4714-4d39-9ddb-c55b68be6956",
   "metadata": {},
   "outputs": [
    {
     "data": {
      "image/png": "[encoded data removed]",
      "text/plain": [
       "<Figure size 1080x360 with 2 Axes>"
      ]
     },
     "metadata": {
      "needs_background": "light"
     },
     "output_type": "display_data"
    }
   ],
   "source": [
    "fig, ax = plt.subplots(1, 2, figsize=(15,5))\n",
    "\n",
    "ax1 = sns.barplot(x=sci_bi.values, y=sci_bi.index, ax = ax[0])\n",
    "ax1.set_title('Commonly Used Words in Science (Bigram)')\n",
    "\n",
    "ax2 = sns.barplot(x=phi_bi.values, y=phi_bi.index, ax = ax[1])\n",
    "ax2.set_title('Commonly Used Words in Philosophy (Bigram)')\n",
    "\n",
    "plt.tight_layout()\n",
    "plt.show()"
   ]
  },
  {
   "cell_type": "markdown",
   "id": "181b16c4-e8a3-46c9-bac5-218126c377ff",
   "metadata": {},
   "source": [
    "- Top words in Science: covid 19, new studi, studi find\n",
    "- Top words in Philosophy: mean life, open discuss discuss thread"
   ]
  },
  {
   "cell_type": "markdown",
   "id": "808f13d8-1a33-4876-9fd6-ef734154353c",
   "metadata": {
    "tags": []
   },
   "source": [
    "# 03. SENTIMENT ANALYSIS"
   ]
  },
  {
   "cell_type": "markdown",
   "id": "55b15f2b-5667-423e-a4e0-b28fbc64d6ce",
   "metadata": {},
   "source": [
    "Analyze the sentiment analysis from each of the subreddits - Science and Philosopy, as well as the major topic from each subreddit - Covid 19 (Science) and Meaning of Life (Philosophy). As a fact-based subreddits, the posts should be delivered in a neutral tone to enhance the credibility of the posts. It should also be noted that the original sentences are not demojised as the majority of our datasets do not contain any emoji. The sentiment of the posts will be trained using Hugging Face [*cardiffnlp/twitter-roberta-base-sentiment-latest*](https://huggingface.co/cardiffnlp/twitter-roberta-base-sentiment-latest). This model was trained on ~124 million tweets from January 2018 to December 2021, and has included Covid Sentiments in the model."
   ]
  },
  {
   "cell_type": "markdown",
   "id": "a1c58dc7-3d7b-4dcc-aef8-6f625fdf29e9",
   "metadata": {},
   "source": [
    "## a. Science Sentiment Analysis"
   ]
  },
  {
   "cell_type": "code",
   "execution_count": 8,
   "id": "80a4051a-1109-47ae-9364-5c831ac1df40",
   "metadata": {},
   "outputs": [
    {
     "name": "stderr",
     "output_type": "stream",
     "text": [
      "Some weights of the model checkpoint at cardiffnlp/twitter-roberta-base-sentiment-latest were not used when initializing RobertaForSequenceClassification: ['roberta.pooler.dense.weight', 'roberta.pooler.dense.bias']\n",
      "- This IS expected if you are initializing RobertaForSequenceClassification from the checkpoint of a model trained on another task or with another architecture (e.g. initializing a BertForSequenceClassification model from a BertForPreTraining model).\n",
      "- This IS NOT expected if you are initializing RobertaForSequenceClassification from the checkpoint of a model that you expect to be exactly identical (initializing a BertForSequenceClassification model from a BertForSequenceClassification model).\n"
     ]
    }
   ],
   "source": [
    "senti = pipeline(\"sentiment-analysis\", model=\"cardiffnlp/twitter-roberta-base-sentiment-latest\")"
   ]
  },
  {
   "cell_type": "code",
   "execution_count": 9,
   "id": "5eac2b5e-e46d-4452-b210-9e75de385405",
   "metadata": {},
   "outputs": [
    {
     "name": "stderr",
     "output_type": "stream",
     "text": [
      "100%|██████████| 23698/23698 [17:02<00:00, 23.18it/s]\n"
     ]
    }
   ],
   "source": [
    "sci['sentiment'] = sci['ori_message'].progress_apply(senti)"
   ]
  },
  {
   "cell_type": "code",
   "execution_count": 15,
   "id": "3bb29a87-552a-4009-818c-9d24a7173fbb",
   "metadata": {},
   "outputs": [],
   "source": [
    "sci['label'] = [senti[0]['label'] for senti in sci['sentiment']]"
   ]
  },
  {
   "cell_type": "code",
   "execution_count": null,
   "id": "6c7faff4-9ffe-492d-8e65-741304ee3c03",
   "metadata": {},
   "outputs": [
    {
     "data": {
      "text/html": [
       "<div>\n",
       "<style scoped>\n",
       "    .dataframe tbody tr th:only-of-type {\n",
       "        vertical-align: middle;\n",
       "    }\n",
       "\n",
       "    .dataframe tbody tr th {\n",
       "        vertical-align: top;\n",
       "    }\n",
       "\n",
       "    .dataframe thead th {\n",
       "        text-align: right;\n",
       "    }\n",
       "</style>\n",
       "<table border=\"1\" class=\"dataframe\">\n",
       "  <thead>\n",
       "    <tr style=\"text-align: right;\">\n",
       "      <th></th>\n",
       "      <th>subreddit</th>\n",
       "      <th>ori_message</th>\n",
       "      <th>message</th>\n",
       "      <th>sentiment</th>\n",
       "      <th>label</th>\n",
       "    </tr>\n",
       "  </thead>\n",
       "  <tbody>\n",
       "    <tr>\n",
       "      <th>0</th>\n",
       "      <td>science</td>\n",
       "      <td>2022 Nobel Prize in Physiology or Medicine to ...</td>\n",
       "      <td>2022 nobel prize physiolog medicin svant pääbo...</td>\n",
       "      <td>[{'label': 'Positive', 'score': 0.536259472370...</td>\n",
       "      <td>Positive</td>\n",
       "    </tr>\n",
       "    <tr>\n",
       "      <th>1</th>\n",
       "      <td>science</td>\n",
       "      <td>India vs South Africa 2nd T20</td>\n",
       "      <td>india vs south africa 2nd t20</td>\n",
       "      <td>[{'label': 'Neutral', 'score': 0.9182463288307...</td>\n",
       "      <td>Neutral</td>\n",
       "    </tr>\n",
       "    <tr>\n",
       "      <th>2</th>\n",
       "      <td>science</td>\n",
       "      <td>Want a better relationship with your dog? Thes...</td>\n",
       "      <td>want better relationship dog 7 factor key</td>\n",
       "      <td>[{'label': 'Positive', 'score': 0.753991186618...</td>\n",
       "      <td>Positive</td>\n",
       "    </tr>\n",
       "    <tr>\n",
       "      <th>3</th>\n",
       "      <td>science</td>\n",
       "      <td>Record avian flu outbreak sees 48m birds culle...</td>\n",
       "      <td>record avian flu outbreak see 48m bird cull uk eu</td>\n",
       "      <td>[{'label': 'Negative', 'score': 0.810266971588...</td>\n",
       "      <td>Negative</td>\n",
       "    </tr>\n",
       "    <tr>\n",
       "      <th>4</th>\n",
       "      <td>science</td>\n",
       "      <td>In this review article, we focus on the effect...</td>\n",
       "      <td>review articl focu effect oxid fatti acid deri...</td>\n",
       "      <td>[{'label': 'Neutral', 'score': 0.9199040532112...</td>\n",
       "      <td>Neutral</td>\n",
       "    </tr>\n",
       "  </tbody>\n",
       "</table>\n",
       "</div>"
      ],
      "text/plain": [
       "  subreddit                                        ori_message  \\\n",
       "0   science  2022 Nobel Prize in Physiology or Medicine to ...   \n",
       "1   science                      India vs South Africa 2nd T20   \n",
       "2   science  Want a better relationship with your dog? Thes...   \n",
       "3   science  Record avian flu outbreak sees 48m birds culle...   \n",
       "4   science  In this review article, we focus on the effect...   \n",
       "\n",
       "                                             message  \\\n",
       "0  2022 nobel prize physiolog medicin svant pääbo...   \n",
       "1                      india vs south africa 2nd t20   \n",
       "2          want better relationship dog 7 factor key   \n",
       "3  record avian flu outbreak see 48m bird cull uk eu   \n",
       "4  review articl focu effect oxid fatti acid deri...   \n",
       "\n",
       "                                           sentiment     label  \n",
       "0  [{'label': 'Positive', 'score': 0.536259472370...  Positive  \n",
       "1  [{'label': 'Neutral', 'score': 0.9182463288307...   Neutral  \n",
       "2  [{'label': 'Positive', 'score': 0.753991186618...  Positive  \n",
       "3  [{'label': 'Negative', 'score': 0.810266971588...  Negative  \n",
       "4  [{'label': 'Neutral', 'score': 0.9199040532112...   Neutral  "
      ]
     },
     "execution_count": 16,
     "metadata": {},
     "output_type": "execute_result"
    }
   ],
   "source": [
    "sci.head()"
   ]
  },
  {
   "cell_type": "code",
   "execution_count": 17,
   "id": "46b1c60c-292e-4dea-a6d5-7380a112a0b0",
   "metadata": {},
   "outputs": [
    {
     "data": {
      "text/plain": [
       "Neutral     0.680859\n",
       "Negative    0.188792\n",
       "Positive    0.130349\n",
       "Name: label, dtype: float64"
      ]
     },
     "execution_count": 17,
     "metadata": {},
     "output_type": "execute_result"
    }
   ],
   "source": [
    "sci['label'].value_counts(normalize = True)"
   ]
  },
  {
   "cell_type": "code",
   "execution_count": 39,
   "id": "49e3d3ea-9f48-48b5-90e5-87c646736a92",
   "metadata": {},
   "outputs": [
    {
     "data": {
      "image/png": "[encoded data removed]",
      "text/plain": [
       "<Figure size 432x288 with 1 Axes>"
      ]
     },
     "metadata": {
      "needs_background": "light"
     },
     "output_type": "display_data"
    }
   ],
   "source": [
    "ax1 = sns.countplot(x = sci['label'])\n",
    "ax1.set_title('Science Reddit Sentiment Analysis')\n",
    "\n",
    "plt.show();"
   ]
  },
  {
   "cell_type": "code",
   "execution_count": 31,
   "id": "fca2eb27-ca78-4816-8e39-f2438741cd19",
   "metadata": {},
   "outputs": [
    {
     "data": {
      "text/html": [
       "<div>\n",
       "<style scoped>\n",
       "    .dataframe tbody tr th:only-of-type {\n",
       "        vertical-align: middle;\n",
       "    }\n",
       "\n",
       "    .dataframe tbody tr th {\n",
       "        vertical-align: top;\n",
       "    }\n",
       "\n",
       "    .dataframe thead th {\n",
       "        text-align: right;\n",
       "    }\n",
       "</style>\n",
       "<table border=\"1\" class=\"dataframe\">\n",
       "  <thead>\n",
       "    <tr style=\"text-align: right;\">\n",
       "      <th></th>\n",
       "      <th>ori_message</th>\n",
       "      <th>sentiment</th>\n",
       "    </tr>\n",
       "  </thead>\n",
       "  <tbody>\n",
       "    <tr>\n",
       "      <th>0</th>\n",
       "      <td>2022 Nobel Prize in Physiology or Medicine to Svante Pääbo for his discoveries concerning the genomes of extinct hominins and human evolution</td>\n",
       "      <td>[{'label': 'Positive', 'score': 0.5362594723701477}]</td>\n",
       "    </tr>\n",
       "    <tr>\n",
       "      <th>2</th>\n",
       "      <td>Want a better relationship with your dog? These 7 factors are key</td>\n",
       "      <td>[{'label': 'Positive', 'score': 0.7539911866188049}]</td>\n",
       "    </tr>\n",
       "    <tr>\n",
       "      <th>7</th>\n",
       "      <td>The Nobel Prize in Physiology or Medicine 2022: Awarded to Svante Pääbo \"for his discoveries concerning the genomes of extinct hominins and human evolution\"</td>\n",
       "      <td>[{'label': 'Positive', 'score': 0.7330279350280762}]</td>\n",
       "    </tr>\n",
       "    <tr>\n",
       "      <th>11</th>\n",
       "      <td>Svante Pääbo Wins Nobel Prize In Medicine For Discoveries On Human Evolution</td>\n",
       "      <td>[{'label': 'Positive', 'score': 0.662182629108429}]</td>\n",
       "    </tr>\n",
       "    <tr>\n",
       "      <th>14</th>\n",
       "      <td>Nobel win for Swede who unlocked secrets of Neanderthal DNA</td>\n",
       "      <td>[{'label': 'Positive', 'score': 0.674126148223877}]</td>\n",
       "    </tr>\n",
       "  </tbody>\n",
       "</table>\n",
       "</div>"
      ],
      "text/plain": [
       "                                                                                                                                                     ori_message                                             sentiment\n",
       "0                  2022 Nobel Prize in Physiology or Medicine to Svante Pääbo for his discoveries concerning the genomes of extinct hominins and human evolution  [{'label': 'Positive', 'score': 0.5362594723701477}]\n",
       "2                                                                                              Want a better relationship with your dog? These 7 factors are key  [{'label': 'Positive', 'score': 0.7539911866188049}]\n",
       "7   The Nobel Prize in Physiology or Medicine 2022: Awarded to Svante Pääbo \"for his discoveries concerning the genomes of extinct hominins and human evolution\"  [{'label': 'Positive', 'score': 0.7330279350280762}]\n",
       "11                                                                                  Svante Pääbo Wins Nobel Prize In Medicine For Discoveries On Human Evolution   [{'label': 'Positive', 'score': 0.662182629108429}]\n",
       "14                                                                                                   Nobel win for Swede who unlocked secrets of Neanderthal DNA   [{'label': 'Positive', 'score': 0.674126148223877}]"
      ]
     },
     "execution_count": 31,
     "metadata": {},
     "output_type": "execute_result"
    }
   ],
   "source": [
    "pd.options.display.max_colwidth = 500\n",
    "sci[sci['label'] == 'Positive'][['ori_message', 'sentiment']].head()"
   ]
  },
  {
   "cell_type": "code",
   "execution_count": 32,
   "id": "5684050d-00bc-475f-99aa-c4e4e39970cf",
   "metadata": {},
   "outputs": [
    {
     "data": {
      "text/html": [
       "<div>\n",
       "<style scoped>\n",
       "    .dataframe tbody tr th:only-of-type {\n",
       "        vertical-align: middle;\n",
       "    }\n",
       "\n",
       "    .dataframe tbody tr th {\n",
       "        vertical-align: top;\n",
       "    }\n",
       "\n",
       "    .dataframe thead th {\n",
       "        text-align: right;\n",
       "    }\n",
       "</style>\n",
       "<table border=\"1\" class=\"dataframe\">\n",
       "  <thead>\n",
       "    <tr style=\"text-align: right;\">\n",
       "      <th></th>\n",
       "      <th>ori_message</th>\n",
       "      <th>sentiment</th>\n",
       "    </tr>\n",
       "  </thead>\n",
       "  <tbody>\n",
       "    <tr>\n",
       "      <th>3</th>\n",
       "      <td>Record avian flu outbreak sees 48m birds culled in UK and EU</td>\n",
       "      <td>[{'label': 'Negative', 'score': 0.8102669715881348}]</td>\n",
       "    </tr>\n",
       "    <tr>\n",
       "      <th>32</th>\n",
       "      <td>Researchers \"astonished\" by the number of individuals who consider sex dolls to be their ideal romantic partner</td>\n",
       "      <td>[{'label': 'Negative', 'score': 0.7364408373832703}]</td>\n",
       "    </tr>\n",
       "    <tr>\n",
       "      <th>36</th>\n",
       "      <td>More than 60% of family caregivers of individuals with Alzheimer's disease (AD) experienced at least mild depressive symptoms already at the time the individual with AD was diagnosed. In one third of them, depressive symptoms worsened during a five-year follow-up</td>\n",
       "      <td>[{'label': 'Negative', 'score': 0.6442731618881226}]</td>\n",
       "    </tr>\n",
       "    <tr>\n",
       "      <th>44</th>\n",
       "      <td>New research demonstrates that political ideology can taint logical reasoning</td>\n",
       "      <td>[{'label': 'Negative', 'score': 0.6413462162017822}]</td>\n",
       "    </tr>\n",
       "    <tr>\n",
       "      <th>50</th>\n",
       "      <td>/r/bullshit</td>\n",
       "      <td>[{'label': 'Negative', 'score': 0.8961129188537598}]</td>\n",
       "    </tr>\n",
       "  </tbody>\n",
       "</table>\n",
       "</div>"
      ],
      "text/plain": [
       "                                                                                                                                                                                                                                                                ori_message                                             sentiment\n",
       "3                                                                                                                                                                                                              Record avian flu outbreak sees 48m birds culled in UK and EU  [{'label': 'Negative', 'score': 0.8102669715881348}]\n",
       "32                                                                                                                                                          Researchers \"astonished\" by the number of individuals who consider sex dolls to be their ideal romantic partner  [{'label': 'Negative', 'score': 0.7364408373832703}]\n",
       "36  More than 60% of family caregivers of individuals with Alzheimer's disease (AD) experienced at least mild depressive symptoms already at the time the individual with AD was diagnosed. In one third of them, depressive symptoms worsened during a five-year follow-up  [{'label': 'Negative', 'score': 0.6442731618881226}]\n",
       "44                                                                                                                                                                                            New research demonstrates that political ideology can taint logical reasoning  [{'label': 'Negative', 'score': 0.6413462162017822}]\n",
       "50                                                                                                                                                                                                                                                              /r/bullshit  [{'label': 'Negative', 'score': 0.8961129188537598}]"
      ]
     },
     "execution_count": 32,
     "metadata": {},
     "output_type": "execute_result"
    }
   ],
   "source": [
    "sci[sci['label'] == 'Negative'][['ori_message', 'sentiment']].head()"
   ]
  },
  {
   "cell_type": "markdown",
   "id": "99208948-7fe7-4ba0-960e-850dbbbff8cd",
   "metadata": {},
   "source": [
    "**Observations:** <br>\n",
    "- 68% of posts are delivered in a neutral tone\n",
    "- 18% of posts are flagged as 'Positive'. Posts that contain 'wins' are often classified as Positive Sentiment.\n",
    "- 13% of posts are flagged as 'Negative'."
   ]
  },
  {
   "cell_type": "markdown",
   "id": "06a6cd78-3f06-456a-8505-c642b8918c5d",
   "metadata": {},
   "source": [
    "## b. Philosophy Sentiment Analysis"
   ]
  },
  {
   "cell_type": "code",
   "execution_count": 33,
   "id": "2fe866d0-cb85-43bf-9edf-e8c856929ad1",
   "metadata": {},
   "outputs": [
    {
     "name": "stderr",
     "output_type": "stream",
     "text": [
      "100%|██████████| 18114/18114 [10:26<00:00, 28.90it/s]\n"
     ]
    }
   ],
   "source": [
    "phi['sentiment'] = phi['ori_message'].progress_apply(senti)"
   ]
  },
  {
   "cell_type": "code",
   "execution_count": 34,
   "id": "cac7aef5-9975-4f43-8dae-76d08a81745c",
   "metadata": {},
   "outputs": [],
   "source": [
    "phi['label'] = [senti[0]['label'] for senti in phi['sentiment']]"
   ]
  },
  {
   "cell_type": "code",
   "execution_count": 35,
   "id": "03282544-556a-4f34-b36b-5308cb54732a",
   "metadata": {},
   "outputs": [
    {
     "data": {
      "text/html": [
       "<div>\n",
       "<style scoped>\n",
       "    .dataframe tbody tr th:only-of-type {\n",
       "        vertical-align: middle;\n",
       "    }\n",
       "\n",
       "    .dataframe tbody tr th {\n",
       "        vertical-align: top;\n",
       "    }\n",
       "\n",
       "    .dataframe thead th {\n",
       "        text-align: right;\n",
       "    }\n",
       "</style>\n",
       "<table border=\"1\" class=\"dataframe\">\n",
       "  <thead>\n",
       "    <tr style=\"text-align: right;\">\n",
       "      <th></th>\n",
       "      <th>subreddit</th>\n",
       "      <th>ori_message</th>\n",
       "      <th>message</th>\n",
       "      <th>sentiment</th>\n",
       "      <th>label</th>\n",
       "    </tr>\n",
       "  </thead>\n",
       "  <tbody>\n",
       "    <tr>\n",
       "      <th>0</th>\n",
       "      <td>philosophy</td>\n",
       "      <td>New Razor</td>\n",
       "      <td>new razor</td>\n",
       "      <td>[{'label': 'Neutral', 'score': 0.7694630026817322}]</td>\n",
       "      <td>Neutral</td>\n",
       "    </tr>\n",
       "    <tr>\n",
       "      <th>1</th>\n",
       "      <td>philosophy</td>\n",
       "      <td>A new tradition is detected in academic philosophy. In addition to \"analytic\" and \"continental\" traditions, a science-oriented tradition emerged (e.g., philosophy of science and experimental philosophy)—and its graduates seem to have better odds of getting a permanent position in academia!</td>\n",
       "      <td>new tradit detect academ philosophi addit analyt continent tradit scienc orient tradit emerg e g philosophi scienc experiment philosophi graduat seem better odd get perman posit academia</td>\n",
       "      <td>[{'label': 'Positive', 'score': 0.7993433475494385}]</td>\n",
       "      <td>Positive</td>\n",
       "    </tr>\n",
       "    <tr>\n",
       "      <th>2</th>\n",
       "      <td>philosophy</td>\n",
       "      <td>Eilish McColgan breaks her own European 10K record in Great North Run</td>\n",
       "      <td>eilish mccolgan break european 10k record great north run</td>\n",
       "      <td>[{'label': 'Positive', 'score': 0.6338369250297546}]</td>\n",
       "      <td>Positive</td>\n",
       "    </tr>\n",
       "    <tr>\n",
       "      <th>3</th>\n",
       "      <td>philosophy</td>\n",
       "      <td>The Agents of Justice</td>\n",
       "      <td>agent justic</td>\n",
       "      <td>[{'label': 'Neutral', 'score': 0.8418698310852051}]</td>\n",
       "      <td>Neutral</td>\n",
       "    </tr>\n",
       "    <tr>\n",
       "      <th>4</th>\n",
       "      <td>philosophy</td>\n",
       "      <td>Philosophy about best friends. It explains whether our best friends are really special or it is just an illusion.</td>\n",
       "      <td>philosophi best friend explain whether best friend realli special just illus</td>\n",
       "      <td>[{'label': 'Positive', 'score': 0.4850733280181885}]</td>\n",
       "      <td>Positive</td>\n",
       "    </tr>\n",
       "  </tbody>\n",
       "</table>\n",
       "</div>"
      ],
      "text/plain": [
       "    subreddit                                                                                                                                                                                                                                                                                         ori_message                                                                                                                                                                                     message  \\\n",
       "0  philosophy                                                                                                                                                                                                                                                                                           New Razor                                                                                                                                                                                   new razor   \n",
       "1  philosophy  A new tradition is detected in academic philosophy. In addition to \"analytic\" and \"continental\" traditions, a science-oriented tradition emerged (e.g., philosophy of science and experimental philosophy)—and its graduates seem to have better odds of getting a permanent position in academia!  new tradit detect academ philosophi addit analyt continent tradit scienc orient tradit emerg e g philosophi scienc experiment philosophi graduat seem better odd get perman posit academia   \n",
       "2  philosophy                                                                                                                                                                                                                               Eilish McColgan breaks her own European 10K record in Great North Run                                                                                                                                   eilish mccolgan break european 10k record great north run   \n",
       "3  philosophy                                                                                                                                                                                                                                                                               The Agents of Justice                                                                                                                                                                                agent justic   \n",
       "4  philosophy                                                                                                                                                                                   Philosophy about best friends. It explains whether our best friends are really special or it is just an illusion.                                                                                                                philosophi best friend explain whether best friend realli special just illus   \n",
       "\n",
       "                                              sentiment     label  \n",
       "0   [{'label': 'Neutral', 'score': 0.7694630026817322}]   Neutral  \n",
       "1  [{'label': 'Positive', 'score': 0.7993433475494385}]  Positive  \n",
       "2  [{'label': 'Positive', 'score': 0.6338369250297546}]  Positive  \n",
       "3   [{'label': 'Neutral', 'score': 0.8418698310852051}]   Neutral  \n",
       "4  [{'label': 'Positive', 'score': 0.4850733280181885}]  Positive  "
      ]
     },
     "execution_count": 35,
     "metadata": {},
     "output_type": "execute_result"
    }
   ],
   "source": [
    "phi.head()"
   ]
  },
  {
   "cell_type": "code",
   "execution_count": 36,
   "id": "98c6886f-1d45-492e-91f7-fee5ecbd2e9c",
   "metadata": {},
   "outputs": [
    {
     "data": {
      "text/plain": [
       "Neutral     0.741139\n",
       "Negative    0.177873\n",
       "Positive    0.080987\n",
       "Name: label, dtype: float64"
      ]
     },
     "execution_count": 36,
     "metadata": {},
     "output_type": "execute_result"
    }
   ],
   "source": [
    "phi['label'].value_counts(normalize = True)"
   ]
  },
  {
   "cell_type": "code",
   "execution_count": 38,
   "id": "8acf1b98-f2a4-4009-a2a3-ec4ac8ced8c7",
   "metadata": {},
   "outputs": [
    {
     "data": {
      "image/png": "[encoded data removed]",
      "text/plain": [
       "<Figure size 432x288 with 1 Axes>"
      ]
     },
     "metadata": {
      "needs_background": "light"
     },
     "output_type": "display_data"
    }
   ],
   "source": [
    "ax1 = sns.countplot(x = phi['label'])\n",
    "ax1.set_title('Philosophy Reddit Sentiment Analysis')\n",
    "\n",
    "plt.show();"
   ]
  },
  {
   "cell_type": "code",
   "execution_count": 40,
   "id": "f8416785-4945-43a2-a4a4-40d06f3171d5",
   "metadata": {},
   "outputs": [
    {
     "data": {
      "text/html": [
       "<div>\n",
       "<style scoped>\n",
       "    .dataframe tbody tr th:only-of-type {\n",
       "        vertical-align: middle;\n",
       "    }\n",
       "\n",
       "    .dataframe tbody tr th {\n",
       "        vertical-align: top;\n",
       "    }\n",
       "\n",
       "    .dataframe thead th {\n",
       "        text-align: right;\n",
       "    }\n",
       "</style>\n",
       "<table border=\"1\" class=\"dataframe\">\n",
       "  <thead>\n",
       "    <tr style=\"text-align: right;\">\n",
       "      <th></th>\n",
       "      <th>ori_message</th>\n",
       "      <th>sentiment</th>\n",
       "    </tr>\n",
       "  </thead>\n",
       "  <tbody>\n",
       "    <tr>\n",
       "      <th>1</th>\n",
       "      <td>A new tradition is detected in academic philosophy. In addition to \"analytic\" and \"continental\" traditions, a science-oriented tradition emerged (e.g., philosophy of science and experimental philosophy)—and its graduates seem to have better odds of getting a permanent position in academia!</td>\n",
       "      <td>[{'label': 'Positive', 'score': 0.7993433475494385}]</td>\n",
       "    </tr>\n",
       "    <tr>\n",
       "      <th>2</th>\n",
       "      <td>Eilish McColgan breaks her own European 10K record in Great North Run</td>\n",
       "      <td>[{'label': 'Positive', 'score': 0.6338369250297546}]</td>\n",
       "    </tr>\n",
       "    <tr>\n",
       "      <th>4</th>\n",
       "      <td>Philosophy about best friends. It explains whether our best friends are really special or it is just an illusion.</td>\n",
       "      <td>[{'label': 'Positive', 'score': 0.4850733280181885}]</td>\n",
       "    </tr>\n",
       "    <tr>\n",
       "      <th>5</th>\n",
       "      <td>Making God Appeal to the Business World</td>\n",
       "      <td>[{'label': 'Positive', 'score': 0.7506788969039917}]</td>\n",
       "    </tr>\n",
       "    <tr>\n",
       "      <th>23</th>\n",
       "      <td>Aristotle claims that things that are true and just prevail over their opposites</td>\n",
       "      <td>[{'label': 'Positive', 'score': 0.5009223818778992}]</td>\n",
       "    </tr>\n",
       "  </tbody>\n",
       "</table>\n",
       "</div>"
      ],
      "text/plain": [
       "                                                                                                                                                                                                                                                                                           ori_message                                             sentiment\n",
       "1   A new tradition is detected in academic philosophy. In addition to \"analytic\" and \"continental\" traditions, a science-oriented tradition emerged (e.g., philosophy of science and experimental philosophy)—and its graduates seem to have better odds of getting a permanent position in academia!  [{'label': 'Positive', 'score': 0.7993433475494385}]\n",
       "2                                                                                                                                                                                                                                Eilish McColgan breaks her own European 10K record in Great North Run  [{'label': 'Positive', 'score': 0.6338369250297546}]\n",
       "4                                                                                                                                                                                    Philosophy about best friends. It explains whether our best friends are really special or it is just an illusion.  [{'label': 'Positive', 'score': 0.4850733280181885}]\n",
       "5                                                                                                                                                                                                                                                              Making God Appeal to the Business World  [{'label': 'Positive', 'score': 0.7506788969039917}]\n",
       "23                                                                                                                                                                                                                    Aristotle claims that things that are true and just prevail over their opposites  [{'label': 'Positive', 'score': 0.5009223818778992}]"
      ]
     },
     "execution_count": 40,
     "metadata": {},
     "output_type": "execute_result"
    }
   ],
   "source": [
    "phi[phi['label'] == 'Positive'][['ori_message', 'sentiment']].head()"
   ]
  },
  {
   "cell_type": "code",
   "execution_count": 41,
   "id": "465bbd55-e22f-42d2-b822-52c2e45bf0d0",
   "metadata": {},
   "outputs": [
    {
     "data": {
      "text/html": [
       "<div>\n",
       "<style scoped>\n",
       "    .dataframe tbody tr th:only-of-type {\n",
       "        vertical-align: middle;\n",
       "    }\n",
       "\n",
       "    .dataframe tbody tr th {\n",
       "        vertical-align: top;\n",
       "    }\n",
       "\n",
       "    .dataframe thead th {\n",
       "        text-align: right;\n",
       "    }\n",
       "</style>\n",
       "<table border=\"1\" class=\"dataframe\">\n",
       "  <thead>\n",
       "    <tr style=\"text-align: right;\">\n",
       "      <th></th>\n",
       "      <th>ori_message</th>\n",
       "      <th>sentiment</th>\n",
       "    </tr>\n",
       "  </thead>\n",
       "  <tbody>\n",
       "    <tr>\n",
       "      <th>16</th>\n",
       "      <td>At our core, most of us are not as good as we think we are - we are a mix of ethically good and bad traits. But can close this ‘character gap’ between who we are and who we think we should be.</td>\n",
       "      <td>[{'label': 'Negative', 'score': 0.5968161225318909}]</td>\n",
       "    </tr>\n",
       "    <tr>\n",
       "      <th>17</th>\n",
       "      <td>Idealism and the Decombination Problem</td>\n",
       "      <td>[{'label': 'Negative', 'score': 0.6122487783432007}]</td>\n",
       "    </tr>\n",
       "    <tr>\n",
       "      <th>20</th>\n",
       "      <td>Students are being held hostage, arrested and shot at Sharif University. This is not getting the attention it deserves.</td>\n",
       "      <td>[{'label': 'Negative', 'score': 0.9083194136619568}]</td>\n",
       "    </tr>\n",
       "    <tr>\n",
       "      <th>21</th>\n",
       "      <td>@danisuarezac__: a la profe de filosofía no le gusta el drill 😔</td>\n",
       "      <td>[{'label': 'Negative', 'score': 0.7344262003898621}]</td>\n",
       "    </tr>\n",
       "    <tr>\n",
       "      <th>24</th>\n",
       "      <td>The harsh reality of good people</td>\n",
       "      <td>[{'label': 'Negative', 'score': 0.7289060354232788}]</td>\n",
       "    </tr>\n",
       "  </tbody>\n",
       "</table>\n",
       "</div>"
      ],
      "text/plain": [
       "                                                                                                                                                                                         ori_message                                             sentiment\n",
       "16  At our core, most of us are not as good as we think we are - we are a mix of ethically good and bad traits. But can close this ‘character gap’ between who we are and who we think we should be.  [{'label': 'Negative', 'score': 0.5968161225318909}]\n",
       "17                                                                                                                                                            Idealism and the Decombination Problem  [{'label': 'Negative', 'score': 0.6122487783432007}]\n",
       "20                                                                           Students are being held hostage, arrested and shot at Sharif University. This is not getting the attention it deserves.  [{'label': 'Negative', 'score': 0.9083194136619568}]\n",
       "21                                                                                                                                   @danisuarezac__: a la profe de filosofía no le gusta el drill 😔  [{'label': 'Negative', 'score': 0.7344262003898621}]\n",
       "24                                                                                                                                                                  The harsh reality of good people  [{'label': 'Negative', 'score': 0.7289060354232788}]"
      ]
     },
     "execution_count": 41,
     "metadata": {},
     "output_type": "execute_result"
    }
   ],
   "source": [
    "phi[phi['label'] == 'Negative'][['ori_message', 'sentiment']].head()"
   ]
  },
  {
   "cell_type": "markdown",
   "id": "98f2d0b3-f40f-41e3-b852-d04ad6873ac0",
   "metadata": {},
   "source": [
    "**Observations:** <br>\n",
    "- 74% of posts are delivered in a neutral tone\n",
    "- 8% of posts are flagged as 'Positive'\n",
    "- 17% of posts are flagged as 'Negative'"
   ]
  },
  {
   "cell_type": "markdown",
   "id": "171ce1e6-c298-49d7-843a-003814dd1737",
   "metadata": {},
   "source": [
    "## c. Science - Covid19 Sentiment"
   ]
  },
  {
   "cell_type": "code",
   "execution_count": 46,
   "id": "be52690f-6176-478c-a1b8-747a5a97ad03",
   "metadata": {},
   "outputs": [],
   "source": [
    "covid19 = sci[sci['message'].str.contains('covid')].copy()"
   ]
  },
  {
   "cell_type": "code",
   "execution_count": 47,
   "id": "d71bf3f9-618f-447c-94c0-56eda2b5d725",
   "metadata": {},
   "outputs": [
    {
     "name": "stdout",
     "output_type": "stream",
     "text": [
      "<class 'pandas.core.frame.DataFrame'>\n",
      "Int64Index: 1583 entries, 15 to 23680\n",
      "Data columns (total 5 columns):\n",
      " #   Column       Non-Null Count  Dtype \n",
      "---  ------       --------------  ----- \n",
      " 0   subreddit    1583 non-null   object\n",
      " 1   ori_message  1583 non-null   object\n",
      " 2   message      1583 non-null   object\n",
      " 3   sentiment    1583 non-null   object\n",
      " 4   label        1583 non-null   object\n",
      "dtypes: object(5)\n",
      "memory usage: 74.2+ KB\n"
     ]
    }
   ],
   "source": [
    "covid19.info()"
   ]
  },
  {
   "cell_type": "code",
   "execution_count": 48,
   "id": "0b630a44-fd9f-4e7b-ad81-30dd1beb517b",
   "metadata": {},
   "outputs": [
    {
     "data": {
      "text/html": [
       "<div>\n",
       "<style scoped>\n",
       "    .dataframe tbody tr th:only-of-type {\n",
       "        vertical-align: middle;\n",
       "    }\n",
       "\n",
       "    .dataframe tbody tr th {\n",
       "        vertical-align: top;\n",
       "    }\n",
       "\n",
       "    .dataframe thead th {\n",
       "        text-align: right;\n",
       "    }\n",
       "</style>\n",
       "<table border=\"1\" class=\"dataframe\">\n",
       "  <thead>\n",
       "    <tr style=\"text-align: right;\">\n",
       "      <th></th>\n",
       "      <th>subreddit</th>\n",
       "      <th>ori_message</th>\n",
       "      <th>message</th>\n",
       "      <th>sentiment</th>\n",
       "      <th>label</th>\n",
       "    </tr>\n",
       "  </thead>\n",
       "  <tbody>\n",
       "    <tr>\n",
       "      <th>15</th>\n",
       "      <td>science</td>\n",
       "      <td>Regular Use of Ivermectin as Prophylaxis for COVID-19 Led Up to a 92% Reduction in COVID-19 Mortality Rate in a Dose-Response Manner: Results of a Prospective Observational Study of a Strictly Controlled Population of 88,012 Subjects</td>\n",
       "      <td>regular use ivermectin prophylaxi covid 19 led 92 reduct covid 19 mortal rate dose respons manner result prospect observ studi strictli control popul 88 012 subject</td>\n",
       "      <td>[{'label': 'Neutral', 'score': 0.8378011584281921}]</td>\n",
       "      <td>Neutral</td>\n",
       "    </tr>\n",
       "    <tr>\n",
       "      <th>117</th>\n",
       "      <td>science</td>\n",
       "      <td>Prevalence and risk factors of sleep problems in Bangladesh during the COVID-19 pandemic: a systematic review and meta-analysis</td>\n",
       "      <td>preval risk factor sleep problem bangladesh covid 19 pandem systemat review meta analysi</td>\n",
       "      <td>[{'label': 'Neutral', 'score': 0.8018679022789001}]</td>\n",
       "      <td>Neutral</td>\n",
       "    </tr>\n",
       "    <tr>\n",
       "      <th>127</th>\n",
       "      <td>science</td>\n",
       "      <td>Effectiveness of mRNA-1273 against infection and COVID-19 hospitalization with SARS-CoV-2 Omicron subvariants: BA.1, BA.2, BA.2.12.1, BA.4, and BA.5</td>\n",
       "      <td>effect mrna 1273 infect covid 19 hospit sar cov 2 omicron subvari ba 1 ba 2 ba 2 12 1 ba 4 ba 5</td>\n",
       "      <td>[{'label': 'Neutral', 'score': 0.8564528822898865}]</td>\n",
       "      <td>Neutral</td>\n",
       "    </tr>\n",
       "    <tr>\n",
       "      <th>128</th>\n",
       "      <td>science</td>\n",
       "      <td>Fasting as key tone for COVID immunity - In a study published in Nature, Karagiannis et al. show that the ketone body β-hydroxybutyrate (BHB) improves COVID-19 disease outcomes.</td>\n",
       "      <td>fast key tone covid immun studi publish natur karagianni et al show keton bodi β hydroxybutyr bhb improv covid 19 diseas outcom</td>\n",
       "      <td>[{'label': 'Neutral', 'score': 0.5860148668289185}]</td>\n",
       "      <td>Neutral</td>\n",
       "    </tr>\n",
       "    <tr>\n",
       "      <th>156</th>\n",
       "      <td>science</td>\n",
       "      <td>In a new meta-analysis, COVID-19 vaccination protected only against few long COVID symptoms</td>\n",
       "      <td>new meta analysi covid 19 vaccin protect long covid symptom</td>\n",
       "      <td>[{'label': 'Neutral', 'score': 0.8187983632087708}]</td>\n",
       "      <td>Neutral</td>\n",
       "    </tr>\n",
       "  </tbody>\n",
       "</table>\n",
       "</div>"
      ],
      "text/plain": [
       "    subreddit                                                                                                                                                                                                                                ori_message                                                                                                                                                               message                                            sentiment    label\n",
       "15    science  Regular Use of Ivermectin as Prophylaxis for COVID-19 Led Up to a 92% Reduction in COVID-19 Mortality Rate in a Dose-Response Manner: Results of a Prospective Observational Study of a Strictly Controlled Population of 88,012 Subjects  regular use ivermectin prophylaxi covid 19 led 92 reduct covid 19 mortal rate dose respons manner result prospect observ studi strictli control popul 88 012 subject  [{'label': 'Neutral', 'score': 0.8378011584281921}]  Neutral\n",
       "117   science                                                                                                            Prevalence and risk factors of sleep problems in Bangladesh during the COVID-19 pandemic: a systematic review and meta-analysis                                                                              preval risk factor sleep problem bangladesh covid 19 pandem systemat review meta analysi  [{'label': 'Neutral', 'score': 0.8018679022789001}]  Neutral\n",
       "127   science                                                                                       Effectiveness of mRNA-1273 against infection and COVID-19 hospitalization with SARS-CoV-2 Omicron subvariants: BA.1, BA.2, BA.2.12.1, BA.4, and BA.5                                                                       effect mrna 1273 infect covid 19 hospit sar cov 2 omicron subvari ba 1 ba 2 ba 2 12 1 ba 4 ba 5  [{'label': 'Neutral', 'score': 0.8564528822898865}]  Neutral\n",
       "128   science                                                          Fasting as key tone for COVID immunity - In a study published in Nature, Karagiannis et al. show that the ketone body β-hydroxybutyrate (BHB) improves COVID-19 disease outcomes.                                       fast key tone covid immun studi publish natur karagianni et al show keton bodi β hydroxybutyr bhb improv covid 19 diseas outcom  [{'label': 'Neutral', 'score': 0.5860148668289185}]  Neutral\n",
       "156   science                                                                                                                                                In a new meta-analysis, COVID-19 vaccination protected only against few long COVID symptoms                                                                                                           new meta analysi covid 19 vaccin protect long covid symptom  [{'label': 'Neutral', 'score': 0.8187983632087708}]  Neutral"
      ]
     },
     "execution_count": 48,
     "metadata": {},
     "output_type": "execute_result"
    }
   ],
   "source": [
    "covid19.head()"
   ]
  },
  {
   "cell_type": "code",
   "execution_count": 49,
   "id": "0a8b20ec-bddf-46df-8af3-9b5f9dfc6fba",
   "metadata": {},
   "outputs": [
    {
     "data": {
      "text/plain": [
       "Neutral     0.629185\n",
       "Negative    0.310802\n",
       "Positive    0.060013\n",
       "Name: label, dtype: float64"
      ]
     },
     "execution_count": 49,
     "metadata": {},
     "output_type": "execute_result"
    }
   ],
   "source": [
    "covid19['label'].value_counts(normalize=True)"
   ]
  },
  {
   "cell_type": "code",
   "execution_count": 50,
   "id": "48a0e9bd-bfdc-43a8-a0c0-6762a04ef3f1",
   "metadata": {},
   "outputs": [
    {
     "data": {
      "image/png": "[encoded data removed]",
      "text/plain": [
       "<Figure size 432x288 with 1 Axes>"
      ]
     },
     "metadata": {
      "needs_background": "light"
     },
     "output_type": "display_data"
    }
   ],
   "source": [
    "sns.countplot(x = covid19['label'])\n",
    "\n",
    "plt.show();"
   ]
  },
  {
   "cell_type": "code",
   "execution_count": 51,
   "id": "bf858dd0-36d4-4204-9ea5-33ec2843669c",
   "metadata": {},
   "outputs": [
    {
     "data": {
      "text/html": [
       "<div>\n",
       "<style scoped>\n",
       "    .dataframe tbody tr th:only-of-type {\n",
       "        vertical-align: middle;\n",
       "    }\n",
       "\n",
       "    .dataframe tbody tr th {\n",
       "        vertical-align: top;\n",
       "    }\n",
       "\n",
       "    .dataframe thead th {\n",
       "        text-align: right;\n",
       "    }\n",
       "</style>\n",
       "<table border=\"1\" class=\"dataframe\">\n",
       "  <thead>\n",
       "    <tr style=\"text-align: right;\">\n",
       "      <th></th>\n",
       "      <th>ori_message</th>\n",
       "      <th>label</th>\n",
       "    </tr>\n",
       "  </thead>\n",
       "  <tbody>\n",
       "    <tr>\n",
       "      <th>282</th>\n",
       "      <td>Exposure to air pollution worsens COVID-19 outcomes, even among the fully vaccinated. Researchers were able to control for the effects of vaccination status, age, sex, race/ethnicity, health insurance status, body mass index, smoking history, etc.</td>\n",
       "      <td>Negative</td>\n",
       "    </tr>\n",
       "    <tr>\n",
       "      <th>290</th>\n",
       "      <td>Exposure to air pollution worsens COVID-19 outcomes, even among the fully vaccinated. Over the long term, pollution is linked to increases in cardiovascular and lung diseases, which are in turn linked to more severe COVID-19 symptoms.</td>\n",
       "      <td>Negative</td>\n",
       "    </tr>\n",
       "    <tr>\n",
       "      <th>315</th>\n",
       "      <td>Trudeau drops COVID Vaccine Mandate because 9 in every 10 Covid-19 Deaths have been among the Triple/Quadruple Vaccinated in the past 3 months</td>\n",
       "      <td>Negative</td>\n",
       "    </tr>\n",
       "  </tbody>\n",
       "</table>\n",
       "</div>"
      ],
      "text/plain": [
       "                                                                                                                                                                                                                                                 ori_message     label\n",
       "282  Exposure to air pollution worsens COVID-19 outcomes, even among the fully vaccinated. Researchers were able to control for the effects of vaccination status, age, sex, race/ethnicity, health insurance status, body mass index, smoking history, etc.  Negative\n",
       "290               Exposure to air pollution worsens COVID-19 outcomes, even among the fully vaccinated. Over the long term, pollution is linked to increases in cardiovascular and lung diseases, which are in turn linked to more severe COVID-19 symptoms.  Negative\n",
       "315                                                                                                           Trudeau drops COVID Vaccine Mandate because 9 in every 10 Covid-19 Deaths have been among the Triple/Quadruple Vaccinated in the past 3 months  Negative"
      ]
     },
     "execution_count": 51,
     "metadata": {},
     "output_type": "execute_result"
    }
   ],
   "source": [
    "# Overview of negative covid19 posts\n",
    "covid19[covid19['label'] == 'Negative'][['ori_message', 'label']].head(3)"
   ]
  },
  {
   "cell_type": "code",
   "execution_count": 52,
   "id": "b590e136-c52e-4ef9-9d13-5c8db12b1aaf",
   "metadata": {},
   "outputs": [
    {
     "data": {
      "text/html": [
       "<div>\n",
       "<style scoped>\n",
       "    .dataframe tbody tr th:only-of-type {\n",
       "        vertical-align: middle;\n",
       "    }\n",
       "\n",
       "    .dataframe tbody tr th {\n",
       "        vertical-align: top;\n",
       "    }\n",
       "\n",
       "    .dataframe thead th {\n",
       "        text-align: right;\n",
       "    }\n",
       "</style>\n",
       "<table border=\"1\" class=\"dataframe\">\n",
       "  <thead>\n",
       "    <tr style=\"text-align: right;\">\n",
       "      <th></th>\n",
       "      <th>ori_message</th>\n",
       "      <th>label</th>\n",
       "    </tr>\n",
       "  </thead>\n",
       "  <tbody>\n",
       "    <tr>\n",
       "      <th>631</th>\n",
       "      <td>New study indicates COVID-19 boosters among vaccinated individuals significantly reduce hospitalization rates, add protection</td>\n",
       "      <td>Positive</td>\n",
       "    </tr>\n",
       "    <tr>\n",
       "      <th>1250</th>\n",
       "      <td>UW Medicine research shows Covid-19 boosters well tolerated by pregnant women</td>\n",
       "      <td>Positive</td>\n",
       "    </tr>\n",
       "    <tr>\n",
       "      <th>1766</th>\n",
       "      <td>Powerful New Antibody Neutralizes All Known COVID Variants</td>\n",
       "      <td>Positive</td>\n",
       "    </tr>\n",
       "  </tbody>\n",
       "</table>\n",
       "</div>"
      ],
      "text/plain": [
       "                                                                                                                        ori_message     label\n",
       "631   New study indicates COVID-19 boosters among vaccinated individuals significantly reduce hospitalization rates, add protection  Positive\n",
       "1250                                                  UW Medicine research shows Covid-19 boosters well tolerated by pregnant women  Positive\n",
       "1766                                                                     Powerful New Antibody Neutralizes All Known COVID Variants  Positive"
      ]
     },
     "execution_count": 52,
     "metadata": {},
     "output_type": "execute_result"
    }
   ],
   "source": [
    "# Overview of neutral covid19 posts\n",
    "covid19[covid19['label'] == 'Positive'][['ori_message', 'label']].head(3)"
   ]
  },
  {
   "cell_type": "markdown",
   "id": "972d9e57-8322-4dee-86d2-c2df8a539cf9",
   "metadata": {},
   "source": [
    "**Observations:** <br>\n",
    "- 63% of posts are delivered in a neutral tone\n",
    "- 6% of posts are flagged as 'Positive'\n",
    "- 31% of posts are flagged as 'Negative'"
   ]
  },
  {
   "cell_type": "markdown",
   "id": "653ff95f-fd0b-4abc-a669-f82d92c11456",
   "metadata": {},
   "source": [
    "## d. Philosophy - Meaning of Life Sentiment"
   ]
  },
  {
   "cell_type": "code",
   "execution_count": 53,
   "id": "42718135-0856-4370-9385-3a772f8499e5",
   "metadata": {},
   "outputs": [],
   "source": [
    "life = phi[phi['message'].str.contains('life')].copy()"
   ]
  },
  {
   "cell_type": "code",
   "execution_count": 54,
   "id": "f0de426b-46d8-44ae-9048-60aaa788a8ae",
   "metadata": {},
   "outputs": [
    {
     "name": "stdout",
     "output_type": "stream",
     "text": [
      "<class 'pandas.core.frame.DataFrame'>\n",
      "Int64Index: 884 entries, 29 to 18976\n",
      "Data columns (total 5 columns):\n",
      " #   Column       Non-Null Count  Dtype \n",
      "---  ------       --------------  ----- \n",
      " 0   subreddit    884 non-null    object\n",
      " 1   ori_message  884 non-null    object\n",
      " 2   message      884 non-null    object\n",
      " 3   sentiment    884 non-null    object\n",
      " 4   label        884 non-null    object\n",
      "dtypes: object(5)\n",
      "memory usage: 41.4+ KB\n"
     ]
    }
   ],
   "source": [
    "life.info()"
   ]
  },
  {
   "cell_type": "code",
   "execution_count": 55,
   "id": "d08e5b0b-41bc-4630-b826-f74cbd7535ba",
   "metadata": {},
   "outputs": [
    {
     "data": {
      "text/html": [
       "<div>\n",
       "<style scoped>\n",
       "    .dataframe tbody tr th:only-of-type {\n",
       "        vertical-align: middle;\n",
       "    }\n",
       "\n",
       "    .dataframe tbody tr th {\n",
       "        vertical-align: top;\n",
       "    }\n",
       "\n",
       "    .dataframe thead th {\n",
       "        text-align: right;\n",
       "    }\n",
       "</style>\n",
       "<table border=\"1\" class=\"dataframe\">\n",
       "  <thead>\n",
       "    <tr style=\"text-align: right;\">\n",
       "      <th></th>\n",
       "      <th>subreddit</th>\n",
       "      <th>ori_message</th>\n",
       "      <th>message</th>\n",
       "      <th>sentiment</th>\n",
       "      <th>label</th>\n",
       "    </tr>\n",
       "  </thead>\n",
       "  <tbody>\n",
       "    <tr>\n",
       "      <th>29</th>\n",
       "      <td>philosophy</td>\n",
       "      <td>Reddit users have created ethics and mores more stringent than real life</td>\n",
       "      <td>reddit user creat ethic more stringent real life</td>\n",
       "      <td>[{'label': 'Negative', 'score': 0.641200602054596}]</td>\n",
       "      <td>Negative</td>\n",
       "    </tr>\n",
       "    <tr>\n",
       "      <th>50</th>\n",
       "      <td>philosophy</td>\n",
       "      <td>is reproducing literally the only purpose of life?</td>\n",
       "      <td>reproduc liter purpos life</td>\n",
       "      <td>[{'label': 'Negative', 'score': 0.7297564744949341}]</td>\n",
       "      <td>Negative</td>\n",
       "    </tr>\n",
       "    <tr>\n",
       "      <th>51</th>\n",
       "      <td>philosophy</td>\n",
       "      <td>is reproducing literally the only purpose to life?</td>\n",
       "      <td>reproduc liter purpos life</td>\n",
       "      <td>[{'label': 'Negative', 'score': 0.7447684407234192}]</td>\n",
       "      <td>Negative</td>\n",
       "    </tr>\n",
       "    <tr>\n",
       "      <th>70</th>\n",
       "      <td>philosophy</td>\n",
       "      <td>“The Only Constant in Life Is Change.”- Heraclitus Yet this statement itself never changes.</td>\n",
       "      <td>constant life chang heraclitu yet statement never chang</td>\n",
       "      <td>[{'label': 'Neutral', 'score': 0.7446965575218201}]</td>\n",
       "      <td>Neutral</td>\n",
       "    </tr>\n",
       "    <tr>\n",
       "      <th>119</th>\n",
       "      <td>philosophy</td>\n",
       "      <td>Celebrity, Wealth, and Meaning in Life</td>\n",
       "      <td>celebr wealth mean life</td>\n",
       "      <td>[{'label': 'Positive', 'score': 0.7339500784873962}]</td>\n",
       "      <td>Positive</td>\n",
       "    </tr>\n",
       "  </tbody>\n",
       "</table>\n",
       "</div>"
      ],
      "text/plain": [
       "      subreddit                                                                                  ori_message                                                  message                                             sentiment     label\n",
       "29   philosophy                     Reddit users have created ethics and mores more stringent than real life         reddit user creat ethic more stringent real life   [{'label': 'Negative', 'score': 0.641200602054596}]  Negative\n",
       "50   philosophy                                           is reproducing literally the only purpose of life?                               reproduc liter purpos life  [{'label': 'Negative', 'score': 0.7297564744949341}]  Negative\n",
       "51   philosophy                                           is reproducing literally the only purpose to life?                               reproduc liter purpos life  [{'label': 'Negative', 'score': 0.7447684407234192}]  Negative\n",
       "70   philosophy  “The Only Constant in Life Is Change.”- Heraclitus Yet this statement itself never changes.  constant life chang heraclitu yet statement never chang   [{'label': 'Neutral', 'score': 0.7446965575218201}]   Neutral\n",
       "119  philosophy                                                       Celebrity, Wealth, and Meaning in Life                                  celebr wealth mean life  [{'label': 'Positive', 'score': 0.7339500784873962}]  Positive"
      ]
     },
     "execution_count": 55,
     "metadata": {},
     "output_type": "execute_result"
    }
   ],
   "source": [
    "life.head()"
   ]
  },
  {
   "cell_type": "code",
   "execution_count": 58,
   "id": "f53097f3-1c88-4b42-a500-475e82e99601",
   "metadata": {},
   "outputs": [
    {
     "data": {
      "text/plain": [
       "Neutral     0.617647\n",
       "Negative    0.207014\n",
       "Positive    0.175339\n",
       "Name: label, dtype: float64"
      ]
     },
     "execution_count": 58,
     "metadata": {},
     "output_type": "execute_result"
    }
   ],
   "source": [
    "life['label'].value_counts(normalize=True)"
   ]
  },
  {
   "cell_type": "code",
   "execution_count": 59,
   "id": "93f750e5-e045-4a47-a47c-c505445bae4f",
   "metadata": {},
   "outputs": [
    {
     "data": {
      "image/png": "[encoded data removed]",
      "text/plain": [
       "<Figure size 432x288 with 1 Axes>"
      ]
     },
     "metadata": {
      "needs_background": "light"
     },
     "output_type": "display_data"
    }
   ],
   "source": [
    "sns.countplot(x = life['label'])\n",
    "\n",
    "plt.show();"
   ]
  },
  {
   "cell_type": "code",
   "execution_count": 56,
   "id": "7d8120d6-8d63-49fd-a180-ab4c45900d96",
   "metadata": {},
   "outputs": [
    {
     "data": {
      "text/html": [
       "<div>\n",
       "<style scoped>\n",
       "    .dataframe tbody tr th:only-of-type {\n",
       "        vertical-align: middle;\n",
       "    }\n",
       "\n",
       "    .dataframe tbody tr th {\n",
       "        vertical-align: top;\n",
       "    }\n",
       "\n",
       "    .dataframe thead th {\n",
       "        text-align: right;\n",
       "    }\n",
       "</style>\n",
       "<table border=\"1\" class=\"dataframe\">\n",
       "  <thead>\n",
       "    <tr style=\"text-align: right;\">\n",
       "      <th></th>\n",
       "      <th>ori_message</th>\n",
       "      <th>label</th>\n",
       "    </tr>\n",
       "  </thead>\n",
       "  <tbody>\n",
       "    <tr>\n",
       "      <th>29</th>\n",
       "      <td>Reddit users have created ethics and mores more stringent than real life</td>\n",
       "      <td>Negative</td>\n",
       "    </tr>\n",
       "    <tr>\n",
       "      <th>50</th>\n",
       "      <td>is reproducing literally the only purpose of life?</td>\n",
       "      <td>Negative</td>\n",
       "    </tr>\n",
       "    <tr>\n",
       "      <th>51</th>\n",
       "      <td>is reproducing literally the only purpose to life?</td>\n",
       "      <td>Negative</td>\n",
       "    </tr>\n",
       "  </tbody>\n",
       "</table>\n",
       "</div>"
      ],
      "text/plain": [
       "                                                                 ori_message     label\n",
       "29  Reddit users have created ethics and mores more stringent than real life  Negative\n",
       "50                        is reproducing literally the only purpose of life?  Negative\n",
       "51                        is reproducing literally the only purpose to life?  Negative"
      ]
     },
     "execution_count": 56,
     "metadata": {},
     "output_type": "execute_result"
    }
   ],
   "source": [
    "# Overview of negative life posts\n",
    "life[life['label'] == 'Negative'][['ori_message', 'label']].head(3)"
   ]
  },
  {
   "cell_type": "code",
   "execution_count": 57,
   "id": "c81bf8f0-39e1-42f8-9a94-3d0e9dc9dae1",
   "metadata": {},
   "outputs": [
    {
     "data": {
      "text/html": [
       "<div>\n",
       "<style scoped>\n",
       "    .dataframe tbody tr th:only-of-type {\n",
       "        vertical-align: middle;\n",
       "    }\n",
       "\n",
       "    .dataframe tbody tr th {\n",
       "        vertical-align: top;\n",
       "    }\n",
       "\n",
       "    .dataframe thead th {\n",
       "        text-align: right;\n",
       "    }\n",
       "</style>\n",
       "<table border=\"1\" class=\"dataframe\">\n",
       "  <thead>\n",
       "    <tr style=\"text-align: right;\">\n",
       "      <th></th>\n",
       "      <th>ori_message</th>\n",
       "      <th>label</th>\n",
       "    </tr>\n",
       "  </thead>\n",
       "  <tbody>\n",
       "    <tr>\n",
       "      <th>119</th>\n",
       "      <td>Celebrity, Wealth, and Meaning in Life</td>\n",
       "      <td>Positive</td>\n",
       "    </tr>\n",
       "    <tr>\n",
       "      <th>141</th>\n",
       "      <td>Only fragments of ancient Greek philosopher Epicurus’s writings remain. Among them are his Principal Doctrines: 40 brilliant, authoritative aphorisms that summarize the Epicurean approach to living a good life — an approach focused on removing pain &amp;amp; anxiety, &amp;amp; on emphasizing friendship &amp;amp; community.</td>\n",
       "      <td>Positive</td>\n",
       "    </tr>\n",
       "    <tr>\n",
       "      <th>168</th>\n",
       "      <td>Ubermensch: An Individual who has maximized their virtues, moral and personal, in all dimensions possible. A Beautiful being with limitless potential, invigorating one with excitement, affirming life itself - Niranjan Krishna</td>\n",
       "      <td>Positive</td>\n",
       "    </tr>\n",
       "  </tbody>\n",
       "</table>\n",
       "</div>"
      ],
      "text/plain": [
       "                                                                                                                                                                                                                                                                                                                  ori_message     label\n",
       "119                                                                                                                                                                                                                                                                                    Celebrity, Wealth, and Meaning in Life  Positive\n",
       "141  Only fragments of ancient Greek philosopher Epicurus’s writings remain. Among them are his Principal Doctrines: 40 brilliant, authoritative aphorisms that summarize the Epicurean approach to living a good life — an approach focused on removing pain &amp; anxiety, &amp; on emphasizing friendship &amp; community.  Positive\n",
       "168                                                                                         Ubermensch: An Individual who has maximized their virtues, moral and personal, in all dimensions possible. A Beautiful being with limitless potential, invigorating one with excitement, affirming life itself - Niranjan Krishna  Positive"
      ]
     },
     "execution_count": 57,
     "metadata": {},
     "output_type": "execute_result"
    }
   ],
   "source": [
    "# Overview of positive life posts\n",
    "life[life['label'] == 'Positive'][['ori_message', 'label']].head(3)"
   ]
  },
  {
   "cell_type": "markdown",
   "id": "411d6f6b-7950-4c07-85cf-f4982c1ced29",
   "metadata": {},
   "source": [
    "**Observations:** <br>\n",
    "- 61% of posts are delivered in a neutral tone\n",
    "- 17% of posts are flagged as 'Positive'\n",
    "- 20% of posts are flagged as 'Negative'"
   ]
  },
  {
   "cell_type": "markdown",
   "id": "7075ade4-a902-4996-9028-5b1a36c26329",
   "metadata": {},
   "source": [
    "## e. Summary of Observations"
   ]
  },
  {
   "cell_type": "markdown",
   "id": "9e649762-d010-49bd-ba66-7902ecf1aaa8",
   "metadata": {},
   "source": [
    "In general, more than 60% of posts are delivered in neutral tone. Observing the remaining 40% of the posts that are labelled as Positive / Negative, some of the datas should be neutral but are categorized otherwise. For example: \"New study indicates COVID-19 boosters among vaccinated individuals significantly reduce hospitalization rates, add protection\" are labelled as positive. Even though this sentence is a positive sentiment, it is delivered in a neutral tone. Hence, it should be categorized as neutral."
   ]
  },
  {
   "cell_type": "markdown",
   "id": "f1235c39-d3c6-4c78-9daf-bccd07282801",
   "metadata": {
    "tags": []
   },
   "source": [
    "# 04. SUMMARY & RECOMMENDATION"
   ]
  },
  {
   "cell_type": "markdown",
   "id": "184945a3-fa3e-4fc1-8abb-7ee8f8c6b9dd",
   "metadata": {},
   "source": [
    "## a. SUMMARY"
   ]
  },
  {
   "cell_type": "markdown",
   "id": "fb0eaeed-fe3a-4abd-8d97-e7224fed81a8",
   "metadata": {},
   "source": [
    "To achieve the mission as set in the above statement, 25000 posts each are scraped from Science Subreddit & Philosophy Subreddit. Next, data cleaning & EDA are done to examine any missing data, outliers, etc as well as to identify trending topics for each subreddits. The trending topic in Science is Covid19, whereas the trending topic in Philosophy is Meaning of Life. Next, stop words are removed from the texts, and tokenization of texts are executed using Stemming. Baseline model are then developed using Multinomial Naive Bayes with hyperparameter tuning of CountVectorizer and TFIDF Vectorizer. TF-IDF are selected as the Vectorizer and will be used to develop the Final Model. Four types of model with hyperparameter tuning are developed: Multinomial Naive Bayes, Logistic Regression, Random Forest, and SVM. Logistic Regression is selected as the final model to classify whether the posts belong to Science or Philosophy subreddit as it the model with highest accuracy model that is not underfitting / overfitting.\n",
    "\n",
    "Next, Sentiment analysis of the overall Science & Philosophy are developed using HuggingFace analysis to highlight posts are delivered in non-neutral tone. Additional sentiment analysis will be developed using HuggingFace for the trending topics from each Science (Covid 19) & Philosophy (Meaning of Life). Over 60% of the posts are flagged as neutral in both Science & Philosophy subreddits.\n",
    "\n",
    "By implementing all the steps mentioned above, if users post in the appropriate subreddits, deliver their posts in a neutral and objective tone, it will greatly reduce the task of Science & Philosophy moderators, as well as improving the overall user experience of reddit readers."
   ]
  },
  {
   "cell_type": "markdown",
   "id": "d154db9d-de95-4707-a515-1b0a0c177c05",
   "metadata": {},
   "source": [
    "## b. Recommendation"
   ]
  },
  {
   "cell_type": "markdown",
   "id": "b69565c6-d1ff-49bb-9771-ce4694cc5034",
   "metadata": {},
   "source": [
    "- Classification Models: Although the final model has more than 90% accuracy, it is only developed using 4 types of classification models. Running Pycaret would be ideal to ensure that we have exhausted all classification models\n",
    "- Sentiment Analysis: We should also manually classify the posts sentiments in order to gauge the accuracy of the models. As shown in earlier segment, there are posts that should be classified as neutral, but are classified as negative. Due to time limitation, only 1 model are developed to analyse the sentiments of the posts. Several huggingface models should be explored and model that yields the best results should be used as the final sentiment analysis model.\n",
    "- Futher studies: To do a multiclass classification on both Science & Philosophy category based on the topics, as well as expanding to other fact-based subreddits such as: r/Economics, r/Astronomy, etc."
   ]
  }
 ],
 "metadata": {
  "kernelspec": {
   "display_name": "Python [conda env:dsi-sg]",
   "language": "python",
   "name": "conda-env-dsi-sg-py"
  },
  "language_info": {
   "codemirror_mode": {
    "name": "ipython",
    "version": 3
   },
   "file_extension": ".py",
   "mimetype": "text/x-python",
   "name": "python",
   "nbconvert_exporter": "python",
   "pygments_lexer": "ipython3",
   "version": "3.8.13"
  }
 },
 "nbformat": 4,
 "nbformat_minor": 5
}
